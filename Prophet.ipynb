{
  "cells": [
    {
      "cell_type": "markdown",
      "metadata": {
        "id": "view-in-github",
        "colab_type": "text"
      },
      "source": [
        "<a href=\"https://colab.research.google.com/github/Rtengmiami/TimeSeries/blob/main/Prophet.ipynb\" target=\"_parent\"><img src=\"https://colab.research.google.com/assets/colab-badge.svg\" alt=\"Open In Colab\"/></a>"
      ]
    },
    {
      "cell_type": "code",
      "execution_count": 1,
      "metadata": {
        "id": "Bc9-zB5HtPf3"
      },
      "outputs": [],
      "source": [
        "import pandas as pd\n",
        "import matplotlib.pyplot as plt\n",
        "import datetime as datetime\n",
        "from prophet import Prophet\n",
        "import seaborn as sns\n",
        "import numpy as np\n",
        "from statsmodels.tools.eval_measures import rmse\n",
        "from sklearn.metrics import mean_squared_error\n",
        "%matplotlib inline"
      ]
    },
    {
      "cell_type": "code",
      "execution_count": 2,
      "metadata": {
        "colab": {
          "base_uri": "https://localhost:8080/",
          "height": 52
        },
        "id": "3AZ5gpnULJaO",
        "outputId": "a95fd019-7c8b-4996-971a-23022c8da767"
      },
      "outputs": [
        {
          "output_type": "execute_result",
          "data": {
            "text/plain": [
              "<Figure size 1296x432 with 0 Axes>"
            ]
          },
          "metadata": {},
          "execution_count": 2
        },
        {
          "output_type": "display_data",
          "data": {
            "text/plain": [
              "<Figure size 1296x432 with 0 Axes>"
            ]
          },
          "metadata": {}
        }
      ],
      "source": [
        "from matplotlib.pyplot import figure\n",
        "\n",
        "figure(figsize=(18, 6))\n"
      ]
    },
    {
      "cell_type": "markdown",
      "metadata": {
        "id": "OrguMhS4Hf8N"
      },
      "source": [
        "### Data Processing\n"
      ]
    },
    {
      "cell_type": "code",
      "execution_count": 3,
      "metadata": {
        "colab": {
          "base_uri": "https://localhost:8080/",
          "height": 206
        },
        "id": "pCEIor5zv73g",
        "outputId": "3656b32e-7fed-4c2b-8ef9-c4aa7f9ba13d"
      },
      "outputs": [
        {
          "output_type": "execute_result",
          "data": {
            "text/plain": [
              "    Timestamp  Open  High   Low  Close  Volume_(BTC)  Volume_(Currency)  \\\n",
              "0  1325317920  4.39  4.39  4.39   4.39      0.455581                2.0   \n",
              "1  1325317980   NaN   NaN   NaN    NaN           NaN                NaN   \n",
              "2  1325318040   NaN   NaN   NaN    NaN           NaN                NaN   \n",
              "3  1325318100   NaN   NaN   NaN    NaN           NaN                NaN   \n",
              "4  1325318160   NaN   NaN   NaN    NaN           NaN                NaN   \n",
              "\n",
              "   Weighted_Price  \n",
              "0            4.39  \n",
              "1             NaN  \n",
              "2             NaN  \n",
              "3             NaN  \n",
              "4             NaN  "
            ],
            "text/html": [
              "\n",
              "  <div id=\"df-6e5022f8-68c7-4dcf-ab44-6d9bebc5024f\">\n",
              "    <div class=\"colab-df-container\">\n",
              "      <div>\n",
              "<style scoped>\n",
              "    .dataframe tbody tr th:only-of-type {\n",
              "        vertical-align: middle;\n",
              "    }\n",
              "\n",
              "    .dataframe tbody tr th {\n",
              "        vertical-align: top;\n",
              "    }\n",
              "\n",
              "    .dataframe thead th {\n",
              "        text-align: right;\n",
              "    }\n",
              "</style>\n",
              "<table border=\"1\" class=\"dataframe\">\n",
              "  <thead>\n",
              "    <tr style=\"text-align: right;\">\n",
              "      <th></th>\n",
              "      <th>Timestamp</th>\n",
              "      <th>Open</th>\n",
              "      <th>High</th>\n",
              "      <th>Low</th>\n",
              "      <th>Close</th>\n",
              "      <th>Volume_(BTC)</th>\n",
              "      <th>Volume_(Currency)</th>\n",
              "      <th>Weighted_Price</th>\n",
              "    </tr>\n",
              "  </thead>\n",
              "  <tbody>\n",
              "    <tr>\n",
              "      <th>0</th>\n",
              "      <td>1325317920</td>\n",
              "      <td>4.39</td>\n",
              "      <td>4.39</td>\n",
              "      <td>4.39</td>\n",
              "      <td>4.39</td>\n",
              "      <td>0.455581</td>\n",
              "      <td>2.0</td>\n",
              "      <td>4.39</td>\n",
              "    </tr>\n",
              "    <tr>\n",
              "      <th>1</th>\n",
              "      <td>1325317980</td>\n",
              "      <td>NaN</td>\n",
              "      <td>NaN</td>\n",
              "      <td>NaN</td>\n",
              "      <td>NaN</td>\n",
              "      <td>NaN</td>\n",
              "      <td>NaN</td>\n",
              "      <td>NaN</td>\n",
              "    </tr>\n",
              "    <tr>\n",
              "      <th>2</th>\n",
              "      <td>1325318040</td>\n",
              "      <td>NaN</td>\n",
              "      <td>NaN</td>\n",
              "      <td>NaN</td>\n",
              "      <td>NaN</td>\n",
              "      <td>NaN</td>\n",
              "      <td>NaN</td>\n",
              "      <td>NaN</td>\n",
              "    </tr>\n",
              "    <tr>\n",
              "      <th>3</th>\n",
              "      <td>1325318100</td>\n",
              "      <td>NaN</td>\n",
              "      <td>NaN</td>\n",
              "      <td>NaN</td>\n",
              "      <td>NaN</td>\n",
              "      <td>NaN</td>\n",
              "      <td>NaN</td>\n",
              "      <td>NaN</td>\n",
              "    </tr>\n",
              "    <tr>\n",
              "      <th>4</th>\n",
              "      <td>1325318160</td>\n",
              "      <td>NaN</td>\n",
              "      <td>NaN</td>\n",
              "      <td>NaN</td>\n",
              "      <td>NaN</td>\n",
              "      <td>NaN</td>\n",
              "      <td>NaN</td>\n",
              "      <td>NaN</td>\n",
              "    </tr>\n",
              "  </tbody>\n",
              "</table>\n",
              "</div>\n",
              "      <button class=\"colab-df-convert\" onclick=\"convertToInteractive('df-6e5022f8-68c7-4dcf-ab44-6d9bebc5024f')\"\n",
              "              title=\"Convert this dataframe to an interactive table.\"\n",
              "              style=\"display:none;\">\n",
              "        \n",
              "  <svg xmlns=\"http://www.w3.org/2000/svg\" height=\"24px\"viewBox=\"0 0 24 24\"\n",
              "       width=\"24px\">\n",
              "    <path d=\"M0 0h24v24H0V0z\" fill=\"none\"/>\n",
              "    <path d=\"M18.56 5.44l.94 2.06.94-2.06 2.06-.94-2.06-.94-.94-2.06-.94 2.06-2.06.94zm-11 1L8.5 8.5l.94-2.06 2.06-.94-2.06-.94L8.5 2.5l-.94 2.06-2.06.94zm10 10l.94 2.06.94-2.06 2.06-.94-2.06-.94-.94-2.06-.94 2.06-2.06.94z\"/><path d=\"M17.41 7.96l-1.37-1.37c-.4-.4-.92-.59-1.43-.59-.52 0-1.04.2-1.43.59L10.3 9.45l-7.72 7.72c-.78.78-.78 2.05 0 2.83L4 21.41c.39.39.9.59 1.41.59.51 0 1.02-.2 1.41-.59l7.78-7.78 2.81-2.81c.8-.78.8-2.07 0-2.86zM5.41 20L4 18.59l7.72-7.72 1.47 1.35L5.41 20z\"/>\n",
              "  </svg>\n",
              "      </button>\n",
              "      \n",
              "  <style>\n",
              "    .colab-df-container {\n",
              "      display:flex;\n",
              "      flex-wrap:wrap;\n",
              "      gap: 12px;\n",
              "    }\n",
              "\n",
              "    .colab-df-convert {\n",
              "      background-color: #E8F0FE;\n",
              "      border: none;\n",
              "      border-radius: 50%;\n",
              "      cursor: pointer;\n",
              "      display: none;\n",
              "      fill: #1967D2;\n",
              "      height: 32px;\n",
              "      padding: 0 0 0 0;\n",
              "      width: 32px;\n",
              "    }\n",
              "\n",
              "    .colab-df-convert:hover {\n",
              "      background-color: #E2EBFA;\n",
              "      box-shadow: 0px 1px 2px rgba(60, 64, 67, 0.3), 0px 1px 3px 1px rgba(60, 64, 67, 0.15);\n",
              "      fill: #174EA6;\n",
              "    }\n",
              "\n",
              "    [theme=dark] .colab-df-convert {\n",
              "      background-color: #3B4455;\n",
              "      fill: #D2E3FC;\n",
              "    }\n",
              "\n",
              "    [theme=dark] .colab-df-convert:hover {\n",
              "      background-color: #434B5C;\n",
              "      box-shadow: 0px 1px 3px 1px rgba(0, 0, 0, 0.15);\n",
              "      filter: drop-shadow(0px 1px 2px rgba(0, 0, 0, 0.3));\n",
              "      fill: #FFFFFF;\n",
              "    }\n",
              "  </style>\n",
              "\n",
              "      <script>\n",
              "        const buttonEl =\n",
              "          document.querySelector('#df-6e5022f8-68c7-4dcf-ab44-6d9bebc5024f button.colab-df-convert');\n",
              "        buttonEl.style.display =\n",
              "          google.colab.kernel.accessAllowed ? 'block' : 'none';\n",
              "\n",
              "        async function convertToInteractive(key) {\n",
              "          const element = document.querySelector('#df-6e5022f8-68c7-4dcf-ab44-6d9bebc5024f');\n",
              "          const dataTable =\n",
              "            await google.colab.kernel.invokeFunction('convertToInteractive',\n",
              "                                                     [key], {});\n",
              "          if (!dataTable) return;\n",
              "\n",
              "          const docLinkHtml = 'Like what you see? Visit the ' +\n",
              "            '<a target=\"_blank\" href=https://colab.research.google.com/notebooks/data_table.ipynb>data table notebook</a>'\n",
              "            + ' to learn more about interactive tables.';\n",
              "          element.innerHTML = '';\n",
              "          dataTable['output_type'] = 'display_data';\n",
              "          await google.colab.output.renderOutput(dataTable, element);\n",
              "          const docLink = document.createElement('div');\n",
              "          docLink.innerHTML = docLinkHtml;\n",
              "          element.appendChild(docLink);\n",
              "        }\n",
              "      </script>\n",
              "    </div>\n",
              "  </div>\n",
              "  "
            ]
          },
          "metadata": {},
          "execution_count": 3
        }
      ],
      "source": [
        "df= pd.read_csv('/content/drive/MyDrive/NTUST/111-1/資料探勘 mon/期末報告/bitcoin_data.csv')\n",
        "# df['Timestamp']=pd.to_datetime(df['Timestamp'], unit='s')\n",
        "df.head()"
      ]
    },
    {
      "cell_type": "code",
      "execution_count": 4,
      "metadata": {
        "colab": {
          "base_uri": "https://localhost:8080/",
          "height": 206
        },
        "id": "8zv7zVSJyckj",
        "outputId": "aaf57607-bf6f-4a17-9229-4d2d79680efc"
      },
      "outputs": [
        {
          "output_type": "execute_result",
          "data": {
            "text/plain": [
              "          ds         y\n",
              "0 2012-01-01  4.615202\n",
              "1 2012-01-08  6.012609\n",
              "2 2012-01-15  6.846930\n",
              "3 2012-01-22  6.332164\n",
              "4 2012-01-29  6.125839"
            ],
            "text/html": [
              "\n",
              "  <div id=\"df-0c94da6d-f01f-4f67-84bc-b3d90bd62c4d\">\n",
              "    <div class=\"colab-df-container\">\n",
              "      <div>\n",
              "<style scoped>\n",
              "    .dataframe tbody tr th:only-of-type {\n",
              "        vertical-align: middle;\n",
              "    }\n",
              "\n",
              "    .dataframe tbody tr th {\n",
              "        vertical-align: top;\n",
              "    }\n",
              "\n",
              "    .dataframe thead th {\n",
              "        text-align: right;\n",
              "    }\n",
              "</style>\n",
              "<table border=\"1\" class=\"dataframe\">\n",
              "  <thead>\n",
              "    <tr style=\"text-align: right;\">\n",
              "      <th></th>\n",
              "      <th>ds</th>\n",
              "      <th>y</th>\n",
              "    </tr>\n",
              "  </thead>\n",
              "  <tbody>\n",
              "    <tr>\n",
              "      <th>0</th>\n",
              "      <td>2012-01-01</td>\n",
              "      <td>4.615202</td>\n",
              "    </tr>\n",
              "    <tr>\n",
              "      <th>1</th>\n",
              "      <td>2012-01-08</td>\n",
              "      <td>6.012609</td>\n",
              "    </tr>\n",
              "    <tr>\n",
              "      <th>2</th>\n",
              "      <td>2012-01-15</td>\n",
              "      <td>6.846930</td>\n",
              "    </tr>\n",
              "    <tr>\n",
              "      <th>3</th>\n",
              "      <td>2012-01-22</td>\n",
              "      <td>6.332164</td>\n",
              "    </tr>\n",
              "    <tr>\n",
              "      <th>4</th>\n",
              "      <td>2012-01-29</td>\n",
              "      <td>6.125839</td>\n",
              "    </tr>\n",
              "  </tbody>\n",
              "</table>\n",
              "</div>\n",
              "      <button class=\"colab-df-convert\" onclick=\"convertToInteractive('df-0c94da6d-f01f-4f67-84bc-b3d90bd62c4d')\"\n",
              "              title=\"Convert this dataframe to an interactive table.\"\n",
              "              style=\"display:none;\">\n",
              "        \n",
              "  <svg xmlns=\"http://www.w3.org/2000/svg\" height=\"24px\"viewBox=\"0 0 24 24\"\n",
              "       width=\"24px\">\n",
              "    <path d=\"M0 0h24v24H0V0z\" fill=\"none\"/>\n",
              "    <path d=\"M18.56 5.44l.94 2.06.94-2.06 2.06-.94-2.06-.94-.94-2.06-.94 2.06-2.06.94zm-11 1L8.5 8.5l.94-2.06 2.06-.94-2.06-.94L8.5 2.5l-.94 2.06-2.06.94zm10 10l.94 2.06.94-2.06 2.06-.94-2.06-.94-.94-2.06-.94 2.06-2.06.94z\"/><path d=\"M17.41 7.96l-1.37-1.37c-.4-.4-.92-.59-1.43-.59-.52 0-1.04.2-1.43.59L10.3 9.45l-7.72 7.72c-.78.78-.78 2.05 0 2.83L4 21.41c.39.39.9.59 1.41.59.51 0 1.02-.2 1.41-.59l7.78-7.78 2.81-2.81c.8-.78.8-2.07 0-2.86zM5.41 20L4 18.59l7.72-7.72 1.47 1.35L5.41 20z\"/>\n",
              "  </svg>\n",
              "      </button>\n",
              "      \n",
              "  <style>\n",
              "    .colab-df-container {\n",
              "      display:flex;\n",
              "      flex-wrap:wrap;\n",
              "      gap: 12px;\n",
              "    }\n",
              "\n",
              "    .colab-df-convert {\n",
              "      background-color: #E8F0FE;\n",
              "      border: none;\n",
              "      border-radius: 50%;\n",
              "      cursor: pointer;\n",
              "      display: none;\n",
              "      fill: #1967D2;\n",
              "      height: 32px;\n",
              "      padding: 0 0 0 0;\n",
              "      width: 32px;\n",
              "    }\n",
              "\n",
              "    .colab-df-convert:hover {\n",
              "      background-color: #E2EBFA;\n",
              "      box-shadow: 0px 1px 2px rgba(60, 64, 67, 0.3), 0px 1px 3px 1px rgba(60, 64, 67, 0.15);\n",
              "      fill: #174EA6;\n",
              "    }\n",
              "\n",
              "    [theme=dark] .colab-df-convert {\n",
              "      background-color: #3B4455;\n",
              "      fill: #D2E3FC;\n",
              "    }\n",
              "\n",
              "    [theme=dark] .colab-df-convert:hover {\n",
              "      background-color: #434B5C;\n",
              "      box-shadow: 0px 1px 3px 1px rgba(0, 0, 0, 0.15);\n",
              "      filter: drop-shadow(0px 1px 2px rgba(0, 0, 0, 0.3));\n",
              "      fill: #FFFFFF;\n",
              "    }\n",
              "  </style>\n",
              "\n",
              "      <script>\n",
              "        const buttonEl =\n",
              "          document.querySelector('#df-0c94da6d-f01f-4f67-84bc-b3d90bd62c4d button.colab-df-convert');\n",
              "        buttonEl.style.display =\n",
              "          google.colab.kernel.accessAllowed ? 'block' : 'none';\n",
              "\n",
              "        async function convertToInteractive(key) {\n",
              "          const element = document.querySelector('#df-0c94da6d-f01f-4f67-84bc-b3d90bd62c4d');\n",
              "          const dataTable =\n",
              "            await google.colab.kernel.invokeFunction('convertToInteractive',\n",
              "                                                     [key], {});\n",
              "          if (!dataTable) return;\n",
              "\n",
              "          const docLinkHtml = 'Like what you see? Visit the ' +\n",
              "            '<a target=\"_blank\" href=https://colab.research.google.com/notebooks/data_table.ipynb>data table notebook</a>'\n",
              "            + ' to learn more about interactive tables.';\n",
              "          element.innerHTML = '';\n",
              "          dataTable['output_type'] = 'display_data';\n",
              "          await google.colab.output.renderOutput(dataTable, element);\n",
              "          const docLink = document.createElement('div');\n",
              "          docLink.innerHTML = docLinkHtml;\n",
              "          element.appendChild(docLink);\n",
              "        }\n",
              "      </script>\n",
              "    </div>\n",
              "  </div>\n",
              "  "
            ]
          },
          "metadata": {},
          "execution_count": 4
        }
      ],
      "source": [
        "#Data processing\n",
        "df['Timestamp']=pd.to_datetime(df['Timestamp'], unit='s')\n",
        "df.index = df.Timestamp\n",
        "df = df. resample('W').mean()\n",
        "df_Prophet_addreg = df.copy()\n",
        "df = df.reset_index()\n",
        "df = df[['Timestamp','Weighted_Price']]\n",
        "df.rename(columns = {'Timestamp':'ds',\"Weighted_Price\":\"y\"},inplace = True)\n",
        "df.head()\n"
      ]
    },
    {
      "cell_type": "code",
      "execution_count": 5,
      "metadata": {
        "colab": {
          "base_uri": "https://localhost:8080/",
          "height": 282
        },
        "id": "pbqt0tV_wrqA",
        "outputId": "d08b4806-8737-49c8-820f-bc76970f1fb7"
      },
      "outputs": [
        {
          "output_type": "execute_result",
          "data": {
            "text/plain": [
              "<matplotlib.axes._subplots.AxesSubplot at 0x7f7f46642fd0>"
            ]
          },
          "metadata": {},
          "execution_count": 5
        },
        {
          "output_type": "display_data",
          "data": {
            "text/plain": [
              "<Figure size 432x288 with 1 Axes>"
            ],
            "image/png": "[encoded data removed]"
          },
          "metadata": {
            "needs_background": "light"
          }
        }
      ],
      "source": [
        "sns.heatmap(df.isnull(),yticklabels=False,cbar=False,cmap='viridis')"
      ]
    },
    {
      "cell_type": "code",
      "execution_count": 6,
      "metadata": {
        "id": "dwhxaCwss1V0"
      },
      "outputs": [],
      "source": [
        "day_split = '2020-01-01'\n",
        "train_data = df[df['ds']<=day_split] \n",
        "test_data = df[df['ds']>day_split] \n",
        "c=len(test_data)"
      ]
    },
    {
      "cell_type": "markdown",
      "metadata": {
        "id": "Zgn-Fii0HmNP"
      },
      "source": [
        "###Model_First"
      ]
    },
    {
      "cell_type": "code",
      "execution_count": 7,
      "metadata": {
        "colab": {
          "base_uri": "https://localhost:8080/"
        },
        "id": "s4AfX4yDzP9w",
        "outputId": "6be39909-29c0-432c-cb20-bcad1e2ac166"
      },
      "outputs": [
        {
          "output_type": "stream",
          "name": "stderr",
          "text": [
            "DEBUG:cmdstanpy:input tempfile: /tmp/tmp43ug163o/a_4ylsxj.json\n",
            "DEBUG:cmdstanpy:input tempfile: /tmp/tmp43ug163o/56j6jnpk.json\n",
            "DEBUG:cmdstanpy:idx 0\n",
            "DEBUG:cmdstanpy:running CmdStan, num_threads: None\n",
            "DEBUG:cmdstanpy:CmdStan args: ['/usr/local/lib/python3.8/dist-packages/prophet/stan_model/prophet_model.bin', 'random', 'seed=16638', 'data', 'file=/tmp/tmp43ug163o/a_4ylsxj.json', 'init=/tmp/tmp43ug163o/56j6jnpk.json', 'output', 'file=/tmp/tmp43ug163o/prophet_model5l353m6q/prophet_model-20221226080945.csv', 'method=optimize', 'algorithm=lbfgs', 'iter=10000']\n",
            "08:09:45 - cmdstanpy - INFO - Chain [1] start processing\n",
            "INFO:cmdstanpy:Chain [1] start processing\n",
            "08:09:45 - cmdstanpy - INFO - Chain [1] done processing\n",
            "INFO:cmdstanpy:Chain [1] done processing\n"
          ]
        },
        {
          "output_type": "execute_result",
          "data": {
            "text/plain": [
              "<prophet.forecaster.Prophet at 0x7f7f43ce9580>"
            ]
          },
          "metadata": {},
          "execution_count": 7
        }
      ],
      "source": [
        "m = Prophet(interval_width=0.95,weekly_seasonality=True,daily_seasonality=True)\n",
        "m.fit(train_data)"
      ]
    },
    {
      "cell_type": "code",
      "execution_count": 8,
      "metadata": {
        "colab": {
          "base_uri": "https://localhost:8080/",
          "height": 206
        },
        "id": "VFqGLOgX0y78",
        "outputId": "72c82d0e-c517-4cde-81f3-38089ab81a75"
      },
      "outputs": [
        {
          "output_type": "execute_result",
          "data": {
            "text/plain": [
              "            ds\n",
              "479 2021-03-07\n",
              "480 2021-03-14\n",
              "481 2021-03-21\n",
              "482 2021-03-28\n",
              "483 2021-04-04"
            ],
            "text/html": [
              "\n",
              "  <div id=\"df-bef2fc23-f25d-4c3a-ac66-3ec23f45cb84\">\n",
              "    <div class=\"colab-df-container\">\n",
              "      <div>\n",
              "<style scoped>\n",
              "    .dataframe tbody tr th:only-of-type {\n",
              "        vertical-align: middle;\n",
              "    }\n",
              "\n",
              "    .dataframe tbody tr th {\n",
              "        vertical-align: top;\n",
              "    }\n",
              "\n",
              "    .dataframe thead th {\n",
              "        text-align: right;\n",
              "    }\n",
              "</style>\n",
              "<table border=\"1\" class=\"dataframe\">\n",
              "  <thead>\n",
              "    <tr style=\"text-align: right;\">\n",
              "      <th></th>\n",
              "      <th>ds</th>\n",
              "    </tr>\n",
              "  </thead>\n",
              "  <tbody>\n",
              "    <tr>\n",
              "      <th>479</th>\n",
              "      <td>2021-03-07</td>\n",
              "    </tr>\n",
              "    <tr>\n",
              "      <th>480</th>\n",
              "      <td>2021-03-14</td>\n",
              "    </tr>\n",
              "    <tr>\n",
              "      <th>481</th>\n",
              "      <td>2021-03-21</td>\n",
              "    </tr>\n",
              "    <tr>\n",
              "      <th>482</th>\n",
              "      <td>2021-03-28</td>\n",
              "    </tr>\n",
              "    <tr>\n",
              "      <th>483</th>\n",
              "      <td>2021-04-04</td>\n",
              "    </tr>\n",
              "  </tbody>\n",
              "</table>\n",
              "</div>\n",
              "      <button class=\"colab-df-convert\" onclick=\"convertToInteractive('df-bef2fc23-f25d-4c3a-ac66-3ec23f45cb84')\"\n",
              "              title=\"Convert this dataframe to an interactive table.\"\n",
              "              style=\"display:none;\">\n",
              "        \n",
              "  <svg xmlns=\"http://www.w3.org/2000/svg\" height=\"24px\"viewBox=\"0 0 24 24\"\n",
              "       width=\"24px\">\n",
              "    <path d=\"M0 0h24v24H0V0z\" fill=\"none\"/>\n",
              "    <path d=\"M18.56 5.44l.94 2.06.94-2.06 2.06-.94-2.06-.94-.94-2.06-.94 2.06-2.06.94zm-11 1L8.5 8.5l.94-2.06 2.06-.94-2.06-.94L8.5 2.5l-.94 2.06-2.06.94zm10 10l.94 2.06.94-2.06 2.06-.94-2.06-.94-.94-2.06-.94 2.06-2.06.94z\"/><path d=\"M17.41 7.96l-1.37-1.37c-.4-.4-.92-.59-1.43-.59-.52 0-1.04.2-1.43.59L10.3 9.45l-7.72 7.72c-.78.78-.78 2.05 0 2.83L4 21.41c.39.39.9.59 1.41.59.51 0 1.02-.2 1.41-.59l7.78-7.78 2.81-2.81c.8-.78.8-2.07 0-2.86zM5.41 20L4 18.59l7.72-7.72 1.47 1.35L5.41 20z\"/>\n",
              "  </svg>\n",
              "      </button>\n",
              "      \n",
              "  <style>\n",
              "    .colab-df-container {\n",
              "      display:flex;\n",
              "      flex-wrap:wrap;\n",
              "      gap: 12px;\n",
              "    }\n",
              "\n",
              "    .colab-df-convert {\n",
              "      background-color: #E8F0FE;\n",
              "      border: none;\n",
              "      border-radius: 50%;\n",
              "      cursor: pointer;\n",
              "      display: none;\n",
              "      fill: #1967D2;\n",
              "      height: 32px;\n",
              "      padding: 0 0 0 0;\n",
              "      width: 32px;\n",
              "    }\n",
              "\n",
              "    .colab-df-convert:hover {\n",
              "      background-color: #E2EBFA;\n",
              "      box-shadow: 0px 1px 2px rgba(60, 64, 67, 0.3), 0px 1px 3px 1px rgba(60, 64, 67, 0.15);\n",
              "      fill: #174EA6;\n",
              "    }\n",
              "\n",
              "    [theme=dark] .colab-df-convert {\n",
              "      background-color: #3B4455;\n",
              "      fill: #D2E3FC;\n",
              "    }\n",
              "\n",
              "    [theme=dark] .colab-df-convert:hover {\n",
              "      background-color: #434B5C;\n",
              "      box-shadow: 0px 1px 3px 1px rgba(0, 0, 0, 0.15);\n",
              "      filter: drop-shadow(0px 1px 2px rgba(0, 0, 0, 0.3));\n",
              "      fill: #FFFFFF;\n",
              "    }\n",
              "  </style>\n",
              "\n",
              "      <script>\n",
              "        const buttonEl =\n",
              "          document.querySelector('#df-bef2fc23-f25d-4c3a-ac66-3ec23f45cb84 button.colab-df-convert');\n",
              "        buttonEl.style.display =\n",
              "          google.colab.kernel.accessAllowed ? 'block' : 'none';\n",
              "\n",
              "        async function convertToInteractive(key) {\n",
              "          const element = document.querySelector('#df-bef2fc23-f25d-4c3a-ac66-3ec23f45cb84');\n",
              "          const dataTable =\n",
              "            await google.colab.kernel.invokeFunction('convertToInteractive',\n",
              "                                                     [key], {});\n",
              "          if (!dataTable) return;\n",
              "\n",
              "          const docLinkHtml = 'Like what you see? Visit the ' +\n",
              "            '<a target=\"_blank\" href=https://colab.research.google.com/notebooks/data_table.ipynb>data table notebook</a>'\n",
              "            + ' to learn more about interactive tables.';\n",
              "          element.innerHTML = '';\n",
              "          dataTable['output_type'] = 'display_data';\n",
              "          await google.colab.output.renderOutput(dataTable, element);\n",
              "          const docLink = document.createElement('div');\n",
              "          docLink.innerHTML = docLinkHtml;\n",
              "          element.appendChild(docLink);\n",
              "        }\n",
              "      </script>\n",
              "    </div>\n",
              "  </div>\n",
              "  "
            ]
          },
          "metadata": {},
          "execution_count": 8
        }
      ],
      "source": [
        "future = m.make_future_dataframe(periods=c,freq ='W')\n",
        "future.tail()"
      ]
    },
    {
      "cell_type": "code",
      "execution_count": 9,
      "metadata": {
        "colab": {
          "base_uri": "https://localhost:8080/",
          "height": 206
        },
        "id": "ulyxFTx21YSN",
        "outputId": "61ff7cd6-a15e-4d06-9c13-cfc478f204d1"
      },
      "outputs": [
        {
          "output_type": "execute_result",
          "data": {
            "text/plain": [
              "          ds        yhat   yhat_upper   yhat_lower\n",
              "0 2012-01-01  482.610451  4065.169171 -3066.769218\n",
              "1 2012-01-08  428.562911  3805.538284 -2896.775398\n",
              "2 2012-01-15  340.391194  3987.209003 -3223.806509\n",
              "3 2012-01-22  170.426192  3699.374304 -3359.022922\n",
              "4 2012-01-29  -81.355858  3519.212966 -3555.588766"
            ],
            "text/html": [
              "\n",
              "  <div id=\"df-221b82dc-db76-4bd0-87c8-7b3fcdd7e8ed\">\n",
              "    <div class=\"colab-df-container\">\n",
              "      <div>\n",
              "<style scoped>\n",
              "    .dataframe tbody tr th:only-of-type {\n",
              "        vertical-align: middle;\n",
              "    }\n",
              "\n",
              "    .dataframe tbody tr th {\n",
              "        vertical-align: top;\n",
              "    }\n",
              "\n",
              "    .dataframe thead th {\n",
              "        text-align: right;\n",
              "    }\n",
              "</style>\n",
              "<table border=\"1\" class=\"dataframe\">\n",
              "  <thead>\n",
              "    <tr style=\"text-align: right;\">\n",
              "      <th></th>\n",
              "      <th>ds</th>\n",
              "      <th>yhat</th>\n",
              "      <th>yhat_upper</th>\n",
              "      <th>yhat_lower</th>\n",
              "    </tr>\n",
              "  </thead>\n",
              "  <tbody>\n",
              "    <tr>\n",
              "      <th>0</th>\n",
              "      <td>2012-01-01</td>\n",
              "      <td>482.610451</td>\n",
              "      <td>4065.169171</td>\n",
              "      <td>-3066.769218</td>\n",
              "    </tr>\n",
              "    <tr>\n",
              "      <th>1</th>\n",
              "      <td>2012-01-08</td>\n",
              "      <td>428.562911</td>\n",
              "      <td>3805.538284</td>\n",
              "      <td>-2896.775398</td>\n",
              "    </tr>\n",
              "    <tr>\n",
              "      <th>2</th>\n",
              "      <td>2012-01-15</td>\n",
              "      <td>340.391194</td>\n",
              "      <td>3987.209003</td>\n",
              "      <td>-3223.806509</td>\n",
              "    </tr>\n",
              "    <tr>\n",
              "      <th>3</th>\n",
              "      <td>2012-01-22</td>\n",
              "      <td>170.426192</td>\n",
              "      <td>3699.374304</td>\n",
              "      <td>-3359.022922</td>\n",
              "    </tr>\n",
              "    <tr>\n",
              "      <th>4</th>\n",
              "      <td>2012-01-29</td>\n",
              "      <td>-81.355858</td>\n",
              "      <td>3519.212966</td>\n",
              "      <td>-3555.588766</td>\n",
              "    </tr>\n",
              "  </tbody>\n",
              "</table>\n",
              "</div>\n",
              "      <button class=\"colab-df-convert\" onclick=\"convertToInteractive('df-221b82dc-db76-4bd0-87c8-7b3fcdd7e8ed')\"\n",
              "              title=\"Convert this dataframe to an interactive table.\"\n",
              "              style=\"display:none;\">\n",
              "        \n",
              "  <svg xmlns=\"http://www.w3.org/2000/svg\" height=\"24px\"viewBox=\"0 0 24 24\"\n",
              "       width=\"24px\">\n",
              "    <path d=\"M0 0h24v24H0V0z\" fill=\"none\"/>\n",
              "    <path d=\"M18.56 5.44l.94 2.06.94-2.06 2.06-.94-2.06-.94-.94-2.06-.94 2.06-2.06.94zm-11 1L8.5 8.5l.94-2.06 2.06-.94-2.06-.94L8.5 2.5l-.94 2.06-2.06.94zm10 10l.94 2.06.94-2.06 2.06-.94-2.06-.94-.94-2.06-.94 2.06-2.06.94z\"/><path d=\"M17.41 7.96l-1.37-1.37c-.4-.4-.92-.59-1.43-.59-.52 0-1.04.2-1.43.59L10.3 9.45l-7.72 7.72c-.78.78-.78 2.05 0 2.83L4 21.41c.39.39.9.59 1.41.59.51 0 1.02-.2 1.41-.59l7.78-7.78 2.81-2.81c.8-.78.8-2.07 0-2.86zM5.41 20L4 18.59l7.72-7.72 1.47 1.35L5.41 20z\"/>\n",
              "  </svg>\n",
              "      </button>\n",
              "      \n",
              "  <style>\n",
              "    .colab-df-container {\n",
              "      display:flex;\n",
              "      flex-wrap:wrap;\n",
              "      gap: 12px;\n",
              "    }\n",
              "\n",
              "    .colab-df-convert {\n",
              "      background-color: #E8F0FE;\n",
              "      border: none;\n",
              "      border-radius: 50%;\n",
              "      cursor: pointer;\n",
              "      display: none;\n",
              "      fill: #1967D2;\n",
              "      height: 32px;\n",
              "      padding: 0 0 0 0;\n",
              "      width: 32px;\n",
              "    }\n",
              "\n",
              "    .colab-df-convert:hover {\n",
              "      background-color: #E2EBFA;\n",
              "      box-shadow: 0px 1px 2px rgba(60, 64, 67, 0.3), 0px 1px 3px 1px rgba(60, 64, 67, 0.15);\n",
              "      fill: #174EA6;\n",
              "    }\n",
              "\n",
              "    [theme=dark] .colab-df-convert {\n",
              "      background-color: #3B4455;\n",
              "      fill: #D2E3FC;\n",
              "    }\n",
              "\n",
              "    [theme=dark] .colab-df-convert:hover {\n",
              "      background-color: #434B5C;\n",
              "      box-shadow: 0px 1px 3px 1px rgba(0, 0, 0, 0.15);\n",
              "      filter: drop-shadow(0px 1px 2px rgba(0, 0, 0, 0.3));\n",
              "      fill: #FFFFFF;\n",
              "    }\n",
              "  </style>\n",
              "\n",
              "      <script>\n",
              "        const buttonEl =\n",
              "          document.querySelector('#df-221b82dc-db76-4bd0-87c8-7b3fcdd7e8ed button.colab-df-convert');\n",
              "        buttonEl.style.display =\n",
              "          google.colab.kernel.accessAllowed ? 'block' : 'none';\n",
              "\n",
              "        async function convertToInteractive(key) {\n",
              "          const element = document.querySelector('#df-221b82dc-db76-4bd0-87c8-7b3fcdd7e8ed');\n",
              "          const dataTable =\n",
              "            await google.colab.kernel.invokeFunction('convertToInteractive',\n",
              "                                                     [key], {});\n",
              "          if (!dataTable) return;\n",
              "\n",
              "          const docLinkHtml = 'Like what you see? Visit the ' +\n",
              "            '<a target=\"_blank\" href=https://colab.research.google.com/notebooks/data_table.ipynb>data table notebook</a>'\n",
              "            + ' to learn more about interactive tables.';\n",
              "          element.innerHTML = '';\n",
              "          dataTable['output_type'] = 'display_data';\n",
              "          await google.colab.output.renderOutput(dataTable, element);\n",
              "          const docLink = document.createElement('div');\n",
              "          docLink.innerHTML = docLinkHtml;\n",
              "          element.appendChild(docLink);\n",
              "        }\n",
              "      </script>\n",
              "    </div>\n",
              "  </div>\n",
              "  "
            ]
          },
          "metadata": {},
          "execution_count": 9
        }
      ],
      "source": [
        "# forecast\n",
        "forecast= m.predict(future)\n",
        "forecast[['ds',\"yhat\",\"yhat_upper\",\"yhat_lower\"]].head()\n"
      ]
    },
    {
      "cell_type": "markdown",
      "metadata": {
        "id": "u0bogvetHrHD"
      },
      "source": [
        "###Visualize"
      ]
    },
    {
      "cell_type": "code",
      "execution_count": 10,
      "metadata": {
        "id": "DwSojXh4C8aU",
        "colab": {
          "base_uri": "https://localhost:8080/",
          "height": 310
        },
        "outputId": "c3fc221c-4ce1-4377-f6b8-b793c9722520"
      },
      "outputs": [
        {
          "output_type": "stream",
          "name": "stderr",
          "text": [
            "<ipython-input-10-d5ee8d6f6168>:1: SettingWithCopyWarning: \n",
            "A value is trying to be set on a copy of a slice from a DataFrame.\n",
            "Try using .loc[row_indexer,col_indexer] = value instead\n",
            "\n",
            "See the caveats in the documentation: https://pandas.pydata.org/pandas-docs/stable/user_guide/indexing.html#returning-a-view-versus-a-copy\n",
            "  test_data['yhat'] = forecast['yhat']\n"
          ]
        },
        {
          "output_type": "execute_result",
          "data": {
            "text/plain": [
              "            ds            y         yhat\n",
              "418 2020-01-05  7247.550026  9429.883242\n",
              "419 2020-01-12  7958.877304  9390.939015\n",
              "420 2020-01-19  8669.965061  9290.866342\n",
              "421 2020-01-26  8504.334361  9097.357847\n",
              "422 2020-02-02  9222.831691  8868.136482"
            ],
            "text/html": [
              "\n",
              "  <div id=\"df-ca441378-fe02-433e-85c4-8dd6535e57e1\">\n",
              "    <div class=\"colab-df-container\">\n",
              "      <div>\n",
              "<style scoped>\n",
              "    .dataframe tbody tr th:only-of-type {\n",
              "        vertical-align: middle;\n",
              "    }\n",
              "\n",
              "    .dataframe tbody tr th {\n",
              "        vertical-align: top;\n",
              "    }\n",
              "\n",
              "    .dataframe thead th {\n",
              "        text-align: right;\n",
              "    }\n",
              "</style>\n",
              "<table border=\"1\" class=\"dataframe\">\n",
              "  <thead>\n",
              "    <tr style=\"text-align: right;\">\n",
              "      <th></th>\n",
              "      <th>ds</th>\n",
              "      <th>y</th>\n",
              "      <th>yhat</th>\n",
              "    </tr>\n",
              "  </thead>\n",
              "  <tbody>\n",
              "    <tr>\n",
              "      <th>418</th>\n",
              "      <td>2020-01-05</td>\n",
              "      <td>7247.550026</td>\n",
              "      <td>9429.883242</td>\n",
              "    </tr>\n",
              "    <tr>\n",
              "      <th>419</th>\n",
              "      <td>2020-01-12</td>\n",
              "      <td>7958.877304</td>\n",
              "      <td>9390.939015</td>\n",
              "    </tr>\n",
              "    <tr>\n",
              "      <th>420</th>\n",
              "      <td>2020-01-19</td>\n",
              "      <td>8669.965061</td>\n",
              "      <td>9290.866342</td>\n",
              "    </tr>\n",
              "    <tr>\n",
              "      <th>421</th>\n",
              "      <td>2020-01-26</td>\n",
              "      <td>8504.334361</td>\n",
              "      <td>9097.357847</td>\n",
              "    </tr>\n",
              "    <tr>\n",
              "      <th>422</th>\n",
              "      <td>2020-02-02</td>\n",
              "      <td>9222.831691</td>\n",
              "      <td>8868.136482</td>\n",
              "    </tr>\n",
              "  </tbody>\n",
              "</table>\n",
              "</div>\n",
              "      <button class=\"colab-df-convert\" onclick=\"convertToInteractive('df-ca441378-fe02-433e-85c4-8dd6535e57e1')\"\n",
              "              title=\"Convert this dataframe to an interactive table.\"\n",
              "              style=\"display:none;\">\n",
              "        \n",
              "  <svg xmlns=\"http://www.w3.org/2000/svg\" height=\"24px\"viewBox=\"0 0 24 24\"\n",
              "       width=\"24px\">\n",
              "    <path d=\"M0 0h24v24H0V0z\" fill=\"none\"/>\n",
              "    <path d=\"M18.56 5.44l.94 2.06.94-2.06 2.06-.94-2.06-.94-.94-2.06-.94 2.06-2.06.94zm-11 1L8.5 8.5l.94-2.06 2.06-.94-2.06-.94L8.5 2.5l-.94 2.06-2.06.94zm10 10l.94 2.06.94-2.06 2.06-.94-2.06-.94-.94-2.06-.94 2.06-2.06.94z\"/><path d=\"M17.41 7.96l-1.37-1.37c-.4-.4-.92-.59-1.43-.59-.52 0-1.04.2-1.43.59L10.3 9.45l-7.72 7.72c-.78.78-.78 2.05 0 2.83L4 21.41c.39.39.9.59 1.41.59.51 0 1.02-.2 1.41-.59l7.78-7.78 2.81-2.81c.8-.78.8-2.07 0-2.86zM5.41 20L4 18.59l7.72-7.72 1.47 1.35L5.41 20z\"/>\n",
              "  </svg>\n",
              "      </button>\n",
              "      \n",
              "  <style>\n",
              "    .colab-df-container {\n",
              "      display:flex;\n",
              "      flex-wrap:wrap;\n",
              "      gap: 12px;\n",
              "    }\n",
              "\n",
              "    .colab-df-convert {\n",
              "      background-color: #E8F0FE;\n",
              "      border: none;\n",
              "      border-radius: 50%;\n",
              "      cursor: pointer;\n",
              "      display: none;\n",
              "      fill: #1967D2;\n",
              "      height: 32px;\n",
              "      padding: 0 0 0 0;\n",
              "      width: 32px;\n",
              "    }\n",
              "\n",
              "    .colab-df-convert:hover {\n",
              "      background-color: #E2EBFA;\n",
              "      box-shadow: 0px 1px 2px rgba(60, 64, 67, 0.3), 0px 1px 3px 1px rgba(60, 64, 67, 0.15);\n",
              "      fill: #174EA6;\n",
              "    }\n",
              "\n",
              "    [theme=dark] .colab-df-convert {\n",
              "      background-color: #3B4455;\n",
              "      fill: #D2E3FC;\n",
              "    }\n",
              "\n",
              "    [theme=dark] .colab-df-convert:hover {\n",
              "      background-color: #434B5C;\n",
              "      box-shadow: 0px 1px 3px 1px rgba(0, 0, 0, 0.15);\n",
              "      filter: drop-shadow(0px 1px 2px rgba(0, 0, 0, 0.3));\n",
              "      fill: #FFFFFF;\n",
              "    }\n",
              "  </style>\n",
              "\n",
              "      <script>\n",
              "        const buttonEl =\n",
              "          document.querySelector('#df-ca441378-fe02-433e-85c4-8dd6535e57e1 button.colab-df-convert');\n",
              "        buttonEl.style.display =\n",
              "          google.colab.kernel.accessAllowed ? 'block' : 'none';\n",
              "\n",
              "        async function convertToInteractive(key) {\n",
              "          const element = document.querySelector('#df-ca441378-fe02-433e-85c4-8dd6535e57e1');\n",
              "          const dataTable =\n",
              "            await google.colab.kernel.invokeFunction('convertToInteractive',\n",
              "                                                     [key], {});\n",
              "          if (!dataTable) return;\n",
              "\n",
              "          const docLinkHtml = 'Like what you see? Visit the ' +\n",
              "            '<a target=\"_blank\" href=https://colab.research.google.com/notebooks/data_table.ipynb>data table notebook</a>'\n",
              "            + ' to learn more about interactive tables.';\n",
              "          element.innerHTML = '';\n",
              "          dataTable['output_type'] = 'display_data';\n",
              "          await google.colab.output.renderOutput(dataTable, element);\n",
              "          const docLink = document.createElement('div');\n",
              "          docLink.innerHTML = docLinkHtml;\n",
              "          element.appendChild(docLink);\n",
              "        }\n",
              "      </script>\n",
              "    </div>\n",
              "  </div>\n",
              "  "
            ]
          },
          "metadata": {},
          "execution_count": 10
        }
      ],
      "source": [
        "test_data['yhat'] = forecast['yhat']\n",
        "test_data.head()\n",
        "\n",
        "\n"
      ]
    },
    {
      "cell_type": "code",
      "execution_count": 11,
      "metadata": {
        "colab": {
          "base_uri": "https://localhost:8080/",
          "height": 617
        },
        "id": "WIyJ840pQxEo",
        "outputId": "cafc9ce6-f52d-4a66-bb86-63db9e3bfda9"
      },
      "outputs": [
        {
          "output_type": "execute_result",
          "data": {
            "text/plain": [
              "[Text(0, 0.5, 'Weighted_Price'),\n",
              " Text(0.5, 0, 'Date'),\n",
              " Text(0.5, 1.0, 'Prophet_Bitcoin_begin at 2020')]"
            ]
          },
          "metadata": {},
          "execution_count": 11
        },
        {
          "output_type": "display_data",
          "data": {
            "text/plain": [
              "<Figure size 960x640 with 1 Axes>"
            ],
            "image/png": "[encoded data removed]"
          },
          "metadata": {
            "needs_background": "light"
          }
        }
      ],
      "source": [
        "figure(figsize=(12, 8), dpi=80)\n",
        "ax1 = sns.lineplot(data = test_data, x= 'ds',y ='y',label ='Weighted_Price')\n",
        "sns.lineplot(data = test_data, x= 'ds',y ='yhat',color = 'r',label ='Prophet_Predictions')\n",
        "ax1.set(xlabel = \"Date\", ylabel = \"Weighted_Price\",title ='Prophet_Bitcoin_begin at 2020')"
      ]
    },
    {
      "cell_type": "code",
      "execution_count": 12,
      "metadata": {
        "id": "aLxv0zm2D1O4",
        "colab": {
          "base_uri": "https://localhost:8080/"
        },
        "outputId": "bc058045-b087-4c3c-8a8c-23534e868741"
      },
      "outputs": [
        {
          "output_type": "stream",
          "name": "stdout",
          "text": [
            " RMSE:16679.346682838932\n",
            " MSE:278200605.76633006\n",
            " Mean:18078.522318503947\n"
          ]
        }
      ],
      "source": [
        "prophet_rmse = rmse(test_data['y'], test_data[\"yhat\"])\n",
        "prophet_mse = prophet_rmse**2\n",
        "mean_value = test_data['y'].mean()\n",
        "\n",
        "print(f' RMSE:{prophet_rmse}\\n MSE:{prophet_mse}\\n Mean:{mean_value}')"
      ]
    },
    {
      "cell_type": "code",
      "execution_count": 13,
      "metadata": {
        "id": "s73hgwOrwC6f",
        "colab": {
          "base_uri": "https://localhost:8080/",
          "height": 441
        },
        "outputId": "76544e13-ae48-40af-bf6e-975ad58b6143"
      },
      "outputs": [
        {
          "output_type": "display_data",
          "data": {
            "text/plain": [
              "<Figure size 720x432 with 1 Axes>"
            ],
            "image/png": "[encoded data removed]"
          },
          "metadata": {}
        }
      ],
      "source": [
        "plt_1 = m.plot(forecast)"
      ]
    },
    {
      "cell_type": "markdown",
      "metadata": {
        "id": "MYwy0XoNtfjZ"
      },
      "source": [
        "##Add exogenous_features"
      ]
    },
    {
      "cell_type": "code",
      "execution_count": 14,
      "metadata": {
        "id": "QLyMaI567jFi"
      },
      "outputs": [],
      "source": [
        "df_Prophet_addreg = df_Prophet_addreg.reset_index()\n"
      ]
    },
    {
      "cell_type": "code",
      "source": [
        "#Try to find the most suitable features\n",
        "from itertools import combinations\n",
        "lag_features = [\"Open\", \"High\", \"Low\", \"Close\",'Volume_(Currency)',\"Volume_(BTC)\"]\n",
        "exogenous = []\n",
        "for i in range (2,7):\n",
        "  exogenous +=(list(combinations(lag_features,i)))\n",
        "\n",
        "c = []\n",
        "for j in exogenous:\n",
        "  c.append(len(j))\n",
        "exogenous"
      ],
      "metadata": {
        "colab": {
          "base_uri": "https://localhost:8080/"
        },
        "id": "F0X6mFeZC8hz",
        "outputId": "a1f3c19b-1a20-48b8-9bdf-1b2f7a1b3ea8"
      },
      "execution_count": 15,
      "outputs": [
        {
          "output_type": "execute_result",
          "data": {
            "text/plain": [
              "[('Open', 'High'),\n",
              " ('Open', 'Low'),\n",
              " ('Open', 'Close'),\n",
              " ('Open', 'Volume_(Currency)'),\n",
              " ('Open', 'Volume_(BTC)'),\n",
              " ('High', 'Low'),\n",
              " ('High', 'Close'),\n",
              " ('High', 'Volume_(Currency)'),\n",
              " ('High', 'Volume_(BTC)'),\n",
              " ('Low', 'Close'),\n",
              " ('Low', 'Volume_(Currency)'),\n",
              " ('Low', 'Volume_(BTC)'),\n",
              " ('Close', 'Volume_(Currency)'),\n",
              " ('Close', 'Volume_(BTC)'),\n",
              " ('Volume_(Currency)', 'Volume_(BTC)'),\n",
              " ('Open', 'High', 'Low'),\n",
              " ('Open', 'High', 'Close'),\n",
              " ('Open', 'High', 'Volume_(Currency)'),\n",
              " ('Open', 'High', 'Volume_(BTC)'),\n",
              " ('Open', 'Low', 'Close'),\n",
              " ('Open', 'Low', 'Volume_(Currency)'),\n",
              " ('Open', 'Low', 'Volume_(BTC)'),\n",
              " ('Open', 'Close', 'Volume_(Currency)'),\n",
              " ('Open', 'Close', 'Volume_(BTC)'),\n",
              " ('Open', 'Volume_(Currency)', 'Volume_(BTC)'),\n",
              " ('High', 'Low', 'Close'),\n",
              " ('High', 'Low', 'Volume_(Currency)'),\n",
              " ('High', 'Low', 'Volume_(BTC)'),\n",
              " ('High', 'Close', 'Volume_(Currency)'),\n",
              " ('High', 'Close', 'Volume_(BTC)'),\n",
              " ('High', 'Volume_(Currency)', 'Volume_(BTC)'),\n",
              " ('Low', 'Close', 'Volume_(Currency)'),\n",
              " ('Low', 'Close', 'Volume_(BTC)'),\n",
              " ('Low', 'Volume_(Currency)', 'Volume_(BTC)'),\n",
              " ('Close', 'Volume_(Currency)', 'Volume_(BTC)'),\n",
              " ('Open', 'High', 'Low', 'Close'),\n",
              " ('Open', 'High', 'Low', 'Volume_(Currency)'),\n",
              " ('Open', 'High', 'Low', 'Volume_(BTC)'),\n",
              " ('Open', 'High', 'Close', 'Volume_(Currency)'),\n",
              " ('Open', 'High', 'Close', 'Volume_(BTC)'),\n",
              " ('Open', 'High', 'Volume_(Currency)', 'Volume_(BTC)'),\n",
              " ('Open', 'Low', 'Close', 'Volume_(Currency)'),\n",
              " ('Open', 'Low', 'Close', 'Volume_(BTC)'),\n",
              " ('Open', 'Low', 'Volume_(Currency)', 'Volume_(BTC)'),\n",
              " ('Open', 'Close', 'Volume_(Currency)', 'Volume_(BTC)'),\n",
              " ('High', 'Low', 'Close', 'Volume_(Currency)'),\n",
              " ('High', 'Low', 'Close', 'Volume_(BTC)'),\n",
              " ('High', 'Low', 'Volume_(Currency)', 'Volume_(BTC)'),\n",
              " ('High', 'Close', 'Volume_(Currency)', 'Volume_(BTC)'),\n",
              " ('Low', 'Close', 'Volume_(Currency)', 'Volume_(BTC)'),\n",
              " ('Open', 'High', 'Low', 'Close', 'Volume_(Currency)'),\n",
              " ('Open', 'High', 'Low', 'Close', 'Volume_(BTC)'),\n",
              " ('Open', 'High', 'Low', 'Volume_(Currency)', 'Volume_(BTC)'),\n",
              " ('Open', 'High', 'Close', 'Volume_(Currency)', 'Volume_(BTC)'),\n",
              " ('Open', 'Low', 'Close', 'Volume_(Currency)', 'Volume_(BTC)'),\n",
              " ('High', 'Low', 'Close', 'Volume_(Currency)', 'Volume_(BTC)'),\n",
              " ('Open', 'High', 'Low', 'Close', 'Volume_(Currency)', 'Volume_(BTC)')]"
            ]
          },
          "metadata": {},
          "execution_count": 15
        }
      ]
    },
    {
      "cell_type": "code",
      "source": [
        "result_find = []\n",
        "for i in range(0,len(exogenous)):\n",
        "  i=i\n",
        "  \n",
        "  exogenous_fea = []\n",
        "  for j in range(0,(c[i])):\n",
        "    # print(exogenous[i][j])\n",
        "    if j != (c[i]-1):\n",
        "      \n",
        "      exogenous_fea.append(exogenous[i][j])\n",
        "    else:\n",
        "      exogenous_fea.append(exogenous[i][j])\n",
        "      j = j\n",
        "      exogenous_features = []\n",
        "      for k in range(0,j):\n",
        "        exogenous_features.extend([f'{exogenous_fea[k]}_mean_lag3',f'{exogenous_fea[k]}_mean_lag7',f'{exogenous_fea[k]}_mean_lag30',\n",
        "                                  f'{exogenous_fea[k]}_std_lag3',f'{exogenous_fea[k]}_std_lag7',f'{exogenous_fea[k]}_std_lag30'])\n",
        "      # exogenous_features.extend(['month', 'week','day', 'day_of_week'])\n",
        "\n",
        "      # lag_features = [\"Open\"]#, \"High\", \"Low\", \"Close\"]#'Volume_(Currency)\"]#\"Volume_(BTC)\"\n",
        "      window1 = 3\n",
        "      window2 = 7\n",
        "      window3 = 30\n",
        "\n",
        "      df_rolled_3d = df_Prophet_addreg[exogenous_fea].rolling(window=window1, min_periods=0)\n",
        "      df_rolled_7d = df_Prophet_addreg[exogenous_fea].rolling(window=window2, min_periods=0)\n",
        "      df_rolled_30d = df_Prophet_addreg[exogenous_fea].rolling(window=window3, min_periods=0)\n",
        "\n",
        "      df_mean_3d = df_rolled_3d.mean().shift(1).reset_index()\n",
        "      df_mean_7d = df_rolled_7d.mean().shift(1).reset_index()\n",
        "      df_mean_30d = df_rolled_30d.mean().shift(1).reset_index()\n",
        "\n",
        "      df_std_3d = df_rolled_3d.std().shift(1).reset_index()\n",
        "      df_std_7d = df_rolled_7d.std().shift(1).reset_index()\n",
        "      df_std_30d = df_rolled_30d.std().shift(1).reset_index()\n",
        "\n",
        "      for feature in exogenous_fea:\n",
        "          df_Prophet_addreg[f\"{feature}_mean_lag{window1}\"] = df_mean_3d[feature]\n",
        "          df_Prophet_addreg[f\"{feature}_mean_lag{window2}\"] = df_mean_7d[feature]\n",
        "          df_Prophet_addreg[f\"{feature}_mean_lag{window3}\"] = df_mean_30d[feature]\n",
        "          \n",
        "          df_Prophet_addreg[f\"{feature}_std_lag{window1}\"] = df_std_3d[feature]\n",
        "          df_Prophet_addreg[f\"{feature}_std_lag{window2}\"] = df_std_7d[feature]\n",
        "          df_Prophet_addreg[f\"{feature}_std_lag{window3}\"] = df_std_30d[feature]\n",
        "\n",
        "      df_Prophet_addreg.fillna(df_Prophet_addreg.mean(), inplace=True)\n",
        "\n",
        "      # df_Prophet_addreg.set_index(\"Timestamp\", drop=False, inplace=True)\n",
        "      df_Prophet_addreg[\"month\"] = df_Prophet_addreg.Timestamp.dt.month\n",
        "      df_Prophet_addreg[\"week\"] = df_Prophet_addreg.Timestamp.dt.week\n",
        "      df_Prophet_addreg[\"day\"] = df_Prophet_addreg.Timestamp.dt.day\n",
        "      df_Prophet_addreg[\"day_of_week\"] = df_Prophet_addreg.Timestamp.dt.dayofweek\n",
        "      df_train = df_Prophet_addreg[df_Prophet_addreg.Timestamp < \"2020\"]\n",
        "      df_valid = df_Prophet_addreg[df_Prophet_addreg.Timestamp >= \"2020\"]\n",
        "\n",
        "      df_train = df_train.rename(columns = {'Timestamp':'ds',\"Weighted_Price\":\"y\"})\n",
        "      df_valid = df_valid.rename(columns = {'Timestamp':'ds',\"Weighted_Price\":\"y\"})\n",
        "      m2_fbp = Prophet(interval_width=0.95,weekly_seasonality=True,daily_seasonality=True,)\n",
        "      for feature in exogenous_features:\n",
        "        m2_fbp.add_regressor(feature)\n",
        "\n",
        "      m2_fbp.fit(df_train[[\"ds\", \"y\"] + exogenous_features])\n",
        "      forecast2 = m2_fbp.predict(df_valid[[\"ds\", \"y\"] + exogenous_features])\n",
        "      # forecast2.head()\n",
        "      test_data2 = df_valid[['ds','y']]\n",
        "      test_data2 = test_data2.copy()\n",
        "      yhat = forecast2.loc[:,\"yhat\"].values\n",
        "      test_data2.insert(2,column =\"yhat\" ,value = yhat)\n",
        "      test_data2 = test_data2.reset_index(drop = True)\n",
        "\n",
        "      prophet_rmse2 = rmse(test_data2['y'], test_data2[\"yhat\"])\n",
        "      diff = round(((prophet_rmse2-prophet_rmse)/prophet_rmse),3)\n",
        "      print(\"Difference of RMSE:\"f'{i,\":\",diff}')\n",
        "      result_find.append([i,\":\",diff])\n",
        "            "
      ],
      "metadata": {
        "id": "ZqfFV0JUEetQ",
        "colab": {
          "base_uri": "https://localhost:8080/"
        },
        "outputId": "0d6a0687-0843-483f-ac43-94ef06662b4f"
      },
      "execution_count": 16,
      "outputs": [
        {
          "output_type": "stream",
          "name": "stderr",
          "text": [
            "<ipython-input-16-48fe3a25c755>:46: FutureWarning: DataFrame.mean and DataFrame.median with numeric_only=None will include datetime64 and datetime64tz columns in a future version.\n",
            "  df_Prophet_addreg.fillna(df_Prophet_addreg.mean(), inplace=True)\n",
            "<ipython-input-16-48fe3a25c755>:50: FutureWarning: Series.dt.weekofyear and Series.dt.week have been deprecated.  Please use Series.dt.isocalendar().week instead.\n",
            "  df_Prophet_addreg[\"week\"] = df_Prophet_addreg.Timestamp.dt.week\n",
            "DEBUG:cmdstanpy:input tempfile: /tmp/tmp43ug163o/ydq86e3k.json\n",
            "DEBUG:cmdstanpy:input tempfile: /tmp/tmp43ug163o/oycweqj9.json\n",
            "DEBUG:cmdstanpy:idx 0\n",
            "DEBUG:cmdstanpy:running CmdStan, num_threads: None\n",
            "DEBUG:cmdstanpy:CmdStan args: ['/usr/local/lib/python3.8/dist-packages/prophet/stan_model/prophet_model.bin', 'random', 'seed=63712', 'data', 'file=/tmp/tmp43ug163o/ydq86e3k.json', 'init=/tmp/tmp43ug163o/oycweqj9.json', 'output', 'file=/tmp/tmp43ug163o/prophet_modelsrk917nd/prophet_model-20221226080947.csv', 'method=optimize', 'algorithm=lbfgs', 'iter=10000']\n",
            "08:09:47 - cmdstanpy - INFO - Chain [1] start processing\n",
            "INFO:cmdstanpy:Chain [1] start processing\n",
            "08:09:47 - cmdstanpy - INFO - Chain [1] done processing\n",
            "INFO:cmdstanpy:Chain [1] done processing\n",
            "<ipython-input-16-48fe3a25c755>:46: FutureWarning: DataFrame.mean and DataFrame.median with numeric_only=None will include datetime64 and datetime64tz columns in a future version.\n",
            "  df_Prophet_addreg.fillna(df_Prophet_addreg.mean(), inplace=True)\n",
            "<ipython-input-16-48fe3a25c755>:50: FutureWarning: Series.dt.weekofyear and Series.dt.week have been deprecated.  Please use Series.dt.isocalendar().week instead.\n",
            "  df_Prophet_addreg[\"week\"] = df_Prophet_addreg.Timestamp.dt.week\n",
            "DEBUG:cmdstanpy:input tempfile: /tmp/tmp43ug163o/6_2ajsw9.json\n",
            "DEBUG:cmdstanpy:input tempfile: /tmp/tmp43ug163o/ikejxphu.json\n",
            "DEBUG:cmdstanpy:idx 0\n",
            "DEBUG:cmdstanpy:running CmdStan, num_threads: None\n",
            "DEBUG:cmdstanpy:CmdStan args: ['/usr/local/lib/python3.8/dist-packages/prophet/stan_model/prophet_model.bin', 'random', 'seed=12162', 'data', 'file=/tmp/tmp43ug163o/6_2ajsw9.json', 'init=/tmp/tmp43ug163o/ikejxphu.json', 'output', 'file=/tmp/tmp43ug163o/prophet_modeladelevvk/prophet_model-20221226080948.csv', 'method=optimize', 'algorithm=lbfgs', 'iter=10000']\n",
            "08:09:48 - cmdstanpy - INFO - Chain [1] start processing\n",
            "INFO:cmdstanpy:Chain [1] start processing\n"
          ]
        },
        {
          "output_type": "stream",
          "name": "stdout",
          "text": [
            "Difference of RMSE:(0, ':', -0.766)\n"
          ]
        },
        {
          "output_type": "stream",
          "name": "stderr",
          "text": [
            "08:09:48 - cmdstanpy - INFO - Chain [1] done processing\n",
            "INFO:cmdstanpy:Chain [1] done processing\n",
            "<ipython-input-16-48fe3a25c755>:46: FutureWarning: DataFrame.mean and DataFrame.median with numeric_only=None will include datetime64 and datetime64tz columns in a future version.\n",
            "  df_Prophet_addreg.fillna(df_Prophet_addreg.mean(), inplace=True)\n",
            "<ipython-input-16-48fe3a25c755>:50: FutureWarning: Series.dt.weekofyear and Series.dt.week have been deprecated.  Please use Series.dt.isocalendar().week instead.\n",
            "  df_Prophet_addreg[\"week\"] = df_Prophet_addreg.Timestamp.dt.week\n",
            "DEBUG:cmdstanpy:input tempfile: /tmp/tmp43ug163o/ff26oe9j.json\n",
            "DEBUG:cmdstanpy:input tempfile: /tmp/tmp43ug163o/o3weg02p.json\n",
            "DEBUG:cmdstanpy:idx 0\n",
            "DEBUG:cmdstanpy:running CmdStan, num_threads: None\n",
            "DEBUG:cmdstanpy:CmdStan args: ['/usr/local/lib/python3.8/dist-packages/prophet/stan_model/prophet_model.bin', 'random', 'seed=34032', 'data', 'file=/tmp/tmp43ug163o/ff26oe9j.json', 'init=/tmp/tmp43ug163o/o3weg02p.json', 'output', 'file=/tmp/tmp43ug163o/prophet_modelqlui7584/prophet_model-20221226080949.csv', 'method=optimize', 'algorithm=lbfgs', 'iter=10000']\n",
            "08:09:49 - cmdstanpy - INFO - Chain [1] start processing\n",
            "INFO:cmdstanpy:Chain [1] start processing\n"
          ]
        },
        {
          "output_type": "stream",
          "name": "stdout",
          "text": [
            "Difference of RMSE:(1, ':', -0.766)\n"
          ]
        },
        {
          "output_type": "stream",
          "name": "stderr",
          "text": [
            "08:09:49 - cmdstanpy - INFO - Chain [1] done processing\n",
            "INFO:cmdstanpy:Chain [1] done processing\n",
            "<ipython-input-16-48fe3a25c755>:46: FutureWarning: DataFrame.mean and DataFrame.median with numeric_only=None will include datetime64 and datetime64tz columns in a future version.\n",
            "  df_Prophet_addreg.fillna(df_Prophet_addreg.mean(), inplace=True)\n",
            "<ipython-input-16-48fe3a25c755>:50: FutureWarning: Series.dt.weekofyear and Series.dt.week have been deprecated.  Please use Series.dt.isocalendar().week instead.\n",
            "  df_Prophet_addreg[\"week\"] = df_Prophet_addreg.Timestamp.dt.week\n",
            "DEBUG:cmdstanpy:input tempfile: /tmp/tmp43ug163o/7xcxz40j.json\n"
          ]
        },
        {
          "output_type": "stream",
          "name": "stdout",
          "text": [
            "Difference of RMSE:(2, ':', -0.766)\n"
          ]
        },
        {
          "output_type": "stream",
          "name": "stderr",
          "text": [
            "DEBUG:cmdstanpy:input tempfile: /tmp/tmp43ug163o/3e650p4e.json\n",
            "DEBUG:cmdstanpy:idx 0\n",
            "DEBUG:cmdstanpy:running CmdStan, num_threads: None\n",
            "DEBUG:cmdstanpy:CmdStan args: ['/usr/local/lib/python3.8/dist-packages/prophet/stan_model/prophet_model.bin', 'random', 'seed=279', 'data', 'file=/tmp/tmp43ug163o/7xcxz40j.json', 'init=/tmp/tmp43ug163o/3e650p4e.json', 'output', 'file=/tmp/tmp43ug163o/prophet_model3bv8axql/prophet_model-20221226080950.csv', 'method=optimize', 'algorithm=lbfgs', 'iter=10000']\n",
            "08:09:50 - cmdstanpy - INFO - Chain [1] start processing\n",
            "INFO:cmdstanpy:Chain [1] start processing\n",
            "08:09:50 - cmdstanpy - INFO - Chain [1] done processing\n",
            "INFO:cmdstanpy:Chain [1] done processing\n",
            "<ipython-input-16-48fe3a25c755>:46: FutureWarning: DataFrame.mean and DataFrame.median with numeric_only=None will include datetime64 and datetime64tz columns in a future version.\n",
            "  df_Prophet_addreg.fillna(df_Prophet_addreg.mean(), inplace=True)\n",
            "<ipython-input-16-48fe3a25c755>:50: FutureWarning: Series.dt.weekofyear and Series.dt.week have been deprecated.  Please use Series.dt.isocalendar().week instead.\n",
            "  df_Prophet_addreg[\"week\"] = df_Prophet_addreg.Timestamp.dt.week\n",
            "DEBUG:cmdstanpy:input tempfile: /tmp/tmp43ug163o/803czadr.json\n",
            "DEBUG:cmdstanpy:input tempfile: /tmp/tmp43ug163o/hmark52u.json\n",
            "DEBUG:cmdstanpy:idx 0\n",
            "DEBUG:cmdstanpy:running CmdStan, num_threads: None\n",
            "DEBUG:cmdstanpy:CmdStan args: ['/usr/local/lib/python3.8/dist-packages/prophet/stan_model/prophet_model.bin', 'random', 'seed=70905', 'data', 'file=/tmp/tmp43ug163o/803czadr.json', 'init=/tmp/tmp43ug163o/hmark52u.json', 'output', 'file=/tmp/tmp43ug163o/prophet_modelo060805e/prophet_model-20221226080950.csv', 'method=optimize', 'algorithm=lbfgs', 'iter=10000']\n",
            "08:09:50 - cmdstanpy - INFO - Chain [1] start processing\n",
            "INFO:cmdstanpy:Chain [1] start processing\n"
          ]
        },
        {
          "output_type": "stream",
          "name": "stdout",
          "text": [
            "Difference of RMSE:(3, ':', -0.766)\n"
          ]
        },
        {
          "output_type": "stream",
          "name": "stderr",
          "text": [
            "08:09:50 - cmdstanpy - INFO - Chain [1] done processing\n",
            "INFO:cmdstanpy:Chain [1] done processing\n",
            "<ipython-input-16-48fe3a25c755>:46: FutureWarning: DataFrame.mean and DataFrame.median with numeric_only=None will include datetime64 and datetime64tz columns in a future version.\n",
            "  df_Prophet_addreg.fillna(df_Prophet_addreg.mean(), inplace=True)\n",
            "<ipython-input-16-48fe3a25c755>:50: FutureWarning: Series.dt.weekofyear and Series.dt.week have been deprecated.  Please use Series.dt.isocalendar().week instead.\n",
            "  df_Prophet_addreg[\"week\"] = df_Prophet_addreg.Timestamp.dt.week\n",
            "DEBUG:cmdstanpy:input tempfile: /tmp/tmp43ug163o/rg3_esjw.json\n",
            "DEBUG:cmdstanpy:input tempfile: /tmp/tmp43ug163o/t6na4vr_.json\n",
            "DEBUG:cmdstanpy:idx 0\n",
            "DEBUG:cmdstanpy:running CmdStan, num_threads: None\n",
            "DEBUG:cmdstanpy:CmdStan args: ['/usr/local/lib/python3.8/dist-packages/prophet/stan_model/prophet_model.bin', 'random', 'seed=8603', 'data', 'file=/tmp/tmp43ug163o/rg3_esjw.json', 'init=/tmp/tmp43ug163o/t6na4vr_.json', 'output', 'file=/tmp/tmp43ug163o/prophet_model5ikq4660/prophet_model-20221226080951.csv', 'method=optimize', 'algorithm=lbfgs', 'iter=10000']\n",
            "08:09:51 - cmdstanpy - INFO - Chain [1] start processing\n",
            "INFO:cmdstanpy:Chain [1] start processing\n"
          ]
        },
        {
          "output_type": "stream",
          "name": "stdout",
          "text": [
            "Difference of RMSE:(4, ':', -0.766)\n"
          ]
        },
        {
          "output_type": "stream",
          "name": "stderr",
          "text": [
            "08:09:51 - cmdstanpy - INFO - Chain [1] done processing\n",
            "INFO:cmdstanpy:Chain [1] done processing\n",
            "<ipython-input-16-48fe3a25c755>:46: FutureWarning: DataFrame.mean and DataFrame.median with numeric_only=None will include datetime64 and datetime64tz columns in a future version.\n",
            "  df_Prophet_addreg.fillna(df_Prophet_addreg.mean(), inplace=True)\n",
            "<ipython-input-16-48fe3a25c755>:50: FutureWarning: Series.dt.weekofyear and Series.dt.week have been deprecated.  Please use Series.dt.isocalendar().week instead.\n",
            "  df_Prophet_addreg[\"week\"] = df_Prophet_addreg.Timestamp.dt.week\n",
            "DEBUG:cmdstanpy:input tempfile: /tmp/tmp43ug163o/v62a25qe.json\n",
            "DEBUG:cmdstanpy:input tempfile: /tmp/tmp43ug163o/kucp4_af.json\n",
            "DEBUG:cmdstanpy:idx 0\n",
            "DEBUG:cmdstanpy:running CmdStan, num_threads: None\n",
            "DEBUG:cmdstanpy:CmdStan args: ['/usr/local/lib/python3.8/dist-packages/prophet/stan_model/prophet_model.bin', 'random', 'seed=60197', 'data', 'file=/tmp/tmp43ug163o/v62a25qe.json', 'init=/tmp/tmp43ug163o/kucp4_af.json', 'output', 'file=/tmp/tmp43ug163o/prophet_model03e8z5ei/prophet_model-20221226080952.csv', 'method=optimize', 'algorithm=lbfgs', 'iter=10000']\n",
            "08:09:52 - cmdstanpy - INFO - Chain [1] start processing\n",
            "INFO:cmdstanpy:Chain [1] start processing\n"
          ]
        },
        {
          "output_type": "stream",
          "name": "stdout",
          "text": [
            "Difference of RMSE:(5, ':', -0.766)\n"
          ]
        },
        {
          "output_type": "stream",
          "name": "stderr",
          "text": [
            "08:09:52 - cmdstanpy - INFO - Chain [1] done processing\n",
            "INFO:cmdstanpy:Chain [1] done processing\n",
            "<ipython-input-16-48fe3a25c755>:46: FutureWarning: DataFrame.mean and DataFrame.median with numeric_only=None will include datetime64 and datetime64tz columns in a future version.\n",
            "  df_Prophet_addreg.fillna(df_Prophet_addreg.mean(), inplace=True)\n",
            "<ipython-input-16-48fe3a25c755>:50: FutureWarning: Series.dt.weekofyear and Series.dt.week have been deprecated.  Please use Series.dt.isocalendar().week instead.\n",
            "  df_Prophet_addreg[\"week\"] = df_Prophet_addreg.Timestamp.dt.week\n",
            "DEBUG:cmdstanpy:input tempfile: /tmp/tmp43ug163o/rcn8d04r.json\n",
            "DEBUG:cmdstanpy:input tempfile: /tmp/tmp43ug163o/5unvhjs1.json\n",
            "DEBUG:cmdstanpy:idx 0\n",
            "DEBUG:cmdstanpy:running CmdStan, num_threads: None\n",
            "DEBUG:cmdstanpy:CmdStan args: ['/usr/local/lib/python3.8/dist-packages/prophet/stan_model/prophet_model.bin', 'random', 'seed=61930', 'data', 'file=/tmp/tmp43ug163o/rcn8d04r.json', 'init=/tmp/tmp43ug163o/5unvhjs1.json', 'output', 'file=/tmp/tmp43ug163o/prophet_modelwq01042j/prophet_model-20221226080953.csv', 'method=optimize', 'algorithm=lbfgs', 'iter=10000']\n",
            "08:09:53 - cmdstanpy - INFO - Chain [1] start processing\n",
            "INFO:cmdstanpy:Chain [1] start processing\n"
          ]
        },
        {
          "output_type": "stream",
          "name": "stdout",
          "text": [
            "Difference of RMSE:(6, ':', -0.766)\n"
          ]
        },
        {
          "output_type": "stream",
          "name": "stderr",
          "text": [
            "08:09:53 - cmdstanpy - INFO - Chain [1] done processing\n",
            "INFO:cmdstanpy:Chain [1] done processing\n",
            "<ipython-input-16-48fe3a25c755>:46: FutureWarning: DataFrame.mean and DataFrame.median with numeric_only=None will include datetime64 and datetime64tz columns in a future version.\n",
            "  df_Prophet_addreg.fillna(df_Prophet_addreg.mean(), inplace=True)\n",
            "<ipython-input-16-48fe3a25c755>:50: FutureWarning: Series.dt.weekofyear and Series.dt.week have been deprecated.  Please use Series.dt.isocalendar().week instead.\n",
            "  df_Prophet_addreg[\"week\"] = df_Prophet_addreg.Timestamp.dt.week\n",
            "DEBUG:cmdstanpy:input tempfile: /tmp/tmp43ug163o/2x0hj6ef.json\n"
          ]
        },
        {
          "output_type": "stream",
          "name": "stdout",
          "text": [
            "Difference of RMSE:(7, ':', -0.766)\n"
          ]
        },
        {
          "output_type": "stream",
          "name": "stderr",
          "text": [
            "DEBUG:cmdstanpy:input tempfile: /tmp/tmp43ug163o/h0w1s6cx.json\n",
            "DEBUG:cmdstanpy:idx 0\n",
            "DEBUG:cmdstanpy:running CmdStan, num_threads: None\n",
            "DEBUG:cmdstanpy:CmdStan args: ['/usr/local/lib/python3.8/dist-packages/prophet/stan_model/prophet_model.bin', 'random', 'seed=19434', 'data', 'file=/tmp/tmp43ug163o/2x0hj6ef.json', 'init=/tmp/tmp43ug163o/h0w1s6cx.json', 'output', 'file=/tmp/tmp43ug163o/prophet_modelgpx_kibm/prophet_model-20221226080954.csv', 'method=optimize', 'algorithm=lbfgs', 'iter=10000']\n",
            "08:09:54 - cmdstanpy - INFO - Chain [1] start processing\n",
            "INFO:cmdstanpy:Chain [1] start processing\n",
            "08:09:54 - cmdstanpy - INFO - Chain [1] done processing\n",
            "INFO:cmdstanpy:Chain [1] done processing\n",
            "<ipython-input-16-48fe3a25c755>:46: FutureWarning: DataFrame.mean and DataFrame.median with numeric_only=None will include datetime64 and datetime64tz columns in a future version.\n",
            "  df_Prophet_addreg.fillna(df_Prophet_addreg.mean(), inplace=True)\n",
            "<ipython-input-16-48fe3a25c755>:50: FutureWarning: Series.dt.weekofyear and Series.dt.week have been deprecated.  Please use Series.dt.isocalendar().week instead.\n",
            "  df_Prophet_addreg[\"week\"] = df_Prophet_addreg.Timestamp.dt.week\n",
            "DEBUG:cmdstanpy:input tempfile: /tmp/tmp43ug163o/nhubcgf8.json\n",
            "DEBUG:cmdstanpy:input tempfile: /tmp/tmp43ug163o/8nip1oyt.json\n",
            "DEBUG:cmdstanpy:idx 0\n",
            "DEBUG:cmdstanpy:running CmdStan, num_threads: None\n",
            "DEBUG:cmdstanpy:CmdStan args: ['/usr/local/lib/python3.8/dist-packages/prophet/stan_model/prophet_model.bin', 'random', 'seed=89288', 'data', 'file=/tmp/tmp43ug163o/nhubcgf8.json', 'init=/tmp/tmp43ug163o/8nip1oyt.json', 'output', 'file=/tmp/tmp43ug163o/prophet_modelc5xvsau1/prophet_model-20221226080955.csv', 'method=optimize', 'algorithm=lbfgs', 'iter=10000']\n",
            "08:09:55 - cmdstanpy - INFO - Chain [1] start processing\n",
            "INFO:cmdstanpy:Chain [1] start processing\n"
          ]
        },
        {
          "output_type": "stream",
          "name": "stdout",
          "text": [
            "Difference of RMSE:(8, ':', -0.766)\n"
          ]
        },
        {
          "output_type": "stream",
          "name": "stderr",
          "text": [
            "08:09:55 - cmdstanpy - INFO - Chain [1] done processing\n",
            "INFO:cmdstanpy:Chain [1] done processing\n",
            "<ipython-input-16-48fe3a25c755>:46: FutureWarning: DataFrame.mean and DataFrame.median with numeric_only=None will include datetime64 and datetime64tz columns in a future version.\n",
            "  df_Prophet_addreg.fillna(df_Prophet_addreg.mean(), inplace=True)\n",
            "<ipython-input-16-48fe3a25c755>:50: FutureWarning: Series.dt.weekofyear and Series.dt.week have been deprecated.  Please use Series.dt.isocalendar().week instead.\n",
            "  df_Prophet_addreg[\"week\"] = df_Prophet_addreg.Timestamp.dt.week\n",
            "DEBUG:cmdstanpy:input tempfile: /tmp/tmp43ug163o/d6yjcis6.json\n",
            "DEBUG:cmdstanpy:input tempfile: /tmp/tmp43ug163o/29bs_3kw.json\n",
            "DEBUG:cmdstanpy:idx 0\n",
            "DEBUG:cmdstanpy:running CmdStan, num_threads: None\n",
            "DEBUG:cmdstanpy:CmdStan args: ['/usr/local/lib/python3.8/dist-packages/prophet/stan_model/prophet_model.bin', 'random', 'seed=24286', 'data', 'file=/tmp/tmp43ug163o/d6yjcis6.json', 'init=/tmp/tmp43ug163o/29bs_3kw.json', 'output', 'file=/tmp/tmp43ug163o/prophet_modeldgn1ggdw/prophet_model-20221226080955.csv', 'method=optimize', 'algorithm=lbfgs', 'iter=10000']\n",
            "08:09:55 - cmdstanpy - INFO - Chain [1] start processing\n",
            "INFO:cmdstanpy:Chain [1] start processing\n"
          ]
        },
        {
          "output_type": "stream",
          "name": "stdout",
          "text": [
            "Difference of RMSE:(9, ':', -0.767)\n"
          ]
        },
        {
          "output_type": "stream",
          "name": "stderr",
          "text": [
            "08:09:56 - cmdstanpy - INFO - Chain [1] done processing\n",
            "INFO:cmdstanpy:Chain [1] done processing\n",
            "<ipython-input-16-48fe3a25c755>:46: FutureWarning: DataFrame.mean and DataFrame.median with numeric_only=None will include datetime64 and datetime64tz columns in a future version.\n",
            "  df_Prophet_addreg.fillna(df_Prophet_addreg.mean(), inplace=True)\n",
            "<ipython-input-16-48fe3a25c755>:50: FutureWarning: Series.dt.weekofyear and Series.dt.week have been deprecated.  Please use Series.dt.isocalendar().week instead.\n",
            "  df_Prophet_addreg[\"week\"] = df_Prophet_addreg.Timestamp.dt.week\n",
            "DEBUG:cmdstanpy:input tempfile: /tmp/tmp43ug163o/b5ugau4u.json\n",
            "DEBUG:cmdstanpy:input tempfile: /tmp/tmp43ug163o/qek2yxws.json\n",
            "DEBUG:cmdstanpy:idx 0\n",
            "DEBUG:cmdstanpy:running CmdStan, num_threads: None\n",
            "DEBUG:cmdstanpy:CmdStan args: ['/usr/local/lib/python3.8/dist-packages/prophet/stan_model/prophet_model.bin', 'random', 'seed=54774', 'data', 'file=/tmp/tmp43ug163o/b5ugau4u.json', 'init=/tmp/tmp43ug163o/qek2yxws.json', 'output', 'file=/tmp/tmp43ug163o/prophet_modelw35oov7g/prophet_model-20221226080956.csv', 'method=optimize', 'algorithm=lbfgs', 'iter=10000']\n",
            "08:09:56 - cmdstanpy - INFO - Chain [1] start processing\n",
            "INFO:cmdstanpy:Chain [1] start processing\n"
          ]
        },
        {
          "output_type": "stream",
          "name": "stdout",
          "text": [
            "Difference of RMSE:(10, ':', -0.767)\n"
          ]
        },
        {
          "output_type": "stream",
          "name": "stderr",
          "text": [
            "08:09:56 - cmdstanpy - INFO - Chain [1] done processing\n",
            "INFO:cmdstanpy:Chain [1] done processing\n",
            "<ipython-input-16-48fe3a25c755>:46: FutureWarning: DataFrame.mean and DataFrame.median with numeric_only=None will include datetime64 and datetime64tz columns in a future version.\n",
            "  df_Prophet_addreg.fillna(df_Prophet_addreg.mean(), inplace=True)\n",
            "<ipython-input-16-48fe3a25c755>:50: FutureWarning: Series.dt.weekofyear and Series.dt.week have been deprecated.  Please use Series.dt.isocalendar().week instead.\n",
            "  df_Prophet_addreg[\"week\"] = df_Prophet_addreg.Timestamp.dt.week\n",
            "DEBUG:cmdstanpy:input tempfile: /tmp/tmp43ug163o/4l1sol98.json\n",
            "DEBUG:cmdstanpy:input tempfile: /tmp/tmp43ug163o/4qs6u3lw.json\n",
            "DEBUG:cmdstanpy:idx 0\n",
            "DEBUG:cmdstanpy:running CmdStan, num_threads: None\n",
            "DEBUG:cmdstanpy:CmdStan args: ['/usr/local/lib/python3.8/dist-packages/prophet/stan_model/prophet_model.bin', 'random', 'seed=63504', 'data', 'file=/tmp/tmp43ug163o/4l1sol98.json', 'init=/tmp/tmp43ug163o/4qs6u3lw.json', 'output', 'file=/tmp/tmp43ug163o/prophet_modelpgoc8qds/prophet_model-20221226080957.csv', 'method=optimize', 'algorithm=lbfgs', 'iter=10000']\n",
            "08:09:57 - cmdstanpy - INFO - Chain [1] start processing\n",
            "INFO:cmdstanpy:Chain [1] start processing\n"
          ]
        },
        {
          "output_type": "stream",
          "name": "stdout",
          "text": [
            "Difference of RMSE:(11, ':', -0.767)\n"
          ]
        },
        {
          "output_type": "stream",
          "name": "stderr",
          "text": [
            "08:09:57 - cmdstanpy - INFO - Chain [1] done processing\n",
            "INFO:cmdstanpy:Chain [1] done processing\n",
            "<ipython-input-16-48fe3a25c755>:46: FutureWarning: DataFrame.mean and DataFrame.median with numeric_only=None will include datetime64 and datetime64tz columns in a future version.\n",
            "  df_Prophet_addreg.fillna(df_Prophet_addreg.mean(), inplace=True)\n",
            "<ipython-input-16-48fe3a25c755>:50: FutureWarning: Series.dt.weekofyear and Series.dt.week have been deprecated.  Please use Series.dt.isocalendar().week instead.\n",
            "  df_Prophet_addreg[\"week\"] = df_Prophet_addreg.Timestamp.dt.week\n",
            "DEBUG:cmdstanpy:input tempfile: /tmp/tmp43ug163o/ywid2viz.json\n"
          ]
        },
        {
          "output_type": "stream",
          "name": "stdout",
          "text": [
            "Difference of RMSE:(12, ':', -0.766)\n"
          ]
        },
        {
          "output_type": "stream",
          "name": "stderr",
          "text": [
            "DEBUG:cmdstanpy:input tempfile: /tmp/tmp43ug163o/1_zcnl62.json\n",
            "DEBUG:cmdstanpy:idx 0\n",
            "DEBUG:cmdstanpy:running CmdStan, num_threads: None\n",
            "DEBUG:cmdstanpy:CmdStan args: ['/usr/local/lib/python3.8/dist-packages/prophet/stan_model/prophet_model.bin', 'random', 'seed=12891', 'data', 'file=/tmp/tmp43ug163o/ywid2viz.json', 'init=/tmp/tmp43ug163o/1_zcnl62.json', 'output', 'file=/tmp/tmp43ug163o/prophet_modele4dum41e/prophet_model-20221226080958.csv', 'method=optimize', 'algorithm=lbfgs', 'iter=10000']\n",
            "08:09:58 - cmdstanpy - INFO - Chain [1] start processing\n",
            "INFO:cmdstanpy:Chain [1] start processing\n",
            "08:09:58 - cmdstanpy - INFO - Chain [1] done processing\n",
            "INFO:cmdstanpy:Chain [1] done processing\n",
            "<ipython-input-16-48fe3a25c755>:46: FutureWarning: DataFrame.mean and DataFrame.median with numeric_only=None will include datetime64 and datetime64tz columns in a future version.\n",
            "  df_Prophet_addreg.fillna(df_Prophet_addreg.mean(), inplace=True)\n",
            "<ipython-input-16-48fe3a25c755>:50: FutureWarning: Series.dt.weekofyear and Series.dt.week have been deprecated.  Please use Series.dt.isocalendar().week instead.\n",
            "  df_Prophet_addreg[\"week\"] = df_Prophet_addreg.Timestamp.dt.week\n",
            "DEBUG:cmdstanpy:input tempfile: /tmp/tmp43ug163o/9dzu_4et.json\n",
            "DEBUG:cmdstanpy:input tempfile: /tmp/tmp43ug163o/t6se1j92.json\n",
            "DEBUG:cmdstanpy:idx 0\n",
            "DEBUG:cmdstanpy:running CmdStan, num_threads: None\n",
            "DEBUG:cmdstanpy:CmdStan args: ['/usr/local/lib/python3.8/dist-packages/prophet/stan_model/prophet_model.bin', 'random', 'seed=12646', 'data', 'file=/tmp/tmp43ug163o/9dzu_4et.json', 'init=/tmp/tmp43ug163o/t6se1j92.json', 'output', 'file=/tmp/tmp43ug163o/prophet_modelscz42u65/prophet_model-20221226080959.csv', 'method=optimize', 'algorithm=lbfgs', 'iter=10000']\n",
            "08:09:59 - cmdstanpy - INFO - Chain [1] start processing\n",
            "INFO:cmdstanpy:Chain [1] start processing\n"
          ]
        },
        {
          "output_type": "stream",
          "name": "stdout",
          "text": [
            "Difference of RMSE:(13, ':', -0.766)\n"
          ]
        },
        {
          "output_type": "stream",
          "name": "stderr",
          "text": [
            "08:09:59 - cmdstanpy - INFO - Chain [1] done processing\n",
            "INFO:cmdstanpy:Chain [1] done processing\n",
            "<ipython-input-16-48fe3a25c755>:46: FutureWarning: DataFrame.mean and DataFrame.median with numeric_only=None will include datetime64 and datetime64tz columns in a future version.\n",
            "  df_Prophet_addreg.fillna(df_Prophet_addreg.mean(), inplace=True)\n",
            "<ipython-input-16-48fe3a25c755>:50: FutureWarning: Series.dt.weekofyear and Series.dt.week have been deprecated.  Please use Series.dt.isocalendar().week instead.\n",
            "  df_Prophet_addreg[\"week\"] = df_Prophet_addreg.Timestamp.dt.week\n",
            "DEBUG:cmdstanpy:input tempfile: /tmp/tmp43ug163o/m0nw26r2.json\n",
            "DEBUG:cmdstanpy:input tempfile: /tmp/tmp43ug163o/zcng74u4.json\n",
            "DEBUG:cmdstanpy:idx 0\n",
            "DEBUG:cmdstanpy:running CmdStan, num_threads: None\n",
            "DEBUG:cmdstanpy:CmdStan args: ['/usr/local/lib/python3.8/dist-packages/prophet/stan_model/prophet_model.bin', 'random', 'seed=25952', 'data', 'file=/tmp/tmp43ug163o/m0nw26r2.json', 'init=/tmp/tmp43ug163o/zcng74u4.json', 'output', 'file=/tmp/tmp43ug163o/prophet_modelbm14dn3q/prophet_model-20221226081000.csv', 'method=optimize', 'algorithm=lbfgs', 'iter=10000']\n",
            "08:10:00 - cmdstanpy - INFO - Chain [1] start processing\n",
            "INFO:cmdstanpy:Chain [1] start processing\n"
          ]
        },
        {
          "output_type": "stream",
          "name": "stdout",
          "text": [
            "Difference of RMSE:(14, ':', -0.33)\n"
          ]
        },
        {
          "output_type": "stream",
          "name": "stderr",
          "text": [
            "08:10:00 - cmdstanpy - INFO - Chain [1] done processing\n",
            "INFO:cmdstanpy:Chain [1] done processing\n",
            "<ipython-input-16-48fe3a25c755>:46: FutureWarning: DataFrame.mean and DataFrame.median with numeric_only=None will include datetime64 and datetime64tz columns in a future version.\n",
            "  df_Prophet_addreg.fillna(df_Prophet_addreg.mean(), inplace=True)\n",
            "<ipython-input-16-48fe3a25c755>:50: FutureWarning: Series.dt.weekofyear and Series.dt.week have been deprecated.  Please use Series.dt.isocalendar().week instead.\n",
            "  df_Prophet_addreg[\"week\"] = df_Prophet_addreg.Timestamp.dt.week\n",
            "DEBUG:cmdstanpy:input tempfile: /tmp/tmp43ug163o/kbivig_0.json\n",
            "DEBUG:cmdstanpy:input tempfile: /tmp/tmp43ug163o/acvv3oml.json\n",
            "DEBUG:cmdstanpy:idx 0\n",
            "DEBUG:cmdstanpy:running CmdStan, num_threads: None\n",
            "DEBUG:cmdstanpy:CmdStan args: ['/usr/local/lib/python3.8/dist-packages/prophet/stan_model/prophet_model.bin', 'random', 'seed=74035', 'data', 'file=/tmp/tmp43ug163o/kbivig_0.json', 'init=/tmp/tmp43ug163o/acvv3oml.json', 'output', 'file=/tmp/tmp43ug163o/prophet_modelw14zpctw/prophet_model-20221226081000.csv', 'method=optimize', 'algorithm=lbfgs', 'iter=10000']\n",
            "08:10:00 - cmdstanpy - INFO - Chain [1] start processing\n",
            "INFO:cmdstanpy:Chain [1] start processing\n"
          ]
        },
        {
          "output_type": "stream",
          "name": "stdout",
          "text": [
            "Difference of RMSE:(15, ':', -0.765)\n"
          ]
        },
        {
          "output_type": "stream",
          "name": "stderr",
          "text": [
            "08:10:00 - cmdstanpy - INFO - Chain [1] done processing\n",
            "INFO:cmdstanpy:Chain [1] done processing\n",
            "<ipython-input-16-48fe3a25c755>:46: FutureWarning: DataFrame.mean and DataFrame.median with numeric_only=None will include datetime64 and datetime64tz columns in a future version.\n",
            "  df_Prophet_addreg.fillna(df_Prophet_addreg.mean(), inplace=True)\n",
            "<ipython-input-16-48fe3a25c755>:50: FutureWarning: Series.dt.weekofyear and Series.dt.week have been deprecated.  Please use Series.dt.isocalendar().week instead.\n",
            "  df_Prophet_addreg[\"week\"] = df_Prophet_addreg.Timestamp.dt.week\n",
            "DEBUG:cmdstanpy:input tempfile: /tmp/tmp43ug163o/799f0guh.json\n",
            "DEBUG:cmdstanpy:input tempfile: /tmp/tmp43ug163o/gtp5nxu2.json\n",
            "DEBUG:cmdstanpy:idx 0\n",
            "DEBUG:cmdstanpy:running CmdStan, num_threads: None\n",
            "DEBUG:cmdstanpy:CmdStan args: ['/usr/local/lib/python3.8/dist-packages/prophet/stan_model/prophet_model.bin', 'random', 'seed=96681', 'data', 'file=/tmp/tmp43ug163o/799f0guh.json', 'init=/tmp/tmp43ug163o/gtp5nxu2.json', 'output', 'file=/tmp/tmp43ug163o/prophet_model24infpfn/prophet_model-20221226081001.csv', 'method=optimize', 'algorithm=lbfgs', 'iter=10000']\n",
            "08:10:01 - cmdstanpy - INFO - Chain [1] start processing\n",
            "INFO:cmdstanpy:Chain [1] start processing\n"
          ]
        },
        {
          "output_type": "stream",
          "name": "stdout",
          "text": [
            "Difference of RMSE:(16, ':', -0.765)\n"
          ]
        },
        {
          "output_type": "stream",
          "name": "stderr",
          "text": [
            "08:10:01 - cmdstanpy - INFO - Chain [1] done processing\n",
            "INFO:cmdstanpy:Chain [1] done processing\n",
            "<ipython-input-16-48fe3a25c755>:46: FutureWarning: DataFrame.mean and DataFrame.median with numeric_only=None will include datetime64 and datetime64tz columns in a future version.\n",
            "  df_Prophet_addreg.fillna(df_Prophet_addreg.mean(), inplace=True)\n",
            "<ipython-input-16-48fe3a25c755>:50: FutureWarning: Series.dt.weekofyear and Series.dt.week have been deprecated.  Please use Series.dt.isocalendar().week instead.\n",
            "  df_Prophet_addreg[\"week\"] = df_Prophet_addreg.Timestamp.dt.week\n",
            "DEBUG:cmdstanpy:input tempfile: /tmp/tmp43ug163o/bx6jepgk.json\n"
          ]
        },
        {
          "output_type": "stream",
          "name": "stdout",
          "text": [
            "Difference of RMSE:(17, ':', -0.765)\n"
          ]
        },
        {
          "output_type": "stream",
          "name": "stderr",
          "text": [
            "DEBUG:cmdstanpy:input tempfile: /tmp/tmp43ug163o/mfpywbtj.json\n",
            "DEBUG:cmdstanpy:idx 0\n",
            "DEBUG:cmdstanpy:running CmdStan, num_threads: None\n",
            "DEBUG:cmdstanpy:CmdStan args: ['/usr/local/lib/python3.8/dist-packages/prophet/stan_model/prophet_model.bin', 'random', 'seed=87484', 'data', 'file=/tmp/tmp43ug163o/bx6jepgk.json', 'init=/tmp/tmp43ug163o/mfpywbtj.json', 'output', 'file=/tmp/tmp43ug163o/prophet_modelryi5zbvj/prophet_model-20221226081002.csv', 'method=optimize', 'algorithm=lbfgs', 'iter=10000']\n",
            "08:10:02 - cmdstanpy - INFO - Chain [1] start processing\n",
            "INFO:cmdstanpy:Chain [1] start processing\n",
            "08:10:02 - cmdstanpy - INFO - Chain [1] done processing\n",
            "INFO:cmdstanpy:Chain [1] done processing\n",
            "<ipython-input-16-48fe3a25c755>:46: FutureWarning: DataFrame.mean and DataFrame.median with numeric_only=None will include datetime64 and datetime64tz columns in a future version.\n",
            "  df_Prophet_addreg.fillna(df_Prophet_addreg.mean(), inplace=True)\n",
            "<ipython-input-16-48fe3a25c755>:50: FutureWarning: Series.dt.weekofyear and Series.dt.week have been deprecated.  Please use Series.dt.isocalendar().week instead.\n",
            "  df_Prophet_addreg[\"week\"] = df_Prophet_addreg.Timestamp.dt.week\n",
            "DEBUG:cmdstanpy:input tempfile: /tmp/tmp43ug163o/m55_fjeo.json\n",
            "DEBUG:cmdstanpy:input tempfile: /tmp/tmp43ug163o/by99x_rm.json\n",
            "DEBUG:cmdstanpy:idx 0\n",
            "DEBUG:cmdstanpy:running CmdStan, num_threads: None\n",
            "DEBUG:cmdstanpy:CmdStan args: ['/usr/local/lib/python3.8/dist-packages/prophet/stan_model/prophet_model.bin', 'random', 'seed=78117', 'data', 'file=/tmp/tmp43ug163o/m55_fjeo.json', 'init=/tmp/tmp43ug163o/by99x_rm.json', 'output', 'file=/tmp/tmp43ug163o/prophet_model741n7khj/prophet_model-20221226081003.csv', 'method=optimize', 'algorithm=lbfgs', 'iter=10000']\n",
            "08:10:03 - cmdstanpy - INFO - Chain [1] start processing\n",
            "INFO:cmdstanpy:Chain [1] start processing\n"
          ]
        },
        {
          "output_type": "stream",
          "name": "stdout",
          "text": [
            "Difference of RMSE:(18, ':', -0.765)\n"
          ]
        },
        {
          "output_type": "stream",
          "name": "stderr",
          "text": [
            "08:10:03 - cmdstanpy - INFO - Chain [1] done processing\n",
            "INFO:cmdstanpy:Chain [1] done processing\n",
            "<ipython-input-16-48fe3a25c755>:46: FutureWarning: DataFrame.mean and DataFrame.median with numeric_only=None will include datetime64 and datetime64tz columns in a future version.\n",
            "  df_Prophet_addreg.fillna(df_Prophet_addreg.mean(), inplace=True)\n",
            "<ipython-input-16-48fe3a25c755>:50: FutureWarning: Series.dt.weekofyear and Series.dt.week have been deprecated.  Please use Series.dt.isocalendar().week instead.\n",
            "  df_Prophet_addreg[\"week\"] = df_Prophet_addreg.Timestamp.dt.week\n",
            "DEBUG:cmdstanpy:input tempfile: /tmp/tmp43ug163o/2aopw0g8.json\n",
            "DEBUG:cmdstanpy:input tempfile: /tmp/tmp43ug163o/v4tco3bc.json\n",
            "DEBUG:cmdstanpy:idx 0\n",
            "DEBUG:cmdstanpy:running CmdStan, num_threads: None\n",
            "DEBUG:cmdstanpy:CmdStan args: ['/usr/local/lib/python3.8/dist-packages/prophet/stan_model/prophet_model.bin', 'random', 'seed=36432', 'data', 'file=/tmp/tmp43ug163o/2aopw0g8.json', 'init=/tmp/tmp43ug163o/v4tco3bc.json', 'output', 'file=/tmp/tmp43ug163o/prophet_modelqdqf7fn_/prophet_model-20221226081004.csv', 'method=optimize', 'algorithm=lbfgs', 'iter=10000']\n",
            "08:10:04 - cmdstanpy - INFO - Chain [1] start processing\n",
            "INFO:cmdstanpy:Chain [1] start processing\n"
          ]
        },
        {
          "output_type": "stream",
          "name": "stdout",
          "text": [
            "Difference of RMSE:(19, ':', -0.766)\n"
          ]
        },
        {
          "output_type": "stream",
          "name": "stderr",
          "text": [
            "08:10:04 - cmdstanpy - INFO - Chain [1] done processing\n",
            "INFO:cmdstanpy:Chain [1] done processing\n",
            "<ipython-input-16-48fe3a25c755>:46: FutureWarning: DataFrame.mean and DataFrame.median with numeric_only=None will include datetime64 and datetime64tz columns in a future version.\n",
            "  df_Prophet_addreg.fillna(df_Prophet_addreg.mean(), inplace=True)\n",
            "<ipython-input-16-48fe3a25c755>:50: FutureWarning: Series.dt.weekofyear and Series.dt.week have been deprecated.  Please use Series.dt.isocalendar().week instead.\n",
            "  df_Prophet_addreg[\"week\"] = df_Prophet_addreg.Timestamp.dt.week\n",
            "DEBUG:cmdstanpy:input tempfile: /tmp/tmp43ug163o/k10qxk1p.json\n",
            "DEBUG:cmdstanpy:input tempfile: /tmp/tmp43ug163o/z5cjkr3s.json\n",
            "DEBUG:cmdstanpy:idx 0\n",
            "DEBUG:cmdstanpy:running CmdStan, num_threads: None\n",
            "DEBUG:cmdstanpy:CmdStan args: ['/usr/local/lib/python3.8/dist-packages/prophet/stan_model/prophet_model.bin', 'random', 'seed=53347', 'data', 'file=/tmp/tmp43ug163o/k10qxk1p.json', 'init=/tmp/tmp43ug163o/z5cjkr3s.json', 'output', 'file=/tmp/tmp43ug163o/prophet_modely6hd2sru/prophet_model-20221226081005.csv', 'method=optimize', 'algorithm=lbfgs', 'iter=10000']\n",
            "08:10:05 - cmdstanpy - INFO - Chain [1] start processing\n",
            "INFO:cmdstanpy:Chain [1] start processing\n"
          ]
        },
        {
          "output_type": "stream",
          "name": "stdout",
          "text": [
            "Difference of RMSE:(20, ':', -0.766)\n"
          ]
        },
        {
          "output_type": "stream",
          "name": "stderr",
          "text": [
            "08:10:05 - cmdstanpy - INFO - Chain [1] done processing\n",
            "INFO:cmdstanpy:Chain [1] done processing\n",
            "<ipython-input-16-48fe3a25c755>:46: FutureWarning: DataFrame.mean and DataFrame.median with numeric_only=None will include datetime64 and datetime64tz columns in a future version.\n",
            "  df_Prophet_addreg.fillna(df_Prophet_addreg.mean(), inplace=True)\n",
            "<ipython-input-16-48fe3a25c755>:50: FutureWarning: Series.dt.weekofyear and Series.dt.week have been deprecated.  Please use Series.dt.isocalendar().week instead.\n",
            "  df_Prophet_addreg[\"week\"] = df_Prophet_addreg.Timestamp.dt.week\n",
            "DEBUG:cmdstanpy:input tempfile: /tmp/tmp43ug163o/ft_qk1u4.json\n",
            "DEBUG:cmdstanpy:input tempfile: /tmp/tmp43ug163o/nnpkqzvx.json\n",
            "DEBUG:cmdstanpy:idx 0\n",
            "DEBUG:cmdstanpy:running CmdStan, num_threads: None\n",
            "DEBUG:cmdstanpy:CmdStan args: ['/usr/local/lib/python3.8/dist-packages/prophet/stan_model/prophet_model.bin', 'random', 'seed=83850', 'data', 'file=/tmp/tmp43ug163o/ft_qk1u4.json', 'init=/tmp/tmp43ug163o/nnpkqzvx.json', 'output', 'file=/tmp/tmp43ug163o/prophet_modelnxvj6ivg/prophet_model-20221226081006.csv', 'method=optimize', 'algorithm=lbfgs', 'iter=10000']\n",
            "08:10:06 - cmdstanpy - INFO - Chain [1] start processing\n",
            "INFO:cmdstanpy:Chain [1] start processing\n"
          ]
        },
        {
          "output_type": "stream",
          "name": "stdout",
          "text": [
            "Difference of RMSE:(21, ':', -0.766)\n"
          ]
        },
        {
          "output_type": "stream",
          "name": "stderr",
          "text": [
            "08:10:06 - cmdstanpy - INFO - Chain [1] done processing\n",
            "INFO:cmdstanpy:Chain [1] done processing\n"
          ]
        },
        {
          "output_type": "stream",
          "name": "stdout",
          "text": [
            "Difference of RMSE:(22, ':', -0.766)\n"
          ]
        },
        {
          "output_type": "stream",
          "name": "stderr",
          "text": [
            "<ipython-input-16-48fe3a25c755>:46: FutureWarning: DataFrame.mean and DataFrame.median with numeric_only=None will include datetime64 and datetime64tz columns in a future version.\n",
            "  df_Prophet_addreg.fillna(df_Prophet_addreg.mean(), inplace=True)\n",
            "<ipython-input-16-48fe3a25c755>:50: FutureWarning: Series.dt.weekofyear and Series.dt.week have been deprecated.  Please use Series.dt.isocalendar().week instead.\n",
            "  df_Prophet_addreg[\"week\"] = df_Prophet_addreg.Timestamp.dt.week\n",
            "DEBUG:cmdstanpy:input tempfile: /tmp/tmp43ug163o/0urpgz40.json\n",
            "DEBUG:cmdstanpy:input tempfile: /tmp/tmp43ug163o/g17z2c4a.json\n",
            "DEBUG:cmdstanpy:idx 0\n",
            "DEBUG:cmdstanpy:running CmdStan, num_threads: None\n",
            "DEBUG:cmdstanpy:CmdStan args: ['/usr/local/lib/python3.8/dist-packages/prophet/stan_model/prophet_model.bin', 'random', 'seed=20371', 'data', 'file=/tmp/tmp43ug163o/0urpgz40.json', 'init=/tmp/tmp43ug163o/g17z2c4a.json', 'output', 'file=/tmp/tmp43ug163o/prophet_modelh0yl18go/prophet_model-20221226081006.csv', 'method=optimize', 'algorithm=lbfgs', 'iter=10000']\n",
            "08:10:06 - cmdstanpy - INFO - Chain [1] start processing\n",
            "INFO:cmdstanpy:Chain [1] start processing\n",
            "08:10:07 - cmdstanpy - INFO - Chain [1] done processing\n",
            "INFO:cmdstanpy:Chain [1] done processing\n",
            "<ipython-input-16-48fe3a25c755>:46: FutureWarning: DataFrame.mean and DataFrame.median with numeric_only=None will include datetime64 and datetime64tz columns in a future version.\n",
            "  df_Prophet_addreg.fillna(df_Prophet_addreg.mean(), inplace=True)\n",
            "<ipython-input-16-48fe3a25c755>:50: FutureWarning: Series.dt.weekofyear and Series.dt.week have been deprecated.  Please use Series.dt.isocalendar().week instead.\n",
            "  df_Prophet_addreg[\"week\"] = df_Prophet_addreg.Timestamp.dt.week\n",
            "DEBUG:cmdstanpy:input tempfile: /tmp/tmp43ug163o/qzyqe1l3.json\n",
            "DEBUG:cmdstanpy:input tempfile: /tmp/tmp43ug163o/our0ycr3.json\n",
            "DEBUG:cmdstanpy:idx 0\n",
            "DEBUG:cmdstanpy:running CmdStan, num_threads: None\n",
            "DEBUG:cmdstanpy:CmdStan args: ['/usr/local/lib/python3.8/dist-packages/prophet/stan_model/prophet_model.bin', 'random', 'seed=80832', 'data', 'file=/tmp/tmp43ug163o/qzyqe1l3.json', 'init=/tmp/tmp43ug163o/our0ycr3.json', 'output', 'file=/tmp/tmp43ug163o/prophet_modelyx5pqhs4/prophet_model-20221226081007.csv', 'method=optimize', 'algorithm=lbfgs', 'iter=10000']\n",
            "08:10:07 - cmdstanpy - INFO - Chain [1] start processing\n",
            "INFO:cmdstanpy:Chain [1] start processing\n"
          ]
        },
        {
          "output_type": "stream",
          "name": "stdout",
          "text": [
            "Difference of RMSE:(23, ':', -0.766)\n"
          ]
        },
        {
          "output_type": "stream",
          "name": "stderr",
          "text": [
            "08:10:07 - cmdstanpy - INFO - Chain [1] done processing\n",
            "INFO:cmdstanpy:Chain [1] done processing\n",
            "<ipython-input-16-48fe3a25c755>:46: FutureWarning: DataFrame.mean and DataFrame.median with numeric_only=None will include datetime64 and datetime64tz columns in a future version.\n",
            "  df_Prophet_addreg.fillna(df_Prophet_addreg.mean(), inplace=True)\n",
            "<ipython-input-16-48fe3a25c755>:50: FutureWarning: Series.dt.weekofyear and Series.dt.week have been deprecated.  Please use Series.dt.isocalendar().week instead.\n",
            "  df_Prophet_addreg[\"week\"] = df_Prophet_addreg.Timestamp.dt.week\n",
            "DEBUG:cmdstanpy:input tempfile: /tmp/tmp43ug163o/skvni9ya.json\n",
            "DEBUG:cmdstanpy:input tempfile: /tmp/tmp43ug163o/ykl55jda.json\n",
            "DEBUG:cmdstanpy:idx 0\n",
            "DEBUG:cmdstanpy:running CmdStan, num_threads: None\n",
            "DEBUG:cmdstanpy:CmdStan args: ['/usr/local/lib/python3.8/dist-packages/prophet/stan_model/prophet_model.bin', 'random', 'seed=17060', 'data', 'file=/tmp/tmp43ug163o/skvni9ya.json', 'init=/tmp/tmp43ug163o/ykl55jda.json', 'output', 'file=/tmp/tmp43ug163o/prophet_modelth11gxtx/prophet_model-20221226081008.csv', 'method=optimize', 'algorithm=lbfgs', 'iter=10000']\n",
            "08:10:08 - cmdstanpy - INFO - Chain [1] start processing\n",
            "INFO:cmdstanpy:Chain [1] start processing\n"
          ]
        },
        {
          "output_type": "stream",
          "name": "stdout",
          "text": [
            "Difference of RMSE:(24, ':', -0.769)\n"
          ]
        },
        {
          "output_type": "stream",
          "name": "stderr",
          "text": [
            "08:10:08 - cmdstanpy - INFO - Chain [1] done processing\n",
            "INFO:cmdstanpy:Chain [1] done processing\n",
            "<ipython-input-16-48fe3a25c755>:46: FutureWarning: DataFrame.mean and DataFrame.median with numeric_only=None will include datetime64 and datetime64tz columns in a future version.\n",
            "  df_Prophet_addreg.fillna(df_Prophet_addreg.mean(), inplace=True)\n",
            "<ipython-input-16-48fe3a25c755>:50: FutureWarning: Series.dt.weekofyear and Series.dt.week have been deprecated.  Please use Series.dt.isocalendar().week instead.\n",
            "  df_Prophet_addreg[\"week\"] = df_Prophet_addreg.Timestamp.dt.week\n",
            "DEBUG:cmdstanpy:input tempfile: /tmp/tmp43ug163o/pb6e9ddb.json\n",
            "DEBUG:cmdstanpy:input tempfile: /tmp/tmp43ug163o/sh1dmj63.json\n",
            "DEBUG:cmdstanpy:idx 0\n",
            "DEBUG:cmdstanpy:running CmdStan, num_threads: None\n",
            "DEBUG:cmdstanpy:CmdStan args: ['/usr/local/lib/python3.8/dist-packages/prophet/stan_model/prophet_model.bin', 'random', 'seed=17670', 'data', 'file=/tmp/tmp43ug163o/pb6e9ddb.json', 'init=/tmp/tmp43ug163o/sh1dmj63.json', 'output', 'file=/tmp/tmp43ug163o/prophet_modela9j96248/prophet_model-20221226081009.csv', 'method=optimize', 'algorithm=lbfgs', 'iter=10000']\n",
            "08:10:09 - cmdstanpy - INFO - Chain [1] start processing\n",
            "INFO:cmdstanpy:Chain [1] start processing\n"
          ]
        },
        {
          "output_type": "stream",
          "name": "stdout",
          "text": [
            "Difference of RMSE:(25, ':', -0.749)\n"
          ]
        },
        {
          "output_type": "stream",
          "name": "stderr",
          "text": [
            "08:10:09 - cmdstanpy - INFO - Chain [1] done processing\n",
            "INFO:cmdstanpy:Chain [1] done processing\n",
            "<ipython-input-16-48fe3a25c755>:46: FutureWarning: DataFrame.mean and DataFrame.median with numeric_only=None will include datetime64 and datetime64tz columns in a future version.\n",
            "  df_Prophet_addreg.fillna(df_Prophet_addreg.mean(), inplace=True)\n",
            "<ipython-input-16-48fe3a25c755>:50: FutureWarning: Series.dt.weekofyear and Series.dt.week have been deprecated.  Please use Series.dt.isocalendar().week instead.\n",
            "  df_Prophet_addreg[\"week\"] = df_Prophet_addreg.Timestamp.dt.week\n",
            "DEBUG:cmdstanpy:input tempfile: /tmp/tmp43ug163o/yx2le6gg.json\n",
            "DEBUG:cmdstanpy:input tempfile: /tmp/tmp43ug163o/o7uu3th4.json\n",
            "DEBUG:cmdstanpy:idx 0\n",
            "DEBUG:cmdstanpy:running CmdStan, num_threads: None\n",
            "DEBUG:cmdstanpy:CmdStan args: ['/usr/local/lib/python3.8/dist-packages/prophet/stan_model/prophet_model.bin', 'random', 'seed=62926', 'data', 'file=/tmp/tmp43ug163o/yx2le6gg.json', 'init=/tmp/tmp43ug163o/o7uu3th4.json', 'output', 'file=/tmp/tmp43ug163o/prophet_modely1qraea_/prophet_model-20221226081010.csv', 'method=optimize', 'algorithm=lbfgs', 'iter=10000']\n",
            "08:10:10 - cmdstanpy - INFO - Chain [1] start processing\n",
            "INFO:cmdstanpy:Chain [1] start processing\n"
          ]
        },
        {
          "output_type": "stream",
          "name": "stdout",
          "text": [
            "Difference of RMSE:(26, ':', -0.749)\n"
          ]
        },
        {
          "output_type": "stream",
          "name": "stderr",
          "text": [
            "08:10:10 - cmdstanpy - INFO - Chain [1] done processing\n",
            "INFO:cmdstanpy:Chain [1] done processing\n",
            "<ipython-input-16-48fe3a25c755>:46: FutureWarning: DataFrame.mean and DataFrame.median with numeric_only=None will include datetime64 and datetime64tz columns in a future version.\n",
            "  df_Prophet_addreg.fillna(df_Prophet_addreg.mean(), inplace=True)\n",
            "<ipython-input-16-48fe3a25c755>:50: FutureWarning: Series.dt.weekofyear and Series.dt.week have been deprecated.  Please use Series.dt.isocalendar().week instead.\n",
            "  df_Prophet_addreg[\"week\"] = df_Prophet_addreg.Timestamp.dt.week\n",
            "DEBUG:cmdstanpy:input tempfile: /tmp/tmp43ug163o/7cr7m4as.json\n",
            "DEBUG:cmdstanpy:input tempfile: /tmp/tmp43ug163o/iejjq0gd.json\n",
            "DEBUG:cmdstanpy:idx 0\n",
            "DEBUG:cmdstanpy:running CmdStan, num_threads: None\n",
            "DEBUG:cmdstanpy:CmdStan args: ['/usr/local/lib/python3.8/dist-packages/prophet/stan_model/prophet_model.bin', 'random', 'seed=95727', 'data', 'file=/tmp/tmp43ug163o/7cr7m4as.json', 'init=/tmp/tmp43ug163o/iejjq0gd.json', 'output', 'file=/tmp/tmp43ug163o/prophet_model4d1hde75/prophet_model-20221226081011.csv', 'method=optimize', 'algorithm=lbfgs', 'iter=10000']\n",
            "08:10:11 - cmdstanpy - INFO - Chain [1] start processing\n",
            "INFO:cmdstanpy:Chain [1] start processing\n"
          ]
        },
        {
          "output_type": "stream",
          "name": "stdout",
          "text": [
            "Difference of RMSE:(27, ':', -0.749)\n"
          ]
        },
        {
          "output_type": "stream",
          "name": "stderr",
          "text": [
            "08:10:11 - cmdstanpy - INFO - Chain [1] done processing\n",
            "INFO:cmdstanpy:Chain [1] done processing\n",
            "<ipython-input-16-48fe3a25c755>:46: FutureWarning: DataFrame.mean and DataFrame.median with numeric_only=None will include datetime64 and datetime64tz columns in a future version.\n",
            "  df_Prophet_addreg.fillna(df_Prophet_addreg.mean(), inplace=True)\n",
            "<ipython-input-16-48fe3a25c755>:50: FutureWarning: Series.dt.weekofyear and Series.dt.week have been deprecated.  Please use Series.dt.isocalendar().week instead.\n",
            "  df_Prophet_addreg[\"week\"] = df_Prophet_addreg.Timestamp.dt.week\n",
            "DEBUG:cmdstanpy:input tempfile: /tmp/tmp43ug163o/mw681y4l.json\n",
            "DEBUG:cmdstanpy:input tempfile: /tmp/tmp43ug163o/bv0os4q7.json\n",
            "DEBUG:cmdstanpy:idx 0\n",
            "DEBUG:cmdstanpy:running CmdStan, num_threads: None\n",
            "DEBUG:cmdstanpy:CmdStan args: ['/usr/local/lib/python3.8/dist-packages/prophet/stan_model/prophet_model.bin', 'random', 'seed=85040', 'data', 'file=/tmp/tmp43ug163o/mw681y4l.json', 'init=/tmp/tmp43ug163o/bv0os4q7.json', 'output', 'file=/tmp/tmp43ug163o/prophet_modellf567_rc/prophet_model-20221226081012.csv', 'method=optimize', 'algorithm=lbfgs', 'iter=10000']\n",
            "08:10:12 - cmdstanpy - INFO - Chain [1] start processing\n",
            "INFO:cmdstanpy:Chain [1] start processing\n"
          ]
        },
        {
          "output_type": "stream",
          "name": "stdout",
          "text": [
            "Difference of RMSE:(28, ':', -0.766)\n"
          ]
        },
        {
          "output_type": "stream",
          "name": "stderr",
          "text": [
            "08:10:12 - cmdstanpy - INFO - Chain [1] done processing\n",
            "INFO:cmdstanpy:Chain [1] done processing\n",
            "<ipython-input-16-48fe3a25c755>:46: FutureWarning: DataFrame.mean and DataFrame.median with numeric_only=None will include datetime64 and datetime64tz columns in a future version.\n",
            "  df_Prophet_addreg.fillna(df_Prophet_addreg.mean(), inplace=True)\n",
            "<ipython-input-16-48fe3a25c755>:50: FutureWarning: Series.dt.weekofyear and Series.dt.week have been deprecated.  Please use Series.dt.isocalendar().week instead.\n",
            "  df_Prophet_addreg[\"week\"] = df_Prophet_addreg.Timestamp.dt.week\n",
            "DEBUG:cmdstanpy:input tempfile: /tmp/tmp43ug163o/rd4jsx6m.json\n",
            "DEBUG:cmdstanpy:input tempfile: /tmp/tmp43ug163o/13u78idg.json\n",
            "DEBUG:cmdstanpy:idx 0\n",
            "DEBUG:cmdstanpy:running CmdStan, num_threads: None\n",
            "DEBUG:cmdstanpy:CmdStan args: ['/usr/local/lib/python3.8/dist-packages/prophet/stan_model/prophet_model.bin', 'random', 'seed=80863', 'data', 'file=/tmp/tmp43ug163o/rd4jsx6m.json', 'init=/tmp/tmp43ug163o/13u78idg.json', 'output', 'file=/tmp/tmp43ug163o/prophet_modelu61zvv09/prophet_model-20221226081013.csv', 'method=optimize', 'algorithm=lbfgs', 'iter=10000']\n",
            "08:10:13 - cmdstanpy - INFO - Chain [1] start processing\n",
            "INFO:cmdstanpy:Chain [1] start processing\n"
          ]
        },
        {
          "output_type": "stream",
          "name": "stdout",
          "text": [
            "Difference of RMSE:(29, ':', -0.766)\n"
          ]
        },
        {
          "output_type": "stream",
          "name": "stderr",
          "text": [
            "08:10:13 - cmdstanpy - INFO - Chain [1] done processing\n",
            "INFO:cmdstanpy:Chain [1] done processing\n",
            "<ipython-input-16-48fe3a25c755>:46: FutureWarning: DataFrame.mean and DataFrame.median with numeric_only=None will include datetime64 and datetime64tz columns in a future version.\n",
            "  df_Prophet_addreg.fillna(df_Prophet_addreg.mean(), inplace=True)\n",
            "<ipython-input-16-48fe3a25c755>:50: FutureWarning: Series.dt.weekofyear and Series.dt.week have been deprecated.  Please use Series.dt.isocalendar().week instead.\n",
            "  df_Prophet_addreg[\"week\"] = df_Prophet_addreg.Timestamp.dt.week\n",
            "DEBUG:cmdstanpy:input tempfile: /tmp/tmp43ug163o/vo81evvn.json\n",
            "DEBUG:cmdstanpy:input tempfile: /tmp/tmp43ug163o/of9ph1jd.json\n",
            "DEBUG:cmdstanpy:idx 0\n",
            "DEBUG:cmdstanpy:running CmdStan, num_threads: None\n",
            "DEBUG:cmdstanpy:CmdStan args: ['/usr/local/lib/python3.8/dist-packages/prophet/stan_model/prophet_model.bin', 'random', 'seed=94533', 'data', 'file=/tmp/tmp43ug163o/vo81evvn.json', 'init=/tmp/tmp43ug163o/of9ph1jd.json', 'output', 'file=/tmp/tmp43ug163o/prophet_modelg2nh3tpk/prophet_model-20221226081014.csv', 'method=optimize', 'algorithm=lbfgs', 'iter=10000']\n",
            "08:10:14 - cmdstanpy - INFO - Chain [1] start processing\n",
            "INFO:cmdstanpy:Chain [1] start processing\n"
          ]
        },
        {
          "output_type": "stream",
          "name": "stdout",
          "text": [
            "Difference of RMSE:(30, ':', -0.767)\n"
          ]
        },
        {
          "output_type": "stream",
          "name": "stderr",
          "text": [
            "08:10:14 - cmdstanpy - INFO - Chain [1] done processing\n",
            "INFO:cmdstanpy:Chain [1] done processing\n",
            "<ipython-input-16-48fe3a25c755>:46: FutureWarning: DataFrame.mean and DataFrame.median with numeric_only=None will include datetime64 and datetime64tz columns in a future version.\n",
            "  df_Prophet_addreg.fillna(df_Prophet_addreg.mean(), inplace=True)\n",
            "<ipython-input-16-48fe3a25c755>:50: FutureWarning: Series.dt.weekofyear and Series.dt.week have been deprecated.  Please use Series.dt.isocalendar().week instead.\n",
            "  df_Prophet_addreg[\"week\"] = df_Prophet_addreg.Timestamp.dt.week\n",
            "DEBUG:cmdstanpy:input tempfile: /tmp/tmp43ug163o/b8_2sw98.json\n",
            "DEBUG:cmdstanpy:input tempfile: /tmp/tmp43ug163o/7ja39mo8.json\n",
            "DEBUG:cmdstanpy:idx 0\n",
            "DEBUG:cmdstanpy:running CmdStan, num_threads: None\n",
            "DEBUG:cmdstanpy:CmdStan args: ['/usr/local/lib/python3.8/dist-packages/prophet/stan_model/prophet_model.bin', 'random', 'seed=32296', 'data', 'file=/tmp/tmp43ug163o/b8_2sw98.json', 'init=/tmp/tmp43ug163o/7ja39mo8.json', 'output', 'file=/tmp/tmp43ug163o/prophet_model0zjtosf4/prophet_model-20221226081015.csv', 'method=optimize', 'algorithm=lbfgs', 'iter=10000']\n",
            "08:10:15 - cmdstanpy - INFO - Chain [1] start processing\n",
            "INFO:cmdstanpy:Chain [1] start processing\n"
          ]
        },
        {
          "output_type": "stream",
          "name": "stdout",
          "text": [
            "Difference of RMSE:(31, ':', -0.767)\n"
          ]
        },
        {
          "output_type": "stream",
          "name": "stderr",
          "text": [
            "08:10:15 - cmdstanpy - INFO - Chain [1] done processing\n",
            "INFO:cmdstanpy:Chain [1] done processing\n",
            "<ipython-input-16-48fe3a25c755>:46: FutureWarning: DataFrame.mean and DataFrame.median with numeric_only=None will include datetime64 and datetime64tz columns in a future version.\n",
            "  df_Prophet_addreg.fillna(df_Prophet_addreg.mean(), inplace=True)\n",
            "<ipython-input-16-48fe3a25c755>:50: FutureWarning: Series.dt.weekofyear and Series.dt.week have been deprecated.  Please use Series.dt.isocalendar().week instead.\n",
            "  df_Prophet_addreg[\"week\"] = df_Prophet_addreg.Timestamp.dt.week\n",
            "DEBUG:cmdstanpy:input tempfile: /tmp/tmp43ug163o/36q9e7yf.json\n",
            "DEBUG:cmdstanpy:input tempfile: /tmp/tmp43ug163o/89wy2hba.json\n",
            "DEBUG:cmdstanpy:idx 0\n",
            "DEBUG:cmdstanpy:running CmdStan, num_threads: None\n",
            "DEBUG:cmdstanpy:CmdStan args: ['/usr/local/lib/python3.8/dist-packages/prophet/stan_model/prophet_model.bin', 'random', 'seed=89685', 'data', 'file=/tmp/tmp43ug163o/36q9e7yf.json', 'init=/tmp/tmp43ug163o/89wy2hba.json', 'output', 'file=/tmp/tmp43ug163o/prophet_model_2hdk4to/prophet_model-20221226081015.csv', 'method=optimize', 'algorithm=lbfgs', 'iter=10000']\n",
            "08:10:15 - cmdstanpy - INFO - Chain [1] start processing\n",
            "INFO:cmdstanpy:Chain [1] start processing\n"
          ]
        },
        {
          "output_type": "stream",
          "name": "stdout",
          "text": [
            "Difference of RMSE:(32, ':', -0.767)\n"
          ]
        },
        {
          "output_type": "stream",
          "name": "stderr",
          "text": [
            "08:10:16 - cmdstanpy - INFO - Chain [1] done processing\n",
            "INFO:cmdstanpy:Chain [1] done processing\n",
            "<ipython-input-16-48fe3a25c755>:46: FutureWarning: DataFrame.mean and DataFrame.median with numeric_only=None will include datetime64 and datetime64tz columns in a future version.\n",
            "  df_Prophet_addreg.fillna(df_Prophet_addreg.mean(), inplace=True)\n",
            "<ipython-input-16-48fe3a25c755>:50: FutureWarning: Series.dt.weekofyear and Series.dt.week have been deprecated.  Please use Series.dt.isocalendar().week instead.\n",
            "  df_Prophet_addreg[\"week\"] = df_Prophet_addreg.Timestamp.dt.week\n",
            "DEBUG:cmdstanpy:input tempfile: /tmp/tmp43ug163o/jhv9ahn0.json\n",
            "DEBUG:cmdstanpy:input tempfile: /tmp/tmp43ug163o/13nm0sgw.json\n",
            "DEBUG:cmdstanpy:idx 0\n",
            "DEBUG:cmdstanpy:running CmdStan, num_threads: None\n",
            "DEBUG:cmdstanpy:CmdStan args: ['/usr/local/lib/python3.8/dist-packages/prophet/stan_model/prophet_model.bin', 'random', 'seed=4869', 'data', 'file=/tmp/tmp43ug163o/jhv9ahn0.json', 'init=/tmp/tmp43ug163o/13nm0sgw.json', 'output', 'file=/tmp/tmp43ug163o/prophet_modelhlqju7fa/prophet_model-20221226081016.csv', 'method=optimize', 'algorithm=lbfgs', 'iter=10000']\n",
            "08:10:16 - cmdstanpy - INFO - Chain [1] start processing\n",
            "INFO:cmdstanpy:Chain [1] start processing\n"
          ]
        },
        {
          "output_type": "stream",
          "name": "stdout",
          "text": [
            "Difference of RMSE:(33, ':', -0.768)\n"
          ]
        },
        {
          "output_type": "stream",
          "name": "stderr",
          "text": [
            "08:10:16 - cmdstanpy - INFO - Chain [1] done processing\n",
            "INFO:cmdstanpy:Chain [1] done processing\n",
            "<ipython-input-16-48fe3a25c755>:46: FutureWarning: DataFrame.mean and DataFrame.median with numeric_only=None will include datetime64 and datetime64tz columns in a future version.\n",
            "  df_Prophet_addreg.fillna(df_Prophet_addreg.mean(), inplace=True)\n",
            "<ipython-input-16-48fe3a25c755>:50: FutureWarning: Series.dt.weekofyear and Series.dt.week have been deprecated.  Please use Series.dt.isocalendar().week instead.\n",
            "  df_Prophet_addreg[\"week\"] = df_Prophet_addreg.Timestamp.dt.week\n",
            "DEBUG:cmdstanpy:input tempfile: /tmp/tmp43ug163o/te9vbw6q.json\n",
            "DEBUG:cmdstanpy:input tempfile: /tmp/tmp43ug163o/yoe4c7ll.json\n",
            "DEBUG:cmdstanpy:idx 0\n",
            "DEBUG:cmdstanpy:running CmdStan, num_threads: None\n",
            "DEBUG:cmdstanpy:CmdStan args: ['/usr/local/lib/python3.8/dist-packages/prophet/stan_model/prophet_model.bin', 'random', 'seed=64827', 'data', 'file=/tmp/tmp43ug163o/te9vbw6q.json', 'init=/tmp/tmp43ug163o/yoe4c7ll.json', 'output', 'file=/tmp/tmp43ug163o/prophet_modelsgadzti3/prophet_model-20221226081017.csv', 'method=optimize', 'algorithm=lbfgs', 'iter=10000']\n",
            "08:10:17 - cmdstanpy - INFO - Chain [1] start processing\n",
            "INFO:cmdstanpy:Chain [1] start processing\n"
          ]
        },
        {
          "output_type": "stream",
          "name": "stdout",
          "text": [
            "Difference of RMSE:(34, ':', -0.768)\n"
          ]
        },
        {
          "output_type": "stream",
          "name": "stderr",
          "text": [
            "08:10:18 - cmdstanpy - INFO - Chain [1] done processing\n",
            "INFO:cmdstanpy:Chain [1] done processing\n",
            "<ipython-input-16-48fe3a25c755>:46: FutureWarning: DataFrame.mean and DataFrame.median with numeric_only=None will include datetime64 and datetime64tz columns in a future version.\n",
            "  df_Prophet_addreg.fillna(df_Prophet_addreg.mean(), inplace=True)\n",
            "<ipython-input-16-48fe3a25c755>:50: FutureWarning: Series.dt.weekofyear and Series.dt.week have been deprecated.  Please use Series.dt.isocalendar().week instead.\n",
            "  df_Prophet_addreg[\"week\"] = df_Prophet_addreg.Timestamp.dt.week\n",
            "DEBUG:cmdstanpy:input tempfile: /tmp/tmp43ug163o/w9jvawdv.json\n",
            "DEBUG:cmdstanpy:input tempfile: /tmp/tmp43ug163o/o3w52sic.json\n",
            "DEBUG:cmdstanpy:idx 0\n",
            "DEBUG:cmdstanpy:running CmdStan, num_threads: None\n",
            "DEBUG:cmdstanpy:CmdStan args: ['/usr/local/lib/python3.8/dist-packages/prophet/stan_model/prophet_model.bin', 'random', 'seed=50188', 'data', 'file=/tmp/tmp43ug163o/w9jvawdv.json', 'init=/tmp/tmp43ug163o/o3w52sic.json', 'output', 'file=/tmp/tmp43ug163o/prophet_modelkatvz7r6/prophet_model-20221226081018.csv', 'method=optimize', 'algorithm=lbfgs', 'iter=10000']\n",
            "08:10:18 - cmdstanpy - INFO - Chain [1] start processing\n",
            "INFO:cmdstanpy:Chain [1] start processing\n"
          ]
        },
        {
          "output_type": "stream",
          "name": "stdout",
          "text": [
            "Difference of RMSE:(35, ':', -0.741)\n"
          ]
        },
        {
          "output_type": "stream",
          "name": "stderr",
          "text": [
            "08:10:18 - cmdstanpy - INFO - Chain [1] done processing\n",
            "INFO:cmdstanpy:Chain [1] done processing\n",
            "<ipython-input-16-48fe3a25c755>:46: FutureWarning: DataFrame.mean and DataFrame.median with numeric_only=None will include datetime64 and datetime64tz columns in a future version.\n",
            "  df_Prophet_addreg.fillna(df_Prophet_addreg.mean(), inplace=True)\n",
            "<ipython-input-16-48fe3a25c755>:50: FutureWarning: Series.dt.weekofyear and Series.dt.week have been deprecated.  Please use Series.dt.isocalendar().week instead.\n",
            "  df_Prophet_addreg[\"week\"] = df_Prophet_addreg.Timestamp.dt.week\n",
            "DEBUG:cmdstanpy:input tempfile: /tmp/tmp43ug163o/f0zlffmp.json\n",
            "DEBUG:cmdstanpy:input tempfile: /tmp/tmp43ug163o/j76gquj3.json\n",
            "DEBUG:cmdstanpy:idx 0\n",
            "DEBUG:cmdstanpy:running CmdStan, num_threads: None\n",
            "DEBUG:cmdstanpy:CmdStan args: ['/usr/local/lib/python3.8/dist-packages/prophet/stan_model/prophet_model.bin', 'random', 'seed=37397', 'data', 'file=/tmp/tmp43ug163o/f0zlffmp.json', 'init=/tmp/tmp43ug163o/j76gquj3.json', 'output', 'file=/tmp/tmp43ug163o/prophet_modelbcmzounc/prophet_model-20221226081019.csv', 'method=optimize', 'algorithm=lbfgs', 'iter=10000']\n",
            "08:10:19 - cmdstanpy - INFO - Chain [1] start processing\n",
            "INFO:cmdstanpy:Chain [1] start processing\n"
          ]
        },
        {
          "output_type": "stream",
          "name": "stdout",
          "text": [
            "Difference of RMSE:(36, ':', -0.741)\n"
          ]
        },
        {
          "output_type": "stream",
          "name": "stderr",
          "text": [
            "08:10:20 - cmdstanpy - INFO - Chain [1] done processing\n",
            "INFO:cmdstanpy:Chain [1] done processing\n",
            "<ipython-input-16-48fe3a25c755>:46: FutureWarning: DataFrame.mean and DataFrame.median with numeric_only=None will include datetime64 and datetime64tz columns in a future version.\n",
            "  df_Prophet_addreg.fillna(df_Prophet_addreg.mean(), inplace=True)\n",
            "<ipython-input-16-48fe3a25c755>:50: FutureWarning: Series.dt.weekofyear and Series.dt.week have been deprecated.  Please use Series.dt.isocalendar().week instead.\n",
            "  df_Prophet_addreg[\"week\"] = df_Prophet_addreg.Timestamp.dt.week\n",
            "DEBUG:cmdstanpy:input tempfile: /tmp/tmp43ug163o/0n1u8xyv.json\n",
            "DEBUG:cmdstanpy:input tempfile: /tmp/tmp43ug163o/vjbuv5ws.json\n",
            "DEBUG:cmdstanpy:idx 0\n",
            "DEBUG:cmdstanpy:running CmdStan, num_threads: None\n",
            "DEBUG:cmdstanpy:CmdStan args: ['/usr/local/lib/python3.8/dist-packages/prophet/stan_model/prophet_model.bin', 'random', 'seed=43744', 'data', 'file=/tmp/tmp43ug163o/0n1u8xyv.json', 'init=/tmp/tmp43ug163o/vjbuv5ws.json', 'output', 'file=/tmp/tmp43ug163o/prophet_modelrh4zi5_b/prophet_model-20221226081020.csv', 'method=optimize', 'algorithm=lbfgs', 'iter=10000']\n",
            "08:10:20 - cmdstanpy - INFO - Chain [1] start processing\n",
            "INFO:cmdstanpy:Chain [1] start processing\n"
          ]
        },
        {
          "output_type": "stream",
          "name": "stdout",
          "text": [
            "Difference of RMSE:(37, ':', -0.741)\n"
          ]
        },
        {
          "output_type": "stream",
          "name": "stderr",
          "text": [
            "08:10:20 - cmdstanpy - INFO - Chain [1] done processing\n",
            "INFO:cmdstanpy:Chain [1] done processing\n",
            "<ipython-input-16-48fe3a25c755>:46: FutureWarning: DataFrame.mean and DataFrame.median with numeric_only=None will include datetime64 and datetime64tz columns in a future version.\n",
            "  df_Prophet_addreg.fillna(df_Prophet_addreg.mean(), inplace=True)\n",
            "<ipython-input-16-48fe3a25c755>:50: FutureWarning: Series.dt.weekofyear and Series.dt.week have been deprecated.  Please use Series.dt.isocalendar().week instead.\n",
            "  df_Prophet_addreg[\"week\"] = df_Prophet_addreg.Timestamp.dt.week\n",
            "DEBUG:cmdstanpy:input tempfile: /tmp/tmp43ug163o/r7jd5ygy.json\n",
            "DEBUG:cmdstanpy:input tempfile: /tmp/tmp43ug163o/b5wx0pko.json\n",
            "DEBUG:cmdstanpy:idx 0\n",
            "DEBUG:cmdstanpy:running CmdStan, num_threads: None\n",
            "DEBUG:cmdstanpy:CmdStan args: ['/usr/local/lib/python3.8/dist-packages/prophet/stan_model/prophet_model.bin', 'random', 'seed=8646', 'data', 'file=/tmp/tmp43ug163o/r7jd5ygy.json', 'init=/tmp/tmp43ug163o/b5wx0pko.json', 'output', 'file=/tmp/tmp43ug163o/prophet_models18l4bo6/prophet_model-20221226081021.csv', 'method=optimize', 'algorithm=lbfgs', 'iter=10000']\n",
            "08:10:21 - cmdstanpy - INFO - Chain [1] start processing\n",
            "INFO:cmdstanpy:Chain [1] start processing\n"
          ]
        },
        {
          "output_type": "stream",
          "name": "stdout",
          "text": [
            "Difference of RMSE:(38, ':', -0.766)\n"
          ]
        },
        {
          "output_type": "stream",
          "name": "stderr",
          "text": [
            "08:10:21 - cmdstanpy - INFO - Chain [1] done processing\n",
            "INFO:cmdstanpy:Chain [1] done processing\n",
            "<ipython-input-16-48fe3a25c755>:46: FutureWarning: DataFrame.mean and DataFrame.median with numeric_only=None will include datetime64 and datetime64tz columns in a future version.\n",
            "  df_Prophet_addreg.fillna(df_Prophet_addreg.mean(), inplace=True)\n",
            "<ipython-input-16-48fe3a25c755>:50: FutureWarning: Series.dt.weekofyear and Series.dt.week have been deprecated.  Please use Series.dt.isocalendar().week instead.\n",
            "  df_Prophet_addreg[\"week\"] = df_Prophet_addreg.Timestamp.dt.week\n",
            "DEBUG:cmdstanpy:input tempfile: /tmp/tmp43ug163o/5m2hhcnl.json\n",
            "DEBUG:cmdstanpy:input tempfile: /tmp/tmp43ug163o/9weqi91a.json\n",
            "DEBUG:cmdstanpy:idx 0\n",
            "DEBUG:cmdstanpy:running CmdStan, num_threads: None\n",
            "DEBUG:cmdstanpy:CmdStan args: ['/usr/local/lib/python3.8/dist-packages/prophet/stan_model/prophet_model.bin', 'random', 'seed=9785', 'data', 'file=/tmp/tmp43ug163o/5m2hhcnl.json', 'init=/tmp/tmp43ug163o/9weqi91a.json', 'output', 'file=/tmp/tmp43ug163o/prophet_model84bw4a07/prophet_model-20221226081022.csv', 'method=optimize', 'algorithm=lbfgs', 'iter=10000']\n",
            "08:10:22 - cmdstanpy - INFO - Chain [1] start processing\n",
            "INFO:cmdstanpy:Chain [1] start processing\n"
          ]
        },
        {
          "output_type": "stream",
          "name": "stdout",
          "text": [
            "Difference of RMSE:(39, ':', -0.766)\n"
          ]
        },
        {
          "output_type": "stream",
          "name": "stderr",
          "text": [
            "08:10:23 - cmdstanpy - INFO - Chain [1] done processing\n",
            "INFO:cmdstanpy:Chain [1] done processing\n",
            "<ipython-input-16-48fe3a25c755>:46: FutureWarning: DataFrame.mean and DataFrame.median with numeric_only=None will include datetime64 and datetime64tz columns in a future version.\n",
            "  df_Prophet_addreg.fillna(df_Prophet_addreg.mean(), inplace=True)\n",
            "<ipython-input-16-48fe3a25c755>:50: FutureWarning: Series.dt.weekofyear and Series.dt.week have been deprecated.  Please use Series.dt.isocalendar().week instead.\n",
            "  df_Prophet_addreg[\"week\"] = df_Prophet_addreg.Timestamp.dt.week\n",
            "DEBUG:cmdstanpy:input tempfile: /tmp/tmp43ug163o/s6avurnk.json\n",
            "DEBUG:cmdstanpy:input tempfile: /tmp/tmp43ug163o/5qgtwmab.json\n",
            "DEBUG:cmdstanpy:idx 0\n",
            "DEBUG:cmdstanpy:running CmdStan, num_threads: None\n",
            "DEBUG:cmdstanpy:CmdStan args: ['/usr/local/lib/python3.8/dist-packages/prophet/stan_model/prophet_model.bin', 'random', 'seed=35147', 'data', 'file=/tmp/tmp43ug163o/s6avurnk.json', 'init=/tmp/tmp43ug163o/5qgtwmab.json', 'output', 'file=/tmp/tmp43ug163o/prophet_modelhmnf2hd0/prophet_model-20221226081023.csv', 'method=optimize', 'algorithm=lbfgs', 'iter=10000']\n",
            "08:10:23 - cmdstanpy - INFO - Chain [1] start processing\n",
            "INFO:cmdstanpy:Chain [1] start processing\n"
          ]
        },
        {
          "output_type": "stream",
          "name": "stdout",
          "text": [
            "Difference of RMSE:(40, ':', -0.766)\n"
          ]
        },
        {
          "output_type": "stream",
          "name": "stderr",
          "text": [
            "08:10:23 - cmdstanpy - INFO - Chain [1] done processing\n",
            "INFO:cmdstanpy:Chain [1] done processing\n",
            "<ipython-input-16-48fe3a25c755>:46: FutureWarning: DataFrame.mean and DataFrame.median with numeric_only=None will include datetime64 and datetime64tz columns in a future version.\n",
            "  df_Prophet_addreg.fillna(df_Prophet_addreg.mean(), inplace=True)\n",
            "<ipython-input-16-48fe3a25c755>:50: FutureWarning: Series.dt.weekofyear and Series.dt.week have been deprecated.  Please use Series.dt.isocalendar().week instead.\n",
            "  df_Prophet_addreg[\"week\"] = df_Prophet_addreg.Timestamp.dt.week\n",
            "DEBUG:cmdstanpy:input tempfile: /tmp/tmp43ug163o/ofgbvzp2.json\n",
            "DEBUG:cmdstanpy:input tempfile: /tmp/tmp43ug163o/qhv6ye9r.json\n",
            "DEBUG:cmdstanpy:idx 0\n",
            "DEBUG:cmdstanpy:running CmdStan, num_threads: None\n",
            "DEBUG:cmdstanpy:CmdStan args: ['/usr/local/lib/python3.8/dist-packages/prophet/stan_model/prophet_model.bin', 'random', 'seed=3570', 'data', 'file=/tmp/tmp43ug163o/ofgbvzp2.json', 'init=/tmp/tmp43ug163o/qhv6ye9r.json', 'output', 'file=/tmp/tmp43ug163o/prophet_modelhd8ojgy0/prophet_model-20221226081024.csv', 'method=optimize', 'algorithm=lbfgs', 'iter=10000']\n",
            "08:10:24 - cmdstanpy - INFO - Chain [1] start processing\n",
            "INFO:cmdstanpy:Chain [1] start processing\n"
          ]
        },
        {
          "output_type": "stream",
          "name": "stdout",
          "text": [
            "Difference of RMSE:(41, ':', -0.766)\n"
          ]
        },
        {
          "output_type": "stream",
          "name": "stderr",
          "text": [
            "08:10:24 - cmdstanpy - INFO - Chain [1] done processing\n",
            "INFO:cmdstanpy:Chain [1] done processing\n",
            "<ipython-input-16-48fe3a25c755>:46: FutureWarning: DataFrame.mean and DataFrame.median with numeric_only=None will include datetime64 and datetime64tz columns in a future version.\n",
            "  df_Prophet_addreg.fillna(df_Prophet_addreg.mean(), inplace=True)\n",
            "<ipython-input-16-48fe3a25c755>:50: FutureWarning: Series.dt.weekofyear and Series.dt.week have been deprecated.  Please use Series.dt.isocalendar().week instead.\n",
            "  df_Prophet_addreg[\"week\"] = df_Prophet_addreg.Timestamp.dt.week\n",
            "DEBUG:cmdstanpy:input tempfile: /tmp/tmp43ug163o/z50z86we.json\n",
            "DEBUG:cmdstanpy:input tempfile: /tmp/tmp43ug163o/33dx87x0.json\n",
            "DEBUG:cmdstanpy:idx 0\n",
            "DEBUG:cmdstanpy:running CmdStan, num_threads: None\n",
            "DEBUG:cmdstanpy:CmdStan args: ['/usr/local/lib/python3.8/dist-packages/prophet/stan_model/prophet_model.bin', 'random', 'seed=80790', 'data', 'file=/tmp/tmp43ug163o/z50z86we.json', 'init=/tmp/tmp43ug163o/33dx87x0.json', 'output', 'file=/tmp/tmp43ug163o/prophet_model8ru9xc4s/prophet_model-20221226081025.csv', 'method=optimize', 'algorithm=lbfgs', 'iter=10000']\n",
            "08:10:25 - cmdstanpy - INFO - Chain [1] start processing\n",
            "INFO:cmdstanpy:Chain [1] start processing\n"
          ]
        },
        {
          "output_type": "stream",
          "name": "stdout",
          "text": [
            "Difference of RMSE:(42, ':', -0.766)\n"
          ]
        },
        {
          "output_type": "stream",
          "name": "stderr",
          "text": [
            "08:10:26 - cmdstanpy - INFO - Chain [1] done processing\n",
            "INFO:cmdstanpy:Chain [1] done processing\n",
            "<ipython-input-16-48fe3a25c755>:46: FutureWarning: DataFrame.mean and DataFrame.median with numeric_only=None will include datetime64 and datetime64tz columns in a future version.\n",
            "  df_Prophet_addreg.fillna(df_Prophet_addreg.mean(), inplace=True)\n",
            "<ipython-input-16-48fe3a25c755>:50: FutureWarning: Series.dt.weekofyear and Series.dt.week have been deprecated.  Please use Series.dt.isocalendar().week instead.\n",
            "  df_Prophet_addreg[\"week\"] = df_Prophet_addreg.Timestamp.dt.week\n",
            "DEBUG:cmdstanpy:input tempfile: /tmp/tmp43ug163o/3c28pdxc.json\n",
            "DEBUG:cmdstanpy:input tempfile: /tmp/tmp43ug163o/4q1ys8bt.json\n",
            "DEBUG:cmdstanpy:idx 0\n",
            "DEBUG:cmdstanpy:running CmdStan, num_threads: None\n",
            "DEBUG:cmdstanpy:CmdStan args: ['/usr/local/lib/python3.8/dist-packages/prophet/stan_model/prophet_model.bin', 'random', 'seed=65498', 'data', 'file=/tmp/tmp43ug163o/3c28pdxc.json', 'init=/tmp/tmp43ug163o/4q1ys8bt.json', 'output', 'file=/tmp/tmp43ug163o/prophet_modelzfql0j3i/prophet_model-20221226081026.csv', 'method=optimize', 'algorithm=lbfgs', 'iter=10000']\n",
            "08:10:26 - cmdstanpy - INFO - Chain [1] start processing\n",
            "INFO:cmdstanpy:Chain [1] start processing\n"
          ]
        },
        {
          "output_type": "stream",
          "name": "stdout",
          "text": [
            "Difference of RMSE:(43, ':', -0.765)\n"
          ]
        },
        {
          "output_type": "stream",
          "name": "stderr",
          "text": [
            "08:10:27 - cmdstanpy - INFO - Chain [1] done processing\n",
            "INFO:cmdstanpy:Chain [1] done processing\n",
            "<ipython-input-16-48fe3a25c755>:46: FutureWarning: DataFrame.mean and DataFrame.median with numeric_only=None will include datetime64 and datetime64tz columns in a future version.\n",
            "  df_Prophet_addreg.fillna(df_Prophet_addreg.mean(), inplace=True)\n",
            "<ipython-input-16-48fe3a25c755>:50: FutureWarning: Series.dt.weekofyear and Series.dt.week have been deprecated.  Please use Series.dt.isocalendar().week instead.\n",
            "  df_Prophet_addreg[\"week\"] = df_Prophet_addreg.Timestamp.dt.week\n",
            "DEBUG:cmdstanpy:input tempfile: /tmp/tmp43ug163o/mkukevv5.json\n",
            "DEBUG:cmdstanpy:input tempfile: /tmp/tmp43ug163o/fq5j8amz.json\n",
            "DEBUG:cmdstanpy:idx 0\n",
            "DEBUG:cmdstanpy:running CmdStan, num_threads: None\n",
            "DEBUG:cmdstanpy:CmdStan args: ['/usr/local/lib/python3.8/dist-packages/prophet/stan_model/prophet_model.bin', 'random', 'seed=88660', 'data', 'file=/tmp/tmp43ug163o/mkukevv5.json', 'init=/tmp/tmp43ug163o/fq5j8amz.json', 'output', 'file=/tmp/tmp43ug163o/prophet_modelkropjkmp/prophet_model-20221226081027.csv', 'method=optimize', 'algorithm=lbfgs', 'iter=10000']\n",
            "08:10:27 - cmdstanpy - INFO - Chain [1] start processing\n",
            "INFO:cmdstanpy:Chain [1] start processing\n"
          ]
        },
        {
          "output_type": "stream",
          "name": "stdout",
          "text": [
            "Difference of RMSE:(44, ':', -0.769)\n"
          ]
        },
        {
          "output_type": "stream",
          "name": "stderr",
          "text": [
            "08:10:27 - cmdstanpy - INFO - Chain [1] done processing\n",
            "INFO:cmdstanpy:Chain [1] done processing\n",
            "<ipython-input-16-48fe3a25c755>:46: FutureWarning: DataFrame.mean and DataFrame.median with numeric_only=None will include datetime64 and datetime64tz columns in a future version.\n",
            "  df_Prophet_addreg.fillna(df_Prophet_addreg.mean(), inplace=True)\n",
            "<ipython-input-16-48fe3a25c755>:50: FutureWarning: Series.dt.weekofyear and Series.dt.week have been deprecated.  Please use Series.dt.isocalendar().week instead.\n",
            "  df_Prophet_addreg[\"week\"] = df_Prophet_addreg.Timestamp.dt.week\n",
            "DEBUG:cmdstanpy:input tempfile: /tmp/tmp43ug163o/75d0ox2u.json\n",
            "DEBUG:cmdstanpy:input tempfile: /tmp/tmp43ug163o/kaw4_zv5.json\n",
            "DEBUG:cmdstanpy:idx 0\n",
            "DEBUG:cmdstanpy:running CmdStan, num_threads: None\n",
            "DEBUG:cmdstanpy:CmdStan args: ['/usr/local/lib/python3.8/dist-packages/prophet/stan_model/prophet_model.bin', 'random', 'seed=83309', 'data', 'file=/tmp/tmp43ug163o/75d0ox2u.json', 'init=/tmp/tmp43ug163o/kaw4_zv5.json', 'output', 'file=/tmp/tmp43ug163o/prophet_modelqo3l4ej8/prophet_model-20221226081028.csv', 'method=optimize', 'algorithm=lbfgs', 'iter=10000']\n",
            "08:10:28 - cmdstanpy - INFO - Chain [1] start processing\n",
            "INFO:cmdstanpy:Chain [1] start processing\n"
          ]
        },
        {
          "output_type": "stream",
          "name": "stdout",
          "text": [
            "Difference of RMSE:(45, ':', -0.766)\n"
          ]
        },
        {
          "output_type": "stream",
          "name": "stderr",
          "text": [
            "08:10:28 - cmdstanpy - INFO - Chain [1] done processing\n",
            "INFO:cmdstanpy:Chain [1] done processing\n",
            "<ipython-input-16-48fe3a25c755>:46: FutureWarning: DataFrame.mean and DataFrame.median with numeric_only=None will include datetime64 and datetime64tz columns in a future version.\n",
            "  df_Prophet_addreg.fillna(df_Prophet_addreg.mean(), inplace=True)\n",
            "<ipython-input-16-48fe3a25c755>:50: FutureWarning: Series.dt.weekofyear and Series.dt.week have been deprecated.  Please use Series.dt.isocalendar().week instead.\n",
            "  df_Prophet_addreg[\"week\"] = df_Prophet_addreg.Timestamp.dt.week\n",
            "DEBUG:cmdstanpy:input tempfile: /tmp/tmp43ug163o/t8ncca_e.json\n",
            "DEBUG:cmdstanpy:input tempfile: /tmp/tmp43ug163o/fxkbofjt.json\n",
            "DEBUG:cmdstanpy:idx 0\n",
            "DEBUG:cmdstanpy:running CmdStan, num_threads: None\n",
            "DEBUG:cmdstanpy:CmdStan args: ['/usr/local/lib/python3.8/dist-packages/prophet/stan_model/prophet_model.bin', 'random', 'seed=90983', 'data', 'file=/tmp/tmp43ug163o/t8ncca_e.json', 'init=/tmp/tmp43ug163o/fxkbofjt.json', 'output', 'file=/tmp/tmp43ug163o/prophet_modelkotfzbui/prophet_model-20221226081029.csv', 'method=optimize', 'algorithm=lbfgs', 'iter=10000']\n",
            "08:10:29 - cmdstanpy - INFO - Chain [1] start processing\n",
            "INFO:cmdstanpy:Chain [1] start processing\n"
          ]
        },
        {
          "output_type": "stream",
          "name": "stdout",
          "text": [
            "Difference of RMSE:(46, ':', -0.766)\n"
          ]
        },
        {
          "output_type": "stream",
          "name": "stderr",
          "text": [
            "08:10:29 - cmdstanpy - INFO - Chain [1] done processing\n",
            "INFO:cmdstanpy:Chain [1] done processing\n",
            "<ipython-input-16-48fe3a25c755>:46: FutureWarning: DataFrame.mean and DataFrame.median with numeric_only=None will include datetime64 and datetime64tz columns in a future version.\n",
            "  df_Prophet_addreg.fillna(df_Prophet_addreg.mean(), inplace=True)\n",
            "<ipython-input-16-48fe3a25c755>:50: FutureWarning: Series.dt.weekofyear and Series.dt.week have been deprecated.  Please use Series.dt.isocalendar().week instead.\n",
            "  df_Prophet_addreg[\"week\"] = df_Prophet_addreg.Timestamp.dt.week\n",
            "DEBUG:cmdstanpy:input tempfile: /tmp/tmp43ug163o/3plpbiwt.json\n",
            "DEBUG:cmdstanpy:input tempfile: /tmp/tmp43ug163o/zr0cbe39.json\n",
            "DEBUG:cmdstanpy:idx 0\n",
            "DEBUG:cmdstanpy:running CmdStan, num_threads: None\n",
            "DEBUG:cmdstanpy:CmdStan args: ['/usr/local/lib/python3.8/dist-packages/prophet/stan_model/prophet_model.bin', 'random', 'seed=11571', 'data', 'file=/tmp/tmp43ug163o/3plpbiwt.json', 'init=/tmp/tmp43ug163o/zr0cbe39.json', 'output', 'file=/tmp/tmp43ug163o/prophet_modeltchk47_0/prophet_model-20221226081030.csv', 'method=optimize', 'algorithm=lbfgs', 'iter=10000']\n",
            "08:10:30 - cmdstanpy - INFO - Chain [1] start processing\n",
            "INFO:cmdstanpy:Chain [1] start processing\n"
          ]
        },
        {
          "output_type": "stream",
          "name": "stdout",
          "text": [
            "Difference of RMSE:(47, ':', -0.759)\n"
          ]
        },
        {
          "output_type": "stream",
          "name": "stderr",
          "text": [
            "08:10:30 - cmdstanpy - INFO - Chain [1] done processing\n",
            "INFO:cmdstanpy:Chain [1] done processing\n",
            "<ipython-input-16-48fe3a25c755>:46: FutureWarning: DataFrame.mean and DataFrame.median with numeric_only=None will include datetime64 and datetime64tz columns in a future version.\n",
            "  df_Prophet_addreg.fillna(df_Prophet_addreg.mean(), inplace=True)\n",
            "<ipython-input-16-48fe3a25c755>:50: FutureWarning: Series.dt.weekofyear and Series.dt.week have been deprecated.  Please use Series.dt.isocalendar().week instead.\n",
            "  df_Prophet_addreg[\"week\"] = df_Prophet_addreg.Timestamp.dt.week\n",
            "DEBUG:cmdstanpy:input tempfile: /tmp/tmp43ug163o/psovjlab.json\n",
            "DEBUG:cmdstanpy:input tempfile: /tmp/tmp43ug163o/a6v941w7.json\n",
            "DEBUG:cmdstanpy:idx 0\n",
            "DEBUG:cmdstanpy:running CmdStan, num_threads: None\n",
            "DEBUG:cmdstanpy:CmdStan args: ['/usr/local/lib/python3.8/dist-packages/prophet/stan_model/prophet_model.bin', 'random', 'seed=58126', 'data', 'file=/tmp/tmp43ug163o/psovjlab.json', 'init=/tmp/tmp43ug163o/a6v941w7.json', 'output', 'file=/tmp/tmp43ug163o/prophet_modelimsxp2fa/prophet_model-20221226081031.csv', 'method=optimize', 'algorithm=lbfgs', 'iter=10000']\n",
            "08:10:31 - cmdstanpy - INFO - Chain [1] start processing\n",
            "INFO:cmdstanpy:Chain [1] start processing\n"
          ]
        },
        {
          "output_type": "stream",
          "name": "stdout",
          "text": [
            "Difference of RMSE:(48, ':', -0.766)\n"
          ]
        },
        {
          "output_type": "stream",
          "name": "stderr",
          "text": [
            "08:10:31 - cmdstanpy - INFO - Chain [1] done processing\n",
            "INFO:cmdstanpy:Chain [1] done processing\n",
            "<ipython-input-16-48fe3a25c755>:46: FutureWarning: DataFrame.mean and DataFrame.median with numeric_only=None will include datetime64 and datetime64tz columns in a future version.\n",
            "  df_Prophet_addreg.fillna(df_Prophet_addreg.mean(), inplace=True)\n",
            "<ipython-input-16-48fe3a25c755>:50: FutureWarning: Series.dt.weekofyear and Series.dt.week have been deprecated.  Please use Series.dt.isocalendar().week instead.\n",
            "  df_Prophet_addreg[\"week\"] = df_Prophet_addreg.Timestamp.dt.week\n",
            "DEBUG:cmdstanpy:input tempfile: /tmp/tmp43ug163o/4vjqeelm.json\n",
            "DEBUG:cmdstanpy:input tempfile: /tmp/tmp43ug163o/m61wzf02.json\n",
            "DEBUG:cmdstanpy:idx 0\n",
            "DEBUG:cmdstanpy:running CmdStan, num_threads: None\n",
            "DEBUG:cmdstanpy:CmdStan args: ['/usr/local/lib/python3.8/dist-packages/prophet/stan_model/prophet_model.bin', 'random', 'seed=90404', 'data', 'file=/tmp/tmp43ug163o/4vjqeelm.json', 'init=/tmp/tmp43ug163o/m61wzf02.json', 'output', 'file=/tmp/tmp43ug163o/prophet_modelvml1s9c6/prophet_model-20221226081032.csv', 'method=optimize', 'algorithm=lbfgs', 'iter=10000']\n",
            "08:10:32 - cmdstanpy - INFO - Chain [1] start processing\n",
            "INFO:cmdstanpy:Chain [1] start processing\n"
          ]
        },
        {
          "output_type": "stream",
          "name": "stdout",
          "text": [
            "Difference of RMSE:(49, ':', -0.766)\n"
          ]
        },
        {
          "output_type": "stream",
          "name": "stderr",
          "text": [
            "08:10:33 - cmdstanpy - INFO - Chain [1] done processing\n",
            "INFO:cmdstanpy:Chain [1] done processing\n",
            "<ipython-input-16-48fe3a25c755>:46: FutureWarning: DataFrame.mean and DataFrame.median with numeric_only=None will include datetime64 and datetime64tz columns in a future version.\n",
            "  df_Prophet_addreg.fillna(df_Prophet_addreg.mean(), inplace=True)\n",
            "<ipython-input-16-48fe3a25c755>:50: FutureWarning: Series.dt.weekofyear and Series.dt.week have been deprecated.  Please use Series.dt.isocalendar().week instead.\n",
            "  df_Prophet_addreg[\"week\"] = df_Prophet_addreg.Timestamp.dt.week\n",
            "DEBUG:cmdstanpy:input tempfile: /tmp/tmp43ug163o/m69iul4f.json\n",
            "DEBUG:cmdstanpy:input tempfile: /tmp/tmp43ug163o/_jqlbra4.json\n",
            "DEBUG:cmdstanpy:idx 0\n",
            "DEBUG:cmdstanpy:running CmdStan, num_threads: None\n",
            "DEBUG:cmdstanpy:CmdStan args: ['/usr/local/lib/python3.8/dist-packages/prophet/stan_model/prophet_model.bin', 'random', 'seed=88825', 'data', 'file=/tmp/tmp43ug163o/m69iul4f.json', 'init=/tmp/tmp43ug163o/_jqlbra4.json', 'output', 'file=/tmp/tmp43ug163o/prophet_modelmgmd7dxx/prophet_model-20221226081033.csv', 'method=optimize', 'algorithm=lbfgs', 'iter=10000']\n",
            "08:10:33 - cmdstanpy - INFO - Chain [1] start processing\n",
            "INFO:cmdstanpy:Chain [1] start processing\n"
          ]
        },
        {
          "output_type": "stream",
          "name": "stdout",
          "text": [
            "Difference of RMSE:(50, ':', -0.763)\n"
          ]
        },
        {
          "output_type": "stream",
          "name": "stderr",
          "text": [
            "08:10:33 - cmdstanpy - INFO - Chain [1] done processing\n",
            "INFO:cmdstanpy:Chain [1] done processing\n",
            "<ipython-input-16-48fe3a25c755>:46: FutureWarning: DataFrame.mean and DataFrame.median with numeric_only=None will include datetime64 and datetime64tz columns in a future version.\n",
            "  df_Prophet_addreg.fillna(df_Prophet_addreg.mean(), inplace=True)\n",
            "<ipython-input-16-48fe3a25c755>:50: FutureWarning: Series.dt.weekofyear and Series.dt.week have been deprecated.  Please use Series.dt.isocalendar().week instead.\n",
            "  df_Prophet_addreg[\"week\"] = df_Prophet_addreg.Timestamp.dt.week\n",
            "DEBUG:cmdstanpy:input tempfile: /tmp/tmp43ug163o/wgem7qax.json\n",
            "DEBUG:cmdstanpy:input tempfile: /tmp/tmp43ug163o/culpotwe.json\n",
            "DEBUG:cmdstanpy:idx 0\n",
            "DEBUG:cmdstanpy:running CmdStan, num_threads: None\n",
            "DEBUG:cmdstanpy:CmdStan args: ['/usr/local/lib/python3.8/dist-packages/prophet/stan_model/prophet_model.bin', 'random', 'seed=51966', 'data', 'file=/tmp/tmp43ug163o/wgem7qax.json', 'init=/tmp/tmp43ug163o/culpotwe.json', 'output', 'file=/tmp/tmp43ug163o/prophet_modelv1m5tn4g/prophet_model-20221226081034.csv', 'method=optimize', 'algorithm=lbfgs', 'iter=10000']\n",
            "08:10:34 - cmdstanpy - INFO - Chain [1] start processing\n",
            "INFO:cmdstanpy:Chain [1] start processing\n"
          ]
        },
        {
          "output_type": "stream",
          "name": "stdout",
          "text": [
            "Difference of RMSE:(51, ':', -0.763)\n"
          ]
        },
        {
          "output_type": "stream",
          "name": "stderr",
          "text": [
            "08:10:35 - cmdstanpy - INFO - Chain [1] done processing\n",
            "INFO:cmdstanpy:Chain [1] done processing\n",
            "<ipython-input-16-48fe3a25c755>:46: FutureWarning: DataFrame.mean and DataFrame.median with numeric_only=None will include datetime64 and datetime64tz columns in a future version.\n",
            "  df_Prophet_addreg.fillna(df_Prophet_addreg.mean(), inplace=True)\n",
            "<ipython-input-16-48fe3a25c755>:50: FutureWarning: Series.dt.weekofyear and Series.dt.week have been deprecated.  Please use Series.dt.isocalendar().week instead.\n",
            "  df_Prophet_addreg[\"week\"] = df_Prophet_addreg.Timestamp.dt.week\n",
            "DEBUG:cmdstanpy:input tempfile: /tmp/tmp43ug163o/qpf4jjx8.json\n",
            "DEBUG:cmdstanpy:input tempfile: /tmp/tmp43ug163o/ykfrsxpt.json\n",
            "DEBUG:cmdstanpy:idx 0\n",
            "DEBUG:cmdstanpy:running CmdStan, num_threads: None\n",
            "DEBUG:cmdstanpy:CmdStan args: ['/usr/local/lib/python3.8/dist-packages/prophet/stan_model/prophet_model.bin', 'random', 'seed=96319', 'data', 'file=/tmp/tmp43ug163o/qpf4jjx8.json', 'init=/tmp/tmp43ug163o/ykfrsxpt.json', 'output', 'file=/tmp/tmp43ug163o/prophet_model2it_8y_1/prophet_model-20221226081036.csv', 'method=optimize', 'algorithm=lbfgs', 'iter=10000']\n",
            "08:10:36 - cmdstanpy - INFO - Chain [1] start processing\n",
            "INFO:cmdstanpy:Chain [1] start processing\n"
          ]
        },
        {
          "output_type": "stream",
          "name": "stdout",
          "text": [
            "Difference of RMSE:(52, ':', -0.757)\n"
          ]
        },
        {
          "output_type": "stream",
          "name": "stderr",
          "text": [
            "08:10:36 - cmdstanpy - INFO - Chain [1] done processing\n",
            "INFO:cmdstanpy:Chain [1] done processing\n",
            "<ipython-input-16-48fe3a25c755>:46: FutureWarning: DataFrame.mean and DataFrame.median with numeric_only=None will include datetime64 and datetime64tz columns in a future version.\n",
            "  df_Prophet_addreg.fillna(df_Prophet_addreg.mean(), inplace=True)\n",
            "<ipython-input-16-48fe3a25c755>:50: FutureWarning: Series.dt.weekofyear and Series.dt.week have been deprecated.  Please use Series.dt.isocalendar().week instead.\n",
            "  df_Prophet_addreg[\"week\"] = df_Prophet_addreg.Timestamp.dt.week\n",
            "DEBUG:cmdstanpy:input tempfile: /tmp/tmp43ug163o/qy76u70h.json\n",
            "DEBUG:cmdstanpy:input tempfile: /tmp/tmp43ug163o/mdx1tyjp.json\n",
            "DEBUG:cmdstanpy:idx 0\n",
            "DEBUG:cmdstanpy:running CmdStan, num_threads: None\n",
            "DEBUG:cmdstanpy:CmdStan args: ['/usr/local/lib/python3.8/dist-packages/prophet/stan_model/prophet_model.bin', 'random', 'seed=85380', 'data', 'file=/tmp/tmp43ug163o/qy76u70h.json', 'init=/tmp/tmp43ug163o/mdx1tyjp.json', 'output', 'file=/tmp/tmp43ug163o/prophet_model6iogtw6y/prophet_model-20221226081037.csv', 'method=optimize', 'algorithm=lbfgs', 'iter=10000']\n",
            "08:10:37 - cmdstanpy - INFO - Chain [1] start processing\n",
            "INFO:cmdstanpy:Chain [1] start processing\n"
          ]
        },
        {
          "output_type": "stream",
          "name": "stdout",
          "text": [
            "Difference of RMSE:(53, ':', -0.767)\n"
          ]
        },
        {
          "output_type": "stream",
          "name": "stderr",
          "text": [
            "08:10:37 - cmdstanpy - INFO - Chain [1] done processing\n",
            "INFO:cmdstanpy:Chain [1] done processing\n",
            "<ipython-input-16-48fe3a25c755>:46: FutureWarning: DataFrame.mean and DataFrame.median with numeric_only=None will include datetime64 and datetime64tz columns in a future version.\n",
            "  df_Prophet_addreg.fillna(df_Prophet_addreg.mean(), inplace=True)\n",
            "<ipython-input-16-48fe3a25c755>:50: FutureWarning: Series.dt.weekofyear and Series.dt.week have been deprecated.  Please use Series.dt.isocalendar().week instead.\n",
            "  df_Prophet_addreg[\"week\"] = df_Prophet_addreg.Timestamp.dt.week\n",
            "DEBUG:cmdstanpy:input tempfile: /tmp/tmp43ug163o/s0e9os4r.json\n",
            "DEBUG:cmdstanpy:input tempfile: /tmp/tmp43ug163o/llj57_dt.json\n",
            "DEBUG:cmdstanpy:idx 0\n",
            "DEBUG:cmdstanpy:running CmdStan, num_threads: None\n",
            "DEBUG:cmdstanpy:CmdStan args: ['/usr/local/lib/python3.8/dist-packages/prophet/stan_model/prophet_model.bin', 'random', 'seed=15777', 'data', 'file=/tmp/tmp43ug163o/s0e9os4r.json', 'init=/tmp/tmp43ug163o/llj57_dt.json', 'output', 'file=/tmp/tmp43ug163o/prophet_modelvvfb_vxn/prophet_model-20221226081038.csv', 'method=optimize', 'algorithm=lbfgs', 'iter=10000']\n",
            "08:10:38 - cmdstanpy - INFO - Chain [1] start processing\n",
            "INFO:cmdstanpy:Chain [1] start processing\n"
          ]
        },
        {
          "output_type": "stream",
          "name": "stdout",
          "text": [
            "Difference of RMSE:(54, ':', -0.759)\n"
          ]
        },
        {
          "output_type": "stream",
          "name": "stderr",
          "text": [
            "08:10:39 - cmdstanpy - INFO - Chain [1] done processing\n",
            "INFO:cmdstanpy:Chain [1] done processing\n",
            "<ipython-input-16-48fe3a25c755>:46: FutureWarning: DataFrame.mean and DataFrame.median with numeric_only=None will include datetime64 and datetime64tz columns in a future version.\n",
            "  df_Prophet_addreg.fillna(df_Prophet_addreg.mean(), inplace=True)\n",
            "<ipython-input-16-48fe3a25c755>:50: FutureWarning: Series.dt.weekofyear and Series.dt.week have been deprecated.  Please use Series.dt.isocalendar().week instead.\n",
            "  df_Prophet_addreg[\"week\"] = df_Prophet_addreg.Timestamp.dt.week\n",
            "DEBUG:cmdstanpy:input tempfile: /tmp/tmp43ug163o/1oyn_sqq.json\n",
            "DEBUG:cmdstanpy:input tempfile: /tmp/tmp43ug163o/_zv2dq9n.json\n",
            "DEBUG:cmdstanpy:idx 0\n",
            "DEBUG:cmdstanpy:running CmdStan, num_threads: None\n",
            "DEBUG:cmdstanpy:CmdStan args: ['/usr/local/lib/python3.8/dist-packages/prophet/stan_model/prophet_model.bin', 'random', 'seed=27833', 'data', 'file=/tmp/tmp43ug163o/1oyn_sqq.json', 'init=/tmp/tmp43ug163o/_zv2dq9n.json', 'output', 'file=/tmp/tmp43ug163o/prophet_model75njs75s/prophet_model-20221226081039.csv', 'method=optimize', 'algorithm=lbfgs', 'iter=10000']\n",
            "08:10:39 - cmdstanpy - INFO - Chain [1] start processing\n",
            "INFO:cmdstanpy:Chain [1] start processing\n"
          ]
        },
        {
          "output_type": "stream",
          "name": "stdout",
          "text": [
            "Difference of RMSE:(55, ':', -0.758)\n"
          ]
        },
        {
          "output_type": "stream",
          "name": "stderr",
          "text": [
            "08:10:40 - cmdstanpy - INFO - Chain [1] done processing\n",
            "INFO:cmdstanpy:Chain [1] done processing\n"
          ]
        },
        {
          "output_type": "stream",
          "name": "stdout",
          "text": [
            "Difference of RMSE:(56, ':', -0.759)\n"
          ]
        }
      ]
    },
    {
      "cell_type": "code",
      "source": [
        "for i in range(0,len(exogenous)):\n",
        "  print(result_find[i],exogenous[i])"
      ],
      "metadata": {
        "colab": {
          "base_uri": "https://localhost:8080/"
        },
        "id": "oG7yFtGN3PJQ",
        "outputId": "6e212a3c-44d0-4f54-bb52-83e6cd735a1d"
      },
      "execution_count": 17,
      "outputs": [
        {
          "output_type": "stream",
          "name": "stdout",
          "text": [
            "[0, ':', -0.766] ('Open', 'High')\n",
            "[1, ':', -0.766] ('Open', 'Low')\n",
            "[2, ':', -0.766] ('Open', 'Close')\n",
            "[3, ':', -0.766] ('Open', 'Volume_(Currency)')\n",
            "[4, ':', -0.766] ('Open', 'Volume_(BTC)')\n",
            "[5, ':', -0.766] ('High', 'Low')\n",
            "[6, ':', -0.766] ('High', 'Close')\n",
            "[7, ':', -0.766] ('High', 'Volume_(Currency)')\n",
            "[8, ':', -0.766] ('High', 'Volume_(BTC)')\n",
            "[9, ':', -0.767] ('Low', 'Close')\n",
            "[10, ':', -0.767] ('Low', 'Volume_(Currency)')\n",
            "[11, ':', -0.767] ('Low', 'Volume_(BTC)')\n",
            "[12, ':', -0.766] ('Close', 'Volume_(Currency)')\n",
            "[13, ':', -0.766] ('Close', 'Volume_(BTC)')\n",
            "[14, ':', -0.33] ('Volume_(Currency)', 'Volume_(BTC)')\n",
            "[15, ':', -0.765] ('Open', 'High', 'Low')\n",
            "[16, ':', -0.765] ('Open', 'High', 'Close')\n",
            "[17, ':', -0.765] ('Open', 'High', 'Volume_(Currency)')\n",
            "[18, ':', -0.765] ('Open', 'High', 'Volume_(BTC)')\n",
            "[19, ':', -0.766] ('Open', 'Low', 'Close')\n",
            "[20, ':', -0.766] ('Open', 'Low', 'Volume_(Currency)')\n",
            "[21, ':', -0.766] ('Open', 'Low', 'Volume_(BTC)')\n",
            "[22, ':', -0.766] ('Open', 'Close', 'Volume_(Currency)')\n",
            "[23, ':', -0.766] ('Open', 'Close', 'Volume_(BTC)')\n",
            "[24, ':', -0.769] ('Open', 'Volume_(Currency)', 'Volume_(BTC)')\n",
            "[25, ':', -0.749] ('High', 'Low', 'Close')\n",
            "[26, ':', -0.749] ('High', 'Low', 'Volume_(Currency)')\n",
            "[27, ':', -0.749] ('High', 'Low', 'Volume_(BTC)')\n",
            "[28, ':', -0.766] ('High', 'Close', 'Volume_(Currency)')\n",
            "[29, ':', -0.766] ('High', 'Close', 'Volume_(BTC)')\n",
            "[30, ':', -0.767] ('High', 'Volume_(Currency)', 'Volume_(BTC)')\n",
            "[31, ':', -0.767] ('Low', 'Close', 'Volume_(Currency)')\n",
            "[32, ':', -0.767] ('Low', 'Close', 'Volume_(BTC)')\n",
            "[33, ':', -0.768] ('Low', 'Volume_(Currency)', 'Volume_(BTC)')\n",
            "[34, ':', -0.768] ('Close', 'Volume_(Currency)', 'Volume_(BTC)')\n",
            "[35, ':', -0.741] ('Open', 'High', 'Low', 'Close')\n",
            "[36, ':', -0.741] ('Open', 'High', 'Low', 'Volume_(Currency)')\n",
            "[37, ':', -0.741] ('Open', 'High', 'Low', 'Volume_(BTC)')\n",
            "[38, ':', -0.766] ('Open', 'High', 'Close', 'Volume_(Currency)')\n",
            "[39, ':', -0.766] ('Open', 'High', 'Close', 'Volume_(BTC)')\n",
            "[40, ':', -0.766] ('Open', 'High', 'Volume_(Currency)', 'Volume_(BTC)')\n",
            "[41, ':', -0.766] ('Open', 'Low', 'Close', 'Volume_(Currency)')\n",
            "[42, ':', -0.766] ('Open', 'Low', 'Close', 'Volume_(BTC)')\n",
            "[43, ':', -0.765] ('Open', 'Low', 'Volume_(Currency)', 'Volume_(BTC)')\n",
            "[44, ':', -0.769] ('Open', 'Close', 'Volume_(Currency)', 'Volume_(BTC)')\n",
            "[45, ':', -0.766] ('High', 'Low', 'Close', 'Volume_(Currency)')\n",
            "[46, ':', -0.766] ('High', 'Low', 'Close', 'Volume_(BTC)')\n",
            "[47, ':', -0.759] ('High', 'Low', 'Volume_(Currency)', 'Volume_(BTC)')\n",
            "[48, ':', -0.766] ('High', 'Close', 'Volume_(Currency)', 'Volume_(BTC)')\n",
            "[49, ':', -0.766] ('Low', 'Close', 'Volume_(Currency)', 'Volume_(BTC)')\n",
            "[50, ':', -0.763] ('Open', 'High', 'Low', 'Close', 'Volume_(Currency)')\n",
            "[51, ':', -0.763] ('Open', 'High', 'Low', 'Close', 'Volume_(BTC)')\n",
            "[52, ':', -0.757] ('Open', 'High', 'Low', 'Volume_(Currency)', 'Volume_(BTC)')\n",
            "[53, ':', -0.767] ('Open', 'High', 'Close', 'Volume_(Currency)', 'Volume_(BTC)')\n",
            "[54, ':', -0.759] ('Open', 'Low', 'Close', 'Volume_(Currency)', 'Volume_(BTC)')\n",
            "[55, ':', -0.758] ('High', 'Low', 'Close', 'Volume_(Currency)', 'Volume_(BTC)')\n",
            "[56, ':', -0.759] ('Open', 'High', 'Low', 'Close', 'Volume_(Currency)', 'Volume_(BTC)')\n"
          ]
        }
      ]
    },
    {
      "cell_type": "code",
      "source": [
        "#one features\n",
        "lag_features = [\"Open\", \"High\", \"Low\", \"Close\",'Volume_(Currency)',\"Volume_(BTC)\",'month', 'week','day', 'day_of_week']\n",
        "result_find_one = []\n",
        "for i in lag_features:\n",
        "  exogenous_features=[]\n",
        "  exogenous_features.extend([f'{exogenous_fea[k]}_mean_lag3',f'{exogenous_fea[k]}_mean_lag7',f'{exogenous_fea[k]}_mean_lag30',\n",
        "                            f'{exogenous_fea[k]}_std_lag3',f'{exogenous_fea[k]}_std_lag7',f'{exogenous_fea[k]}_std_lag30'])\n",
        "\n",
        "  window1 = 3\n",
        "  window2 = 7\n",
        "  window3 = 30\n",
        "\n",
        "  df_rolled_3d = df_Prophet_addreg[exogenous_features].rolling(window=window1, min_periods=0)\n",
        "  df_rolled_7d = df_Prophet_addreg[exogenous_features].rolling(window=window2, min_periods=0)\n",
        "  df_rolled_30d = df_Prophet_addreg[exogenous_features].rolling(window=window3, min_periods=0)\n",
        "\n",
        "  df_mean_3d = df_rolled_3d.mean().shift(1).reset_index()\n",
        "  df_mean_7d = df_rolled_7d.mean().shift(1).reset_index()\n",
        "  df_mean_30d = df_rolled_30d.mean().shift(1).reset_index()\n",
        "\n",
        "  df_std_3d = df_rolled_3d.std().shift(1).reset_index()\n",
        "  df_std_7d = df_rolled_7d.std().shift(1).reset_index()\n",
        "  df_std_30d = df_rolled_30d.std().shift(1).reset_index()\n",
        "\n",
        "  for feature in exogenous_features:\n",
        "      df_Prophet_addreg[f\"{feature}_mean_lag{window1}\"] = df_mean_3d[feature]\n",
        "      df_Prophet_addreg[f\"{feature}_mean_lag{window2}\"] = df_mean_7d[feature]\n",
        "      df_Prophet_addreg[f\"{feature}_mean_lag{window3}\"] = df_mean_30d[feature]\n",
        "      \n",
        "      df_Prophet_addreg[f\"{feature}_std_lag{window1}\"] = df_std_3d[feature]\n",
        "      df_Prophet_addreg[f\"{feature}_std_lag{window2}\"] = df_std_7d[feature]\n",
        "      df_Prophet_addreg[f\"{feature}_std_lag{window3}\"] = df_std_30d[feature]\n",
        "\n",
        "  df_Prophet_addreg.fillna(df_Prophet_addreg.mean(), inplace=True)\n",
        "  df_Prophet_addreg[\"month\"] = df_Prophet_addreg.Timestamp.dt.month\n",
        "  df_Prophet_addreg[\"week\"] = df_Prophet_addreg.Timestamp.dt.week\n",
        "  df_Prophet_addreg[\"day\"] = df_Prophet_addreg.Timestamp.dt.day\n",
        "  df_Prophet_addreg[\"day_of_week\"] = df_Prophet_addreg.Timestamp.dt.dayofweek\n",
        "  df_train = df_Prophet_addreg[df_Prophet_addreg.Timestamp < \"2020\"]\n",
        "  df_valid = df_Prophet_addreg[df_Prophet_addreg.Timestamp >= \"2020\"]\n",
        "\n",
        "  df_train = df_train.rename(columns = {'Timestamp':'ds',\"Weighted_Price\":\"y\"})\n",
        "  df_valid = df_valid.rename(columns = {'Timestamp':'ds',\"Weighted_Price\":\"y\"})\n",
        "  m2_fbp = Prophet(interval_width=0.95,weekly_seasonality=True,daily_seasonality=True,)\n",
        "  for feature in exogenous_features:\n",
        "    m2_fbp.add_regressor(feature)\n",
        "\n",
        "  m2_fbp.fit(df_train[[\"ds\", \"y\"] + exogenous_features])\n",
        "  forecast2 = m2_fbp.predict(df_valid[[\"ds\", \"y\"] + exogenous_features])\n",
        "  test_data2 = df_valid[['ds','y']]\n",
        "  test_data2 = test_data2.copy()\n",
        "  yhat = forecast2.loc[:,\"yhat\"].values\n",
        "  test_data2.insert(2,column =\"yhat\" ,value = yhat)\n",
        "  test_data2 = test_data2.reset_index(drop = True)\n",
        "\n",
        "  prophet_rmse2 = rmse(test_data2['y'], test_data2[\"yhat\"])\n",
        "  diff = round(((prophet_rmse2-prophet_rmse)/prophet_rmse),3)\n",
        "  print(\"Difference of RMSE:\"f'{i,\":\",diff}')\n",
        "  result_find_one.append([i,\":\",diff])"
      ],
      "metadata": {
        "id": "dw7EdMnf4nkw",
        "colab": {
          "base_uri": "https://localhost:8080/"
        },
        "outputId": "83f4dda7-b2ab-4a75-b73c-19d3cfa9742f"
      },
      "execution_count": 18,
      "outputs": [
        {
          "output_type": "stream",
          "name": "stderr",
          "text": [
            "<ipython-input-18-141136f9ad25>:34: FutureWarning: DataFrame.mean and DataFrame.median with numeric_only=None will include datetime64 and datetime64tz columns in a future version.\n",
            "  df_Prophet_addreg.fillna(df_Prophet_addreg.mean(), inplace=True)\n",
            "<ipython-input-18-141136f9ad25>:36: FutureWarning: Series.dt.weekofyear and Series.dt.week have been deprecated.  Please use Series.dt.isocalendar().week instead.\n",
            "  df_Prophet_addreg[\"week\"] = df_Prophet_addreg.Timestamp.dt.week\n",
            "DEBUG:cmdstanpy:input tempfile: /tmp/tmp43ug163o/ishb_z4z.json\n",
            "DEBUG:cmdstanpy:input tempfile: /tmp/tmp43ug163o/1i7pt5is.json\n",
            "DEBUG:cmdstanpy:idx 0\n",
            "DEBUG:cmdstanpy:running CmdStan, num_threads: None\n",
            "DEBUG:cmdstanpy:CmdStan args: ['/usr/local/lib/python3.8/dist-packages/prophet/stan_model/prophet_model.bin', 'random', 'seed=79247', 'data', 'file=/tmp/tmp43ug163o/ishb_z4z.json', 'init=/tmp/tmp43ug163o/1i7pt5is.json', 'output', 'file=/tmp/tmp43ug163o/prophet_models2jtly13/prophet_model-20221226081041.csv', 'method=optimize', 'algorithm=lbfgs', 'iter=10000']\n",
            "08:10:41 - cmdstanpy - INFO - Chain [1] start processing\n",
            "INFO:cmdstanpy:Chain [1] start processing\n",
            "08:10:41 - cmdstanpy - INFO - Chain [1] done processing\n",
            "INFO:cmdstanpy:Chain [1] done processing\n",
            "<ipython-input-18-141136f9ad25>:34: FutureWarning: DataFrame.mean and DataFrame.median with numeric_only=None will include datetime64 and datetime64tz columns in a future version.\n",
            "  df_Prophet_addreg.fillna(df_Prophet_addreg.mean(), inplace=True)\n",
            "<ipython-input-18-141136f9ad25>:36: FutureWarning: Series.dt.weekofyear and Series.dt.week have been deprecated.  Please use Series.dt.isocalendar().week instead.\n",
            "  df_Prophet_addreg[\"week\"] = df_Prophet_addreg.Timestamp.dt.week\n",
            "DEBUG:cmdstanpy:input tempfile: /tmp/tmp43ug163o/gvej7mxs.json\n",
            "DEBUG:cmdstanpy:input tempfile: /tmp/tmp43ug163o/b0gjax_x.json\n",
            "DEBUG:cmdstanpy:idx 0\n",
            "DEBUG:cmdstanpy:running CmdStan, num_threads: None\n",
            "DEBUG:cmdstanpy:CmdStan args: ['/usr/local/lib/python3.8/dist-packages/prophet/stan_model/prophet_model.bin', 'random', 'seed=75045', 'data', 'file=/tmp/tmp43ug163o/gvej7mxs.json', 'init=/tmp/tmp43ug163o/b0gjax_x.json', 'output', 'file=/tmp/tmp43ug163o/prophet_modelv3k6vbx1/prophet_model-20221226081042.csv', 'method=optimize', 'algorithm=lbfgs', 'iter=10000']\n",
            "08:10:42 - cmdstanpy - INFO - Chain [1] start processing\n",
            "INFO:cmdstanpy:Chain [1] start processing\n"
          ]
        },
        {
          "output_type": "stream",
          "name": "stdout",
          "text": [
            "Difference of RMSE:('Open', ':', -0.33)\n"
          ]
        },
        {
          "output_type": "stream",
          "name": "stderr",
          "text": [
            "08:10:42 - cmdstanpy - INFO - Chain [1] done processing\n",
            "INFO:cmdstanpy:Chain [1] done processing\n",
            "<ipython-input-18-141136f9ad25>:34: FutureWarning: DataFrame.mean and DataFrame.median with numeric_only=None will include datetime64 and datetime64tz columns in a future version.\n",
            "  df_Prophet_addreg.fillna(df_Prophet_addreg.mean(), inplace=True)\n",
            "<ipython-input-18-141136f9ad25>:36: FutureWarning: Series.dt.weekofyear and Series.dt.week have been deprecated.  Please use Series.dt.isocalendar().week instead.\n",
            "  df_Prophet_addreg[\"week\"] = df_Prophet_addreg.Timestamp.dt.week\n",
            "DEBUG:cmdstanpy:input tempfile: /tmp/tmp43ug163o/vpvx5xme.json\n",
            "DEBUG:cmdstanpy:input tempfile: /tmp/tmp43ug163o/c5nlgm1h.json\n",
            "DEBUG:cmdstanpy:idx 0\n",
            "DEBUG:cmdstanpy:running CmdStan, num_threads: None\n",
            "DEBUG:cmdstanpy:CmdStan args: ['/usr/local/lib/python3.8/dist-packages/prophet/stan_model/prophet_model.bin', 'random', 'seed=25790', 'data', 'file=/tmp/tmp43ug163o/vpvx5xme.json', 'init=/tmp/tmp43ug163o/c5nlgm1h.json', 'output', 'file=/tmp/tmp43ug163o/prophet_model74uo3ddo/prophet_model-20221226081042.csv', 'method=optimize', 'algorithm=lbfgs', 'iter=10000']\n",
            "08:10:42 - cmdstanpy - INFO - Chain [1] start processing\n",
            "INFO:cmdstanpy:Chain [1] start processing\n"
          ]
        },
        {
          "output_type": "stream",
          "name": "stdout",
          "text": [
            "Difference of RMSE:('High', ':', -0.33)\n"
          ]
        },
        {
          "output_type": "stream",
          "name": "stderr",
          "text": [
            "08:10:42 - cmdstanpy - INFO - Chain [1] done processing\n",
            "INFO:cmdstanpy:Chain [1] done processing\n",
            "<ipython-input-18-141136f9ad25>:34: FutureWarning: DataFrame.mean and DataFrame.median with numeric_only=None will include datetime64 and datetime64tz columns in a future version.\n",
            "  df_Prophet_addreg.fillna(df_Prophet_addreg.mean(), inplace=True)\n",
            "<ipython-input-18-141136f9ad25>:36: FutureWarning: Series.dt.weekofyear and Series.dt.week have been deprecated.  Please use Series.dt.isocalendar().week instead.\n",
            "  df_Prophet_addreg[\"week\"] = df_Prophet_addreg.Timestamp.dt.week\n",
            "DEBUG:cmdstanpy:input tempfile: /tmp/tmp43ug163o/i1rfops5.json\n",
            "DEBUG:cmdstanpy:input tempfile: /tmp/tmp43ug163o/lzu573br.json\n",
            "DEBUG:cmdstanpy:idx 0\n",
            "DEBUG:cmdstanpy:running CmdStan, num_threads: None\n",
            "DEBUG:cmdstanpy:CmdStan args: ['/usr/local/lib/python3.8/dist-packages/prophet/stan_model/prophet_model.bin', 'random', 'seed=91090', 'data', 'file=/tmp/tmp43ug163o/i1rfops5.json', 'init=/tmp/tmp43ug163o/lzu573br.json', 'output', 'file=/tmp/tmp43ug163o/prophet_modely44ipyrj/prophet_model-20221226081043.csv', 'method=optimize', 'algorithm=lbfgs', 'iter=10000']\n",
            "08:10:43 - cmdstanpy - INFO - Chain [1] start processing\n",
            "INFO:cmdstanpy:Chain [1] start processing\n"
          ]
        },
        {
          "output_type": "stream",
          "name": "stdout",
          "text": [
            "Difference of RMSE:('Low', ':', -0.33)\n"
          ]
        },
        {
          "output_type": "stream",
          "name": "stderr",
          "text": [
            "08:10:43 - cmdstanpy - INFO - Chain [1] done processing\n",
            "INFO:cmdstanpy:Chain [1] done processing\n",
            "<ipython-input-18-141136f9ad25>:34: FutureWarning: DataFrame.mean and DataFrame.median with numeric_only=None will include datetime64 and datetime64tz columns in a future version.\n",
            "  df_Prophet_addreg.fillna(df_Prophet_addreg.mean(), inplace=True)\n",
            "<ipython-input-18-141136f9ad25>:36: FutureWarning: Series.dt.weekofyear and Series.dt.week have been deprecated.  Please use Series.dt.isocalendar().week instead.\n",
            "  df_Prophet_addreg[\"week\"] = df_Prophet_addreg.Timestamp.dt.week\n",
            "DEBUG:cmdstanpy:input tempfile: /tmp/tmp43ug163o/5o9v2mfu.json\n",
            "DEBUG:cmdstanpy:input tempfile: /tmp/tmp43ug163o/i06zzq1x.json\n",
            "DEBUG:cmdstanpy:idx 0\n",
            "DEBUG:cmdstanpy:running CmdStan, num_threads: None\n",
            "DEBUG:cmdstanpy:CmdStan args: ['/usr/local/lib/python3.8/dist-packages/prophet/stan_model/prophet_model.bin', 'random', 'seed=37189', 'data', 'file=/tmp/tmp43ug163o/5o9v2mfu.json', 'init=/tmp/tmp43ug163o/i06zzq1x.json', 'output', 'file=/tmp/tmp43ug163o/prophet_model7qf6t8kd/prophet_model-20221226081044.csv', 'method=optimize', 'algorithm=lbfgs', 'iter=10000']\n",
            "08:10:44 - cmdstanpy - INFO - Chain [1] start processing\n",
            "INFO:cmdstanpy:Chain [1] start processing\n"
          ]
        },
        {
          "output_type": "stream",
          "name": "stdout",
          "text": [
            "Difference of RMSE:('Close', ':', -0.33)\n"
          ]
        },
        {
          "output_type": "stream",
          "name": "stderr",
          "text": [
            "08:10:44 - cmdstanpy - INFO - Chain [1] done processing\n",
            "INFO:cmdstanpy:Chain [1] done processing\n",
            "<ipython-input-18-141136f9ad25>:34: FutureWarning: DataFrame.mean and DataFrame.median with numeric_only=None will include datetime64 and datetime64tz columns in a future version.\n",
            "  df_Prophet_addreg.fillna(df_Prophet_addreg.mean(), inplace=True)\n",
            "<ipython-input-18-141136f9ad25>:36: FutureWarning: Series.dt.weekofyear and Series.dt.week have been deprecated.  Please use Series.dt.isocalendar().week instead.\n",
            "  df_Prophet_addreg[\"week\"] = df_Prophet_addreg.Timestamp.dt.week\n",
            "DEBUG:cmdstanpy:input tempfile: /tmp/tmp43ug163o/l1x7qyvj.json\n",
            "DEBUG:cmdstanpy:input tempfile: /tmp/tmp43ug163o/ulw7ek6k.json\n",
            "DEBUG:cmdstanpy:idx 0\n",
            "DEBUG:cmdstanpy:running CmdStan, num_threads: None\n",
            "DEBUG:cmdstanpy:CmdStan args: ['/usr/local/lib/python3.8/dist-packages/prophet/stan_model/prophet_model.bin', 'random', 'seed=37167', 'data', 'file=/tmp/tmp43ug163o/l1x7qyvj.json', 'init=/tmp/tmp43ug163o/ulw7ek6k.json', 'output', 'file=/tmp/tmp43ug163o/prophet_modelax12qtt2/prophet_model-20221226081045.csv', 'method=optimize', 'algorithm=lbfgs', 'iter=10000']\n",
            "08:10:45 - cmdstanpy - INFO - Chain [1] start processing\n",
            "INFO:cmdstanpy:Chain [1] start processing\n"
          ]
        },
        {
          "output_type": "stream",
          "name": "stdout",
          "text": [
            "Difference of RMSE:('Volume_(Currency)', ':', -0.33)\n"
          ]
        },
        {
          "output_type": "stream",
          "name": "stderr",
          "text": [
            "08:10:45 - cmdstanpy - INFO - Chain [1] done processing\n",
            "INFO:cmdstanpy:Chain [1] done processing\n",
            "<ipython-input-18-141136f9ad25>:34: FutureWarning: DataFrame.mean and DataFrame.median with numeric_only=None will include datetime64 and datetime64tz columns in a future version.\n",
            "  df_Prophet_addreg.fillna(df_Prophet_addreg.mean(), inplace=True)\n",
            "<ipython-input-18-141136f9ad25>:36: FutureWarning: Series.dt.weekofyear and Series.dt.week have been deprecated.  Please use Series.dt.isocalendar().week instead.\n",
            "  df_Prophet_addreg[\"week\"] = df_Prophet_addreg.Timestamp.dt.week\n",
            "DEBUG:cmdstanpy:input tempfile: /tmp/tmp43ug163o/yy3xequ0.json\n",
            "DEBUG:cmdstanpy:input tempfile: /tmp/tmp43ug163o/k54knc5w.json\n",
            "DEBUG:cmdstanpy:idx 0\n",
            "DEBUG:cmdstanpy:running CmdStan, num_threads: None\n",
            "DEBUG:cmdstanpy:CmdStan args: ['/usr/local/lib/python3.8/dist-packages/prophet/stan_model/prophet_model.bin', 'random', 'seed=28654', 'data', 'file=/tmp/tmp43ug163o/yy3xequ0.json', 'init=/tmp/tmp43ug163o/k54knc5w.json', 'output', 'file=/tmp/tmp43ug163o/prophet_modelv3c0ofta/prophet_model-20221226081046.csv', 'method=optimize', 'algorithm=lbfgs', 'iter=10000']\n",
            "08:10:46 - cmdstanpy - INFO - Chain [1] start processing\n",
            "INFO:cmdstanpy:Chain [1] start processing\n"
          ]
        },
        {
          "output_type": "stream",
          "name": "stdout",
          "text": [
            "Difference of RMSE:('Volume_(BTC)', ':', -0.33)\n"
          ]
        },
        {
          "output_type": "stream",
          "name": "stderr",
          "text": [
            "08:10:46 - cmdstanpy - INFO - Chain [1] done processing\n",
            "INFO:cmdstanpy:Chain [1] done processing\n",
            "<ipython-input-18-141136f9ad25>:34: FutureWarning: DataFrame.mean and DataFrame.median with numeric_only=None will include datetime64 and datetime64tz columns in a future version.\n",
            "  df_Prophet_addreg.fillna(df_Prophet_addreg.mean(), inplace=True)\n",
            "<ipython-input-18-141136f9ad25>:36: FutureWarning: Series.dt.weekofyear and Series.dt.week have been deprecated.  Please use Series.dt.isocalendar().week instead.\n",
            "  df_Prophet_addreg[\"week\"] = df_Prophet_addreg.Timestamp.dt.week\n",
            "DEBUG:cmdstanpy:input tempfile: /tmp/tmp43ug163o/6x5y56l2.json\n",
            "DEBUG:cmdstanpy:input tempfile: /tmp/tmp43ug163o/_zuglyt4.json\n",
            "DEBUG:cmdstanpy:idx 0\n",
            "DEBUG:cmdstanpy:running CmdStan, num_threads: None\n",
            "DEBUG:cmdstanpy:CmdStan args: ['/usr/local/lib/python3.8/dist-packages/prophet/stan_model/prophet_model.bin', 'random', 'seed=86362', 'data', 'file=/tmp/tmp43ug163o/6x5y56l2.json', 'init=/tmp/tmp43ug163o/_zuglyt4.json', 'output', 'file=/tmp/tmp43ug163o/prophet_modelu5_8f361/prophet_model-20221226081047.csv', 'method=optimize', 'algorithm=lbfgs', 'iter=10000']\n",
            "08:10:47 - cmdstanpy - INFO - Chain [1] start processing\n",
            "INFO:cmdstanpy:Chain [1] start processing\n"
          ]
        },
        {
          "output_type": "stream",
          "name": "stdout",
          "text": [
            "Difference of RMSE:('month', ':', -0.33)\n"
          ]
        },
        {
          "output_type": "stream",
          "name": "stderr",
          "text": [
            "08:10:47 - cmdstanpy - INFO - Chain [1] done processing\n",
            "INFO:cmdstanpy:Chain [1] done processing\n",
            "<ipython-input-18-141136f9ad25>:34: FutureWarning: DataFrame.mean and DataFrame.median with numeric_only=None will include datetime64 and datetime64tz columns in a future version.\n",
            "  df_Prophet_addreg.fillna(df_Prophet_addreg.mean(), inplace=True)\n",
            "<ipython-input-18-141136f9ad25>:36: FutureWarning: Series.dt.weekofyear and Series.dt.week have been deprecated.  Please use Series.dt.isocalendar().week instead.\n",
            "  df_Prophet_addreg[\"week\"] = df_Prophet_addreg.Timestamp.dt.week\n",
            "DEBUG:cmdstanpy:input tempfile: /tmp/tmp43ug163o/xjdqkvkf.json\n",
            "DEBUG:cmdstanpy:input tempfile: /tmp/tmp43ug163o/kpwy_ij3.json\n",
            "DEBUG:cmdstanpy:idx 0\n",
            "DEBUG:cmdstanpy:running CmdStan, num_threads: None\n",
            "DEBUG:cmdstanpy:CmdStan args: ['/usr/local/lib/python3.8/dist-packages/prophet/stan_model/prophet_model.bin', 'random', 'seed=30000', 'data', 'file=/tmp/tmp43ug163o/xjdqkvkf.json', 'init=/tmp/tmp43ug163o/kpwy_ij3.json', 'output', 'file=/tmp/tmp43ug163o/prophet_modelh2uhtokw/prophet_model-20221226081047.csv', 'method=optimize', 'algorithm=lbfgs', 'iter=10000']\n",
            "08:10:47 - cmdstanpy - INFO - Chain [1] start processing\n",
            "INFO:cmdstanpy:Chain [1] start processing\n"
          ]
        },
        {
          "output_type": "stream",
          "name": "stdout",
          "text": [
            "Difference of RMSE:('week', ':', -0.33)\n"
          ]
        },
        {
          "output_type": "stream",
          "name": "stderr",
          "text": [
            "08:10:48 - cmdstanpy - INFO - Chain [1] done processing\n",
            "INFO:cmdstanpy:Chain [1] done processing\n",
            "<ipython-input-18-141136f9ad25>:34: FutureWarning: DataFrame.mean and DataFrame.median with numeric_only=None will include datetime64 and datetime64tz columns in a future version.\n",
            "  df_Prophet_addreg.fillna(df_Prophet_addreg.mean(), inplace=True)\n",
            "<ipython-input-18-141136f9ad25>:36: FutureWarning: Series.dt.weekofyear and Series.dt.week have been deprecated.  Please use Series.dt.isocalendar().week instead.\n",
            "  df_Prophet_addreg[\"week\"] = df_Prophet_addreg.Timestamp.dt.week\n",
            "DEBUG:cmdstanpy:input tempfile: /tmp/tmp43ug163o/1hi2jdg8.json\n",
            "DEBUG:cmdstanpy:input tempfile: /tmp/tmp43ug163o/rbonciq_.json\n",
            "DEBUG:cmdstanpy:idx 0\n",
            "DEBUG:cmdstanpy:running CmdStan, num_threads: None\n",
            "DEBUG:cmdstanpy:CmdStan args: ['/usr/local/lib/python3.8/dist-packages/prophet/stan_model/prophet_model.bin', 'random', 'seed=54999', 'data', 'file=/tmp/tmp43ug163o/1hi2jdg8.json', 'init=/tmp/tmp43ug163o/rbonciq_.json', 'output', 'file=/tmp/tmp43ug163o/prophet_modeld2ufjm53/prophet_model-20221226081048.csv', 'method=optimize', 'algorithm=lbfgs', 'iter=10000']\n",
            "08:10:48 - cmdstanpy - INFO - Chain [1] start processing\n",
            "INFO:cmdstanpy:Chain [1] start processing\n"
          ]
        },
        {
          "output_type": "stream",
          "name": "stdout",
          "text": [
            "Difference of RMSE:('day', ':', -0.33)\n"
          ]
        },
        {
          "output_type": "stream",
          "name": "stderr",
          "text": [
            "08:10:48 - cmdstanpy - INFO - Chain [1] done processing\n",
            "INFO:cmdstanpy:Chain [1] done processing\n"
          ]
        },
        {
          "output_type": "stream",
          "name": "stdout",
          "text": [
            "Difference of RMSE:('day_of_week', ':', -0.33)\n"
          ]
        }
      ]
    },
    {
      "cell_type": "code",
      "source": [
        "result_find_one"
      ],
      "metadata": {
        "colab": {
          "base_uri": "https://localhost:8080/"
        },
        "id": "6axYnZYa5ZpP",
        "outputId": "7d830f98-5342-43bc-f418-f9f2bb132051"
      },
      "execution_count": 19,
      "outputs": [
        {
          "output_type": "execute_result",
          "data": {
            "text/plain": [
              "[['Open', ':', -0.33],\n",
              " ['High', ':', -0.33],\n",
              " ['Low', ':', -0.33],\n",
              " ['Close', ':', -0.33],\n",
              " ['Volume_(Currency)', ':', -0.33],\n",
              " ['Volume_(BTC)', ':', -0.33],\n",
              " ['month', ':', -0.33],\n",
              " ['week', ':', -0.33],\n",
              " ['day', ':', -0.33],\n",
              " ['day_of_week', ':', -0.33]]"
            ]
          },
          "metadata": {},
          "execution_count": 19
        }
      ]
    },
    {
      "cell_type": "code",
      "execution_count": 20,
      "metadata": {
        "id": "YAezwhTvtfR8"
      },
      "outputs": [],
      "source": [
        "exogenous_features = ['Open_mean_lag3','Open_mean_lag7', 'Open_mean_lag30', \n",
        "                      'Open_std_lag3', 'Open_std_lag7','Open_std_lag30', \n",
        "                      'High_mean_lag3', 'High_mean_lag7', 'High_mean_lag30',\n",
        "                      'High_std_lag3', 'High_std_lag7', 'High_std_lag30', \n",
        "                      'Low_mean_lag3','Low_mean_lag7', 'Low_mean_lag30',\n",
        "                      'Low_std_lag3', 'Low_std_lag7','Low_std_lag30',\n",
        "                      'Close_mean_lag3', 'Close_mean_lag7','Close_mean_lag30',\n",
        "                      'Close_std_lag3', 'Close_std_lag7','Close_std_lag30',\n",
        "                      'Volume_(BTC)_mean_lag3', 'Volume_(BTC)_mean_lag7',\n",
        "                      'Volume_(BTC)_mean_lag30', 'Volume_(BTC)_std_lag3',\n",
        "                      'Volume_(BTC)_std_lag7', 'Volume_(BTC)_std_lag30',\n",
        "                      'Volume_(Currency)_mean_lag3', 'Volume_(Currency)_mean_lag7',\n",
        "                      'Volume_(Currency)_mean_lag30', 'Volume_(Currency)_std_lag3',\n",
        "                      'Volume_(Currency)_std_lag7', 'Volume_(Currency)_std_lag30', \n",
        "                      'month', 'week','day', 'day_of_week']  \n",
        "                      \n",
        "                      "
      ]
    },
    {
      "cell_type": "code",
      "execution_count": 21,
      "metadata": {
        "colab": {
          "base_uri": "https://localhost:8080/"
        },
        "id": "zM7-ZTSA7DTL",
        "outputId": "df2d6496-1140-4b62-ea7c-157488746657"
      },
      "outputs": [
        {
          "output_type": "stream",
          "name": "stdout",
          "text": [
            "train shape :      Timestamp         Open         High          Low        Close  \\\n",
            "0   2012-01-01     4.611429     4.621429     4.611429     4.621429   \n",
            "1   2012-01-08     6.009286     6.017321     6.009286     6.017321   \n",
            "2   2012-01-15     6.847168     6.850636     6.840867     6.845145   \n",
            "3   2012-01-22     6.332981     6.335673     6.329327     6.332019   \n",
            "4   2012-01-29     6.124828     6.126207     6.124052     6.125431   \n",
            "..         ...          ...          ...          ...          ...   \n",
            "413 2019-12-01  7355.340641  7360.972397  7349.737461  7355.226190   \n",
            "414 2019-12-08  7379.551985  7383.959005  7375.480366  7379.547668   \n",
            "415 2019-12-15  7232.351484  7235.530138  7228.947472  7232.250254   \n",
            "416 2019-12-22  7037.059651  7041.362522  7033.078004  7037.068874   \n",
            "417 2019-12-29  7295.606306  7299.060268  7292.198742  7295.650094   \n",
            "\n",
            "     Volume_(BTC)  Volume_(Currency)  Weighted_Price  Open_mean_lag3  \\\n",
            "0       16.702840          75.871357        4.615202     4432.450268   \n",
            "1        6.219625          35.272736        6.012609        4.611429   \n",
            "2        2.308239          16.012406        6.846930        5.310357   \n",
            "3        7.036892          44.270967        6.332164        5.822627   \n",
            "4        3.389604          20.956109        6.125839        6.396478   \n",
            "..            ...                ...             ...             ...   \n",
            "413      6.692576       48613.539479     7355.472402     8502.049529   \n",
            "414      2.737669       20192.900208     7380.120877     7910.135600   \n",
            "415      2.563430       18620.481650     7232.664836     7491.278300   \n",
            "416      4.063312       28313.958170     7037.438063     7322.414703   \n",
            "417      2.414207       17702.241206     7296.025185     7216.321040   \n",
            "\n",
            "     Open_mean_lag7  ...  Volume_(Currency)_std_lag7_mean_lag30  \\\n",
            "0       4211.507964  ...                            9132.168030   \n",
            "1          4.611429  ...                           11164.728597   \n",
            "2          5.310357  ...                           11164.728597   \n",
            "3          5.822627  ...                            7452.721585   \n",
            "4          5.950216  ...                            5597.180385   \n",
            "..              ...  ...                                    ...   \n",
            "413     8499.792145  ...                           25968.944157   \n",
            "414     8362.134842  ...                           26208.592063   \n",
            "415     8261.090989  ...                           26471.281683   \n",
            "416     8105.839297  ...                           26686.735336   \n",
            "417     7787.207479  ...                           26215.723874   \n",
            "\n",
            "     Volume_(Currency)_std_lag7_std_lag3  Volume_(Currency)_std_lag7_std_lag7  \\\n",
            "0                            1820.177574                          3165.824372   \n",
            "1                            1820.177574                          3165.824372   \n",
            "2                               0.000000                             0.000000   \n",
            "3                            6429.384744                          6429.384744   \n",
            "4                            6428.850985                          6428.850963   \n",
            "..                                   ...                                  ...   \n",
            "413                           407.597784                          4104.983658   \n",
            "414                           459.159812                          3598.242000   \n",
            "415                            36.287659                          2654.759743   \n",
            "416                           824.530928                           731.427431   \n",
            "417                          5856.891435                          3742.220903   \n",
            "\n",
            "     Volume_(Currency)_std_lag7_std_lag30  \\\n",
            "0                             5264.186422   \n",
            "1                             5264.186422   \n",
            "2                                0.000000   \n",
            "3                             6429.384744   \n",
            "4                             6428.850963   \n",
            "..                                    ...   \n",
            "413                           9475.923384   \n",
            "414                           9294.609829   \n",
            "415                           9071.686306   \n",
            "416                           8933.019590   \n",
            "417                           9253.059929   \n",
            "\n",
            "     Volume_(Currency)_std_lag30_mean_lag3  \\\n",
            "0                             14811.363568   \n",
            "1                             15231.587087   \n",
            "2                             15231.587087   \n",
            "3                             10163.960578   \n",
            "4                              5096.950477   \n",
            "..                                     ...   \n",
            "413                           32133.601312   \n",
            "414                           32093.663641   \n",
            "415                           31837.153608   \n",
            "416                           31881.986590   \n",
            "417                           31970.960778   \n",
            "\n",
            "     Volume_(Currency)_std_lag30_mean_lag7  \\\n",
            "0                             14361.978770   \n",
            "1                             15231.587087   \n",
            "2                             15231.587087   \n",
            "3                             10163.960578   \n",
            "4                              7630.609629   \n",
            "..                                     ...   \n",
            "413                           32556.691237   \n",
            "414                           32292.175006   \n",
            "415                           32042.374327   \n",
            "416                           32012.241334   \n",
            "417                           32040.416747   \n",
            "\n",
            "     Volume_(Currency)_std_lag30_mean_lag30  \\\n",
            "0                              12771.083120   \n",
            "1                              15231.587087   \n",
            "2                              15231.587087   \n",
            "3                              10163.960578   \n",
            "4                               7630.609629   \n",
            "..                                      ...   \n",
            "413                            29645.746329   \n",
            "414                            30258.323409   \n",
            "415                            30854.038341   \n",
            "416                            31428.620439   \n",
            "417                            31836.798415   \n",
            "\n",
            "     Volume_(Currency)_std_lag30_std_lag3  \\\n",
            "0                              750.025931   \n",
            "1                              750.025931   \n",
            "2                                0.000000   \n",
            "3                             8777.386587   \n",
            "4                             8776.852811   \n",
            "..                                    ...   \n",
            "413                             39.497489   \n",
            "414                            108.090949   \n",
            "415                            393.335426   \n",
            "416                            449.975027   \n",
            "417                            499.513999   \n",
            "\n",
            "     Volume_(Currency)_std_lag30_std_lag7  \\\n",
            "0                             1581.466296   \n",
            "1                             1581.466296   \n",
            "2                                0.000000   \n",
            "3                             8777.386587   \n",
            "4                             8776.852795   \n",
            "..                                    ...   \n",
            "413                            677.566592   \n",
            "414                            410.654553   \n",
            "415                            330.602188   \n",
            "416                            289.790394   \n",
            "417                            302.141929   \n",
            "\n",
            "     Volume_(Currency)_std_lag30_std_lag30  \n",
            "0                              4423.931259  \n",
            "1                              4423.931259  \n",
            "2                                 0.000000  \n",
            "3                              8777.386587  \n",
            "4                              8776.852795  \n",
            "..                                     ...  \n",
            "413                            8089.776511  \n",
            "414                            7507.021334  \n",
            "415                            6809.959618  \n",
            "416                            6122.552032  \n",
            "417                            5729.277741  \n",
            "\n",
            "[418 rows x 84 columns]\n",
            "validation shape :      Timestamp          Open          High           Low         Close  \\\n",
            "418 2020-01-05   7247.205908   7250.080772   7244.409239   7247.230847   \n",
            "419 2020-01-12   7958.251339   7963.247239   7953.714649   7958.436130   \n",
            "420 2020-01-19   8669.194492   8674.930697   8664.053741   8669.300857   \n",
            "421 2020-01-26   8503.796138   8507.987717   8500.069575   8503.903109   \n",
            "422 2020-02-02   9221.818179   9228.421035   9216.347452   9221.808941   \n",
            "..         ...           ...           ...           ...           ...   \n",
            "479 2021-03-07  48913.831560  48949.043675  48878.744818  48915.008325   \n",
            "480 2021-03-14  56070.912525  56107.590120  56034.359467  56071.977534   \n",
            "481 2021-03-21  57409.002829  57446.730002  57371.036722  57410.340495   \n",
            "482 2021-03-28  54714.374227  54749.805909  54679.609776  54715.714425   \n",
            "483 2021-04-04  57631.492329  57659.225895  57604.750251  57632.642852   \n",
            "\n",
            "     Volume_(BTC)  Volume_(Currency)  Weighted_Price  Open_mean_lag3  \\\n",
            "418      2.570350       18591.711276     7247.550026     7188.339147   \n",
            "419      5.143689       41007.440779     7958.877304     7193.290622   \n",
            "420      5.776902       50186.667686     8669.965061     7500.354517   \n",
            "421      3.504837       29696.498850     8504.334361     7958.217246   \n",
            "422      4.302715       39461.269398     9222.831691     8377.080656   \n",
            "..            ...                ...             ...             ...   \n",
            "479      3.521209      172321.875180    48912.216044    49116.970449   \n",
            "480      3.785344      212684.324250    56070.005951    50019.768800   \n",
            "481      3.611187      205891.531145    57406.662459    51285.426683   \n",
            "482      3.449879      187482.008986    54713.102551    54131.248971   \n",
            "483      3.048564      176000.275875    57630.598391    56064.763194   \n",
            "\n",
            "     Open_mean_lag7  ...  Volume_(Currency)_std_lag7_mean_lag30  \\\n",
            "418     7524.996604  ...                           25676.065358   \n",
            "419     7326.579750  ...                           25184.775811   \n",
            "420     7357.909616  ...                           24792.834610   \n",
            "421     7545.603023  ...                           24453.636260   \n",
            "422     7706.209331  ...                           24242.825457   \n",
            "..              ...  ...                                    ...   \n",
            "479    41035.670211  ...                           47095.671696   \n",
            "480    42874.747609  ...                           48274.353923   \n",
            "481    46038.445821  ...                           49458.384621   \n",
            "482    49528.491587  ...                           50730.226144   \n",
            "483    52065.576070  ...                           51750.227382   \n",
            "\n",
            "     Volume_(Currency)_std_lag7_std_lag3  Volume_(Currency)_std_lag7_std_lag7  \\\n",
            "418                          7033.576926                          5450.308086   \n",
            "419                          1219.740838                          5964.235039   \n",
            "420                           660.871538                          5999.060653   \n",
            "421                           308.269658                          5557.300395   \n",
            "422                           330.953190                          4552.085325   \n",
            "..                                   ...                                  ...   \n",
            "479                          9770.479600                         22004.443757   \n",
            "480                         14030.362212                         27791.647448   \n",
            "481                         13304.565848                         25110.678638   \n",
            "482                          1515.520318                         19919.443759   \n",
            "483                          4701.848441                         17596.753877   \n",
            "\n",
            "     Volume_(Currency)_std_lag7_std_lag30  \\\n",
            "418                           9657.440686   \n",
            "419                           9977.005113   \n",
            "420                          10250.227191   \n",
            "421                          10488.534784   \n",
            "422                          10658.598160   \n",
            "..                                    ...   \n",
            "479                          40869.905817   \n",
            "480                          40891.591982   \n",
            "481                          40877.749644   \n",
            "482                          40864.256104   \n",
            "483                          40685.417140   \n",
            "\n",
            "     Volume_(Currency)_std_lag30_mean_lag3  \\\n",
            "418                           32378.678491   \n",
            "419                           32739.445940   \n",
            "420                           33335.640583   \n",
            "421                           33828.680765   \n",
            "422                           34042.109956   \n",
            "..                                     ...   \n",
            "479                          113743.144214   \n",
            "480                          116920.019495   \n",
            "481                          118722.204790   \n",
            "482                          119888.710609   \n",
            "483                          118764.505763   \n",
            "\n",
            "     Volume_(Currency)_std_lag30_mean_lag7  \\\n",
            "418                           32115.972066   \n",
            "419                           32287.392769   \n",
            "420                           32555.576435   \n",
            "421                           32859.550833   \n",
            "422                           33232.374061   \n",
            "..                                     ...   \n",
            "479                          106105.621893   \n",
            "480                          111209.897680   \n",
            "481                          113902.014273   \n",
            "482                          116063.903910   \n",
            "483                          116928.440917   \n",
            "\n",
            "     Volume_(Currency)_std_lag30_mean_lag30  \\\n",
            "418                            32258.605936   \n",
            "419                            32703.090996   \n",
            "420                            33170.599079   \n",
            "421                            33635.545809   \n",
            "422                            34099.534961   \n",
            "..                                      ...   \n",
            "479                            46319.902232   \n",
            "480                            49489.374432   \n",
            "481                            52624.778835   \n",
            "482                            55727.580603   \n",
            "483                            58802.908514   \n",
            "\n",
            "     Volume_(Currency)_std_lag30_std_lag3  \\\n",
            "418                            208.460409   \n",
            "419                            573.782650   \n",
            "420                            703.839444   \n",
            "421                            403.828106   \n",
            "422                             48.640808   \n",
            "..                                    ...   \n",
            "479                           2043.756724   \n",
            "480                           3543.538533   \n",
            "481                           2968.742322   \n",
            "482                           1060.226686   \n",
            "483                           1117.193763   \n",
            "\n",
            "     Volume_(Currency)_std_lag30_std_lag7  \\\n",
            "418                            373.928819   \n",
            "419                            604.029566   \n",
            "420                            883.594556   \n",
            "421                           1005.814606   \n",
            "422                            842.856300   \n",
            "..                                    ...   \n",
            "479                          10645.746167   \n",
            "480                           6875.476002   \n",
            "481                           5812.899776   \n",
            "482                           3894.583341   \n",
            "483                           3361.193091   \n",
            "\n",
            "     Volume_(Currency)_std_lag30_std_lag30  \n",
            "418                            5272.623722  \n",
            "419                            4741.473671  \n",
            "420                            4092.777860  \n",
            "421                            3272.539754  \n",
            "422                            2039.545549  \n",
            "..                                     ...  \n",
            "479                           34272.796513  \n",
            "480                           36633.788408  \n",
            "481                           38510.882319  \n",
            "482                           39994.222237  \n",
            "483                           41108.904265  \n",
            "\n",
            "[66 rows x 84 columns]\n"
          ]
        },
        {
          "output_type": "stream",
          "name": "stderr",
          "text": [
            "<ipython-input-21-38050d41525f>:27: FutureWarning: DataFrame.mean and DataFrame.median with numeric_only=None will include datetime64 and datetime64tz columns in a future version.\n",
            "  df_Prophet_addreg.fillna(df_Prophet_addreg.mean(), inplace=True)\n",
            "<ipython-input-21-38050d41525f>:31: FutureWarning: Series.dt.weekofyear and Series.dt.week have been deprecated.  Please use Series.dt.isocalendar().week instead.\n",
            "  df_Prophet_addreg[\"week\"] = df_Prophet_addreg.Timestamp.dt.week\n"
          ]
        }
      ],
      "source": [
        "\n",
        "lag_features = [\"Open\", \"High\", \"Low\", \"Close\"]\n",
        "window1 = 3\n",
        "window2 = 7\n",
        "window3 = 30\n",
        "\n",
        "df_rolled_3d = df_Prophet_addreg[lag_features].rolling(window=window1, min_periods=0)\n",
        "df_rolled_7d = df_Prophet_addreg[lag_features].rolling(window=window2, min_periods=0)\n",
        "df_rolled_30d = df_Prophet_addreg[lag_features].rolling(window=window3, min_periods=0)\n",
        "\n",
        "df_mean_3d = df_rolled_3d.mean().shift(1).reset_index()\n",
        "df_mean_7d = df_rolled_7d.mean().shift(1).reset_index()\n",
        "df_mean_30d = df_rolled_30d.mean().shift(1).reset_index()\n",
        "\n",
        "df_std_3d = df_rolled_3d.std().shift(1).reset_index()\n",
        "df_std_7d = df_rolled_7d.std().shift(1).reset_index()\n",
        "df_std_30d = df_rolled_30d.std().shift(1).reset_index()\n",
        "\n",
        "for feature in lag_features:\n",
        "    df_Prophet_addreg[f\"{feature}_mean_lag{window1}\"] = df_mean_3d[feature]\n",
        "    df_Prophet_addreg[f\"{feature}_mean_lag{window2}\"] = df_mean_7d[feature]\n",
        "    df_Prophet_addreg[f\"{feature}_mean_lag{window3}\"] = df_mean_30d[feature]\n",
        "    \n",
        "    df_Prophet_addreg[f\"{feature}_std_lag{window1}\"] = df_std_3d[feature]\n",
        "    df_Prophet_addreg[f\"{feature}_std_lag{window2}\"] = df_std_7d[feature]\n",
        "    df_Prophet_addreg[f\"{feature}_std_lag{window3}\"] = df_std_30d[feature]\n",
        "\n",
        "df_Prophet_addreg.fillna(df_Prophet_addreg.mean(), inplace=True)\n",
        "\n",
        "# df_Prophet_addreg.set_index(\"Timestamp\", drop=False, inplace=True)\n",
        "df_Prophet_addreg[\"month\"] = df_Prophet_addreg.Timestamp.dt.month\n",
        "df_Prophet_addreg[\"week\"] = df_Prophet_addreg.Timestamp.dt.week\n",
        "df_Prophet_addreg[\"day\"] = df_Prophet_addreg.Timestamp.dt.day\n",
        "df_Prophet_addreg[\"day_of_week\"] = df_Prophet_addreg.Timestamp.dt.dayofweek\n",
        "df_train = df_Prophet_addreg[df_Prophet_addreg.Timestamp < \"2020\"]\n",
        "df_valid = df_Prophet_addreg[df_Prophet_addreg.Timestamp >= \"2020\"]\n",
        "\n",
        "print('train shape :', df_train)#.shape)\n",
        "print('validation shape :', df_valid)#.shape)\n",
        "\n",
        "# df_Prophet_addreg.head()"
      ]
    },
    {
      "cell_type": "code",
      "execution_count": 22,
      "metadata": {
        "id": "FYMFvFsr9yW5"
      },
      "outputs": [],
      "source": [
        "df_train = df_train.rename(columns = {'Timestamp':'ds',\"Weighted_Price\":\"y\"})\n",
        "df_valid = df_valid.rename(columns = {'Timestamp':'ds',\"Weighted_Price\":\"y\"})"
      ]
    },
    {
      "cell_type": "code",
      "execution_count": 23,
      "metadata": {
        "colab": {
          "base_uri": "https://localhost:8080/",
          "height": 661
        },
        "id": "Y8eTbpxA-JVd",
        "outputId": "886c1202-0754-498a-dacb-2aed9a7812d7"
      },
      "outputs": [
        {
          "output_type": "execute_result",
          "data": {
            "text/plain": [
              "            ds         Open         High          Low        Close  \\\n",
              "0   2012-01-01     4.611429     4.621429     4.611429     4.621429   \n",
              "1   2012-01-08     6.009286     6.017321     6.009286     6.017321   \n",
              "2   2012-01-15     6.847168     6.850636     6.840867     6.845145   \n",
              "3   2012-01-22     6.332981     6.335673     6.329327     6.332019   \n",
              "4   2012-01-29     6.124828     6.126207     6.124052     6.125431   \n",
              "..         ...          ...          ...          ...          ...   \n",
              "413 2019-12-01  7355.340641  7360.972397  7349.737461  7355.226190   \n",
              "414 2019-12-08  7379.551985  7383.959005  7375.480366  7379.547668   \n",
              "415 2019-12-15  7232.351484  7235.530138  7228.947472  7232.250254   \n",
              "416 2019-12-22  7037.059651  7041.362522  7033.078004  7037.068874   \n",
              "417 2019-12-29  7295.606306  7299.060268  7292.198742  7295.650094   \n",
              "\n",
              "     Volume_(BTC)  Volume_(Currency)            y  Open_mean_lag3  \\\n",
              "0       16.702840          75.871357     4.615202     4432.450268   \n",
              "1        6.219625          35.272736     6.012609        4.611429   \n",
              "2        2.308239          16.012406     6.846930        5.310357   \n",
              "3        7.036892          44.270967     6.332164        5.822627   \n",
              "4        3.389604          20.956109     6.125839        6.396478   \n",
              "..            ...                ...          ...             ...   \n",
              "413      6.692576       48613.539479  7355.472402     8502.049529   \n",
              "414      2.737669       20192.900208  7380.120877     7910.135600   \n",
              "415      2.563430       18620.481650  7232.664836     7491.278300   \n",
              "416      4.063312       28313.958170  7037.438063     7322.414703   \n",
              "417      2.414207       17702.241206  7296.025185     7216.321040   \n",
              "\n",
              "     Open_mean_lag7  ...  Volume_(Currency)_std_lag7_mean_lag30  \\\n",
              "0       4211.507964  ...                            9132.168030   \n",
              "1          4.611429  ...                           11164.728597   \n",
              "2          5.310357  ...                           11164.728597   \n",
              "3          5.822627  ...                            7452.721585   \n",
              "4          5.950216  ...                            5597.180385   \n",
              "..              ...  ...                                    ...   \n",
              "413     8499.792145  ...                           25968.944157   \n",
              "414     8362.134842  ...                           26208.592063   \n",
              "415     8261.090989  ...                           26471.281683   \n",
              "416     8105.839297  ...                           26686.735336   \n",
              "417     7787.207479  ...                           26215.723874   \n",
              "\n",
              "     Volume_(Currency)_std_lag7_std_lag3  Volume_(Currency)_std_lag7_std_lag7  \\\n",
              "0                            1820.177574                          3165.824372   \n",
              "1                            1820.177574                          3165.824372   \n",
              "2                               0.000000                             0.000000   \n",
              "3                            6429.384744                          6429.384744   \n",
              "4                            6428.850985                          6428.850963   \n",
              "..                                   ...                                  ...   \n",
              "413                           407.597784                          4104.983658   \n",
              "414                           459.159812                          3598.242000   \n",
              "415                            36.287659                          2654.759743   \n",
              "416                           824.530928                           731.427431   \n",
              "417                          5856.891435                          3742.220903   \n",
              "\n",
              "     Volume_(Currency)_std_lag7_std_lag30  \\\n",
              "0                             5264.186422   \n",
              "1                             5264.186422   \n",
              "2                                0.000000   \n",
              "3                             6429.384744   \n",
              "4                             6428.850963   \n",
              "..                                    ...   \n",
              "413                           9475.923384   \n",
              "414                           9294.609829   \n",
              "415                           9071.686306   \n",
              "416                           8933.019590   \n",
              "417                           9253.059929   \n",
              "\n",
              "     Volume_(Currency)_std_lag30_mean_lag3  \\\n",
              "0                             14811.363568   \n",
              "1                             15231.587087   \n",
              "2                             15231.587087   \n",
              "3                             10163.960578   \n",
              "4                              5096.950477   \n",
              "..                                     ...   \n",
              "413                           32133.601312   \n",
              "414                           32093.663641   \n",
              "415                           31837.153608   \n",
              "416                           31881.986590   \n",
              "417                           31970.960778   \n",
              "\n",
              "     Volume_(Currency)_std_lag30_mean_lag7  \\\n",
              "0                             14361.978770   \n",
              "1                             15231.587087   \n",
              "2                             15231.587087   \n",
              "3                             10163.960578   \n",
              "4                              7630.609629   \n",
              "..                                     ...   \n",
              "413                           32556.691237   \n",
              "414                           32292.175006   \n",
              "415                           32042.374327   \n",
              "416                           32012.241334   \n",
              "417                           32040.416747   \n",
              "\n",
              "     Volume_(Currency)_std_lag30_mean_lag30  \\\n",
              "0                              12771.083120   \n",
              "1                              15231.587087   \n",
              "2                              15231.587087   \n",
              "3                              10163.960578   \n",
              "4                               7630.609629   \n",
              "..                                      ...   \n",
              "413                            29645.746329   \n",
              "414                            30258.323409   \n",
              "415                            30854.038341   \n",
              "416                            31428.620439   \n",
              "417                            31836.798415   \n",
              "\n",
              "     Volume_(Currency)_std_lag30_std_lag3  \\\n",
              "0                              750.025931   \n",
              "1                              750.025931   \n",
              "2                                0.000000   \n",
              "3                             8777.386587   \n",
              "4                             8776.852811   \n",
              "..                                    ...   \n",
              "413                             39.497489   \n",
              "414                            108.090949   \n",
              "415                            393.335426   \n",
              "416                            449.975027   \n",
              "417                            499.513999   \n",
              "\n",
              "     Volume_(Currency)_std_lag30_std_lag7  \\\n",
              "0                             1581.466296   \n",
              "1                             1581.466296   \n",
              "2                                0.000000   \n",
              "3                             8777.386587   \n",
              "4                             8776.852795   \n",
              "..                                    ...   \n",
              "413                            677.566592   \n",
              "414                            410.654553   \n",
              "415                            330.602188   \n",
              "416                            289.790394   \n",
              "417                            302.141929   \n",
              "\n",
              "     Volume_(Currency)_std_lag30_std_lag30  \n",
              "0                              4423.931259  \n",
              "1                              4423.931259  \n",
              "2                                 0.000000  \n",
              "3                              8777.386587  \n",
              "4                              8776.852795  \n",
              "..                                     ...  \n",
              "413                            8089.776511  \n",
              "414                            7507.021334  \n",
              "415                            6809.959618  \n",
              "416                            6122.552032  \n",
              "417                            5729.277741  \n",
              "\n",
              "[418 rows x 84 columns]"
            ],
            "text/html": [
              "\n",
              "  <div id=\"df-4f0fb663-18d3-456e-80c4-1a579454795d\">\n",
              "    <div class=\"colab-df-container\">\n",
              "      <div>\n",
              "<style scoped>\n",
              "    .dataframe tbody tr th:only-of-type {\n",
              "        vertical-align: middle;\n",
              "    }\n",
              "\n",
              "    .dataframe tbody tr th {\n",
              "        vertical-align: top;\n",
              "    }\n",
              "\n",
              "    .dataframe thead th {\n",
              "        text-align: right;\n",
              "    }\n",
              "</style>\n",
              "<table border=\"1\" class=\"dataframe\">\n",
              "  <thead>\n",
              "    <tr style=\"text-align: right;\">\n",
              "      <th></th>\n",
              "      <th>ds</th>\n",
              "      <th>Open</th>\n",
              "      <th>High</th>\n",
              "      <th>Low</th>\n",
              "      <th>Close</th>\n",
              "      <th>Volume_(BTC)</th>\n",
              "      <th>Volume_(Currency)</th>\n",
              "      <th>y</th>\n",
              "      <th>Open_mean_lag3</th>\n",
              "      <th>Open_mean_lag7</th>\n",
              "      <th>...</th>\n",
              "      <th>Volume_(Currency)_std_lag7_mean_lag30</th>\n",
              "      <th>Volume_(Currency)_std_lag7_std_lag3</th>\n",
              "      <th>Volume_(Currency)_std_lag7_std_lag7</th>\n",
              "      <th>Volume_(Currency)_std_lag7_std_lag30</th>\n",
              "      <th>Volume_(Currency)_std_lag30_mean_lag3</th>\n",
              "      <th>Volume_(Currency)_std_lag30_mean_lag7</th>\n",
              "      <th>Volume_(Currency)_std_lag30_mean_lag30</th>\n",
              "      <th>Volume_(Currency)_std_lag30_std_lag3</th>\n",
              "      <th>Volume_(Currency)_std_lag30_std_lag7</th>\n",
              "      <th>Volume_(Currency)_std_lag30_std_lag30</th>\n",
              "    </tr>\n",
              "  </thead>\n",
              "  <tbody>\n",
              "    <tr>\n",
              "      <th>0</th>\n",
              "      <td>2012-01-01</td>\n",
              "      <td>4.611429</td>\n",
              "      <td>4.621429</td>\n",
              "      <td>4.611429</td>\n",
              "      <td>4.621429</td>\n",
              "      <td>16.702840</td>\n",
              "      <td>75.871357</td>\n",
              "      <td>4.615202</td>\n",
              "      <td>4432.450268</td>\n",
              "      <td>4211.507964</td>\n",
              "      <td>...</td>\n",
              "      <td>9132.168030</td>\n",
              "      <td>1820.177574</td>\n",
              "      <td>3165.824372</td>\n",
              "      <td>5264.186422</td>\n",
              "      <td>14811.363568</td>\n",
              "      <td>14361.978770</td>\n",
              "      <td>12771.083120</td>\n",
              "      <td>750.025931</td>\n",
              "      <td>1581.466296</td>\n",
              "      <td>4423.931259</td>\n",
              "    </tr>\n",
              "    <tr>\n",
              "      <th>1</th>\n",
              "      <td>2012-01-08</td>\n",
              "      <td>6.009286</td>\n",
              "      <td>6.017321</td>\n",
              "      <td>6.009286</td>\n",
              "      <td>6.017321</td>\n",
              "      <td>6.219625</td>\n",
              "      <td>35.272736</td>\n",
              "      <td>6.012609</td>\n",
              "      <td>4.611429</td>\n",
              "      <td>4.611429</td>\n",
              "      <td>...</td>\n",
              "      <td>11164.728597</td>\n",
              "      <td>1820.177574</td>\n",
              "      <td>3165.824372</td>\n",
              "      <td>5264.186422</td>\n",
              "      <td>15231.587087</td>\n",
              "      <td>15231.587087</td>\n",
              "      <td>15231.587087</td>\n",
              "      <td>750.025931</td>\n",
              "      <td>1581.466296</td>\n",
              "      <td>4423.931259</td>\n",
              "    </tr>\n",
              "    <tr>\n",
              "      <th>2</th>\n",
              "      <td>2012-01-15</td>\n",
              "      <td>6.847168</td>\n",
              "      <td>6.850636</td>\n",
              "      <td>6.840867</td>\n",
              "      <td>6.845145</td>\n",
              "      <td>2.308239</td>\n",
              "      <td>16.012406</td>\n",
              "      <td>6.846930</td>\n",
              "      <td>5.310357</td>\n",
              "      <td>5.310357</td>\n",
              "      <td>...</td>\n",
              "      <td>11164.728597</td>\n",
              "      <td>0.000000</td>\n",
              "      <td>0.000000</td>\n",
              "      <td>0.000000</td>\n",
              "      <td>15231.587087</td>\n",
              "      <td>15231.587087</td>\n",
              "      <td>15231.587087</td>\n",
              "      <td>0.000000</td>\n",
              "      <td>0.000000</td>\n",
              "      <td>0.000000</td>\n",
              "    </tr>\n",
              "    <tr>\n",
              "      <th>3</th>\n",
              "      <td>2012-01-22</td>\n",
              "      <td>6.332981</td>\n",
              "      <td>6.335673</td>\n",
              "      <td>6.329327</td>\n",
              "      <td>6.332019</td>\n",
              "      <td>7.036892</td>\n",
              "      <td>44.270967</td>\n",
              "      <td>6.332164</td>\n",
              "      <td>5.822627</td>\n",
              "      <td>5.822627</td>\n",
              "      <td>...</td>\n",
              "      <td>7452.721585</td>\n",
              "      <td>6429.384744</td>\n",
              "      <td>6429.384744</td>\n",
              "      <td>6429.384744</td>\n",
              "      <td>10163.960578</td>\n",
              "      <td>10163.960578</td>\n",
              "      <td>10163.960578</td>\n",
              "      <td>8777.386587</td>\n",
              "      <td>8777.386587</td>\n",
              "      <td>8777.386587</td>\n",
              "    </tr>\n",
              "    <tr>\n",
              "      <th>4</th>\n",
              "      <td>2012-01-29</td>\n",
              "      <td>6.124828</td>\n",
              "      <td>6.126207</td>\n",
              "      <td>6.124052</td>\n",
              "      <td>6.125431</td>\n",
              "      <td>3.389604</td>\n",
              "      <td>20.956109</td>\n",
              "      <td>6.125839</td>\n",
              "      <td>6.396478</td>\n",
              "      <td>5.950216</td>\n",
              "      <td>...</td>\n",
              "      <td>5597.180385</td>\n",
              "      <td>6428.850985</td>\n",
              "      <td>6428.850963</td>\n",
              "      <td>6428.850963</td>\n",
              "      <td>5096.950477</td>\n",
              "      <td>7630.609629</td>\n",
              "      <td>7630.609629</td>\n",
              "      <td>8776.852811</td>\n",
              "      <td>8776.852795</td>\n",
              "      <td>8776.852795</td>\n",
              "    </tr>\n",
              "    <tr>\n",
              "      <th>...</th>\n",
              "      <td>...</td>\n",
              "      <td>...</td>\n",
              "      <td>...</td>\n",
              "      <td>...</td>\n",
              "      <td>...</td>\n",
              "      <td>...</td>\n",
              "      <td>...</td>\n",
              "      <td>...</td>\n",
              "      <td>...</td>\n",
              "      <td>...</td>\n",
              "      <td>...</td>\n",
              "      <td>...</td>\n",
              "      <td>...</td>\n",
              "      <td>...</td>\n",
              "      <td>...</td>\n",
              "      <td>...</td>\n",
              "      <td>...</td>\n",
              "      <td>...</td>\n",
              "      <td>...</td>\n",
              "      <td>...</td>\n",
              "      <td>...</td>\n",
              "    </tr>\n",
              "    <tr>\n",
              "      <th>413</th>\n",
              "      <td>2019-12-01</td>\n",
              "      <td>7355.340641</td>\n",
              "      <td>7360.972397</td>\n",
              "      <td>7349.737461</td>\n",
              "      <td>7355.226190</td>\n",
              "      <td>6.692576</td>\n",
              "      <td>48613.539479</td>\n",
              "      <td>7355.472402</td>\n",
              "      <td>8502.049529</td>\n",
              "      <td>8499.792145</td>\n",
              "      <td>...</td>\n",
              "      <td>25968.944157</td>\n",
              "      <td>407.597784</td>\n",
              "      <td>4104.983658</td>\n",
              "      <td>9475.923384</td>\n",
              "      <td>32133.601312</td>\n",
              "      <td>32556.691237</td>\n",
              "      <td>29645.746329</td>\n",
              "      <td>39.497489</td>\n",
              "      <td>677.566592</td>\n",
              "      <td>8089.776511</td>\n",
              "    </tr>\n",
              "    <tr>\n",
              "      <th>414</th>\n",
              "      <td>2019-12-08</td>\n",
              "      <td>7379.551985</td>\n",
              "      <td>7383.959005</td>\n",
              "      <td>7375.480366</td>\n",
              "      <td>7379.547668</td>\n",
              "      <td>2.737669</td>\n",
              "      <td>20192.900208</td>\n",
              "      <td>7380.120877</td>\n",
              "      <td>7910.135600</td>\n",
              "      <td>8362.134842</td>\n",
              "      <td>...</td>\n",
              "      <td>26208.592063</td>\n",
              "      <td>459.159812</td>\n",
              "      <td>3598.242000</td>\n",
              "      <td>9294.609829</td>\n",
              "      <td>32093.663641</td>\n",
              "      <td>32292.175006</td>\n",
              "      <td>30258.323409</td>\n",
              "      <td>108.090949</td>\n",
              "      <td>410.654553</td>\n",
              "      <td>7507.021334</td>\n",
              "    </tr>\n",
              "    <tr>\n",
              "      <th>415</th>\n",
              "      <td>2019-12-15</td>\n",
              "      <td>7232.351484</td>\n",
              "      <td>7235.530138</td>\n",
              "      <td>7228.947472</td>\n",
              "      <td>7232.250254</td>\n",
              "      <td>2.563430</td>\n",
              "      <td>18620.481650</td>\n",
              "      <td>7232.664836</td>\n",
              "      <td>7491.278300</td>\n",
              "      <td>8261.090989</td>\n",
              "      <td>...</td>\n",
              "      <td>26471.281683</td>\n",
              "      <td>36.287659</td>\n",
              "      <td>2654.759743</td>\n",
              "      <td>9071.686306</td>\n",
              "      <td>31837.153608</td>\n",
              "      <td>32042.374327</td>\n",
              "      <td>30854.038341</td>\n",
              "      <td>393.335426</td>\n",
              "      <td>330.602188</td>\n",
              "      <td>6809.959618</td>\n",
              "    </tr>\n",
              "    <tr>\n",
              "      <th>416</th>\n",
              "      <td>2019-12-22</td>\n",
              "      <td>7037.059651</td>\n",
              "      <td>7041.362522</td>\n",
              "      <td>7033.078004</td>\n",
              "      <td>7037.068874</td>\n",
              "      <td>4.063312</td>\n",
              "      <td>28313.958170</td>\n",
              "      <td>7037.438063</td>\n",
              "      <td>7322.414703</td>\n",
              "      <td>8105.839297</td>\n",
              "      <td>...</td>\n",
              "      <td>26686.735336</td>\n",
              "      <td>824.530928</td>\n",
              "      <td>731.427431</td>\n",
              "      <td>8933.019590</td>\n",
              "      <td>31881.986590</td>\n",
              "      <td>32012.241334</td>\n",
              "      <td>31428.620439</td>\n",
              "      <td>449.975027</td>\n",
              "      <td>289.790394</td>\n",
              "      <td>6122.552032</td>\n",
              "    </tr>\n",
              "    <tr>\n",
              "      <th>417</th>\n",
              "      <td>2019-12-29</td>\n",
              "      <td>7295.606306</td>\n",
              "      <td>7299.060268</td>\n",
              "      <td>7292.198742</td>\n",
              "      <td>7295.650094</td>\n",
              "      <td>2.414207</td>\n",
              "      <td>17702.241206</td>\n",
              "      <td>7296.025185</td>\n",
              "      <td>7216.321040</td>\n",
              "      <td>7787.207479</td>\n",
              "      <td>...</td>\n",
              "      <td>26215.723874</td>\n",
              "      <td>5856.891435</td>\n",
              "      <td>3742.220903</td>\n",
              "      <td>9253.059929</td>\n",
              "      <td>31970.960778</td>\n",
              "      <td>32040.416747</td>\n",
              "      <td>31836.798415</td>\n",
              "      <td>499.513999</td>\n",
              "      <td>302.141929</td>\n",
              "      <td>5729.277741</td>\n",
              "    </tr>\n",
              "  </tbody>\n",
              "</table>\n",
              "<p>418 rows × 84 columns</p>\n",
              "</div>\n",
              "      <button class=\"colab-df-convert\" onclick=\"convertToInteractive('df-4f0fb663-18d3-456e-80c4-1a579454795d')\"\n",
              "              title=\"Convert this dataframe to an interactive table.\"\n",
              "              style=\"display:none;\">\n",
              "        \n",
              "  <svg xmlns=\"http://www.w3.org/2000/svg\" height=\"24px\"viewBox=\"0 0 24 24\"\n",
              "       width=\"24px\">\n",
              "    <path d=\"M0 0h24v24H0V0z\" fill=\"none\"/>\n",
              "    <path d=\"M18.56 5.44l.94 2.06.94-2.06 2.06-.94-2.06-.94-.94-2.06-.94 2.06-2.06.94zm-11 1L8.5 8.5l.94-2.06 2.06-.94-2.06-.94L8.5 2.5l-.94 2.06-2.06.94zm10 10l.94 2.06.94-2.06 2.06-.94-2.06-.94-.94-2.06-.94 2.06-2.06.94z\"/><path d=\"M17.41 7.96l-1.37-1.37c-.4-.4-.92-.59-1.43-.59-.52 0-1.04.2-1.43.59L10.3 9.45l-7.72 7.72c-.78.78-.78 2.05 0 2.83L4 21.41c.39.39.9.59 1.41.59.51 0 1.02-.2 1.41-.59l7.78-7.78 2.81-2.81c.8-.78.8-2.07 0-2.86zM5.41 20L4 18.59l7.72-7.72 1.47 1.35L5.41 20z\"/>\n",
              "  </svg>\n",
              "      </button>\n",
              "      \n",
              "  <style>\n",
              "    .colab-df-container {\n",
              "      display:flex;\n",
              "      flex-wrap:wrap;\n",
              "      gap: 12px;\n",
              "    }\n",
              "\n",
              "    .colab-df-convert {\n",
              "      background-color: #E8F0FE;\n",
              "      border: none;\n",
              "      border-radius: 50%;\n",
              "      cursor: pointer;\n",
              "      display: none;\n",
              "      fill: #1967D2;\n",
              "      height: 32px;\n",
              "      padding: 0 0 0 0;\n",
              "      width: 32px;\n",
              "    }\n",
              "\n",
              "    .colab-df-convert:hover {\n",
              "      background-color: #E2EBFA;\n",
              "      box-shadow: 0px 1px 2px rgba(60, 64, 67, 0.3), 0px 1px 3px 1px rgba(60, 64, 67, 0.15);\n",
              "      fill: #174EA6;\n",
              "    }\n",
              "\n",
              "    [theme=dark] .colab-df-convert {\n",
              "      background-color: #3B4455;\n",
              "      fill: #D2E3FC;\n",
              "    }\n",
              "\n",
              "    [theme=dark] .colab-df-convert:hover {\n",
              "      background-color: #434B5C;\n",
              "      box-shadow: 0px 1px 3px 1px rgba(0, 0, 0, 0.15);\n",
              "      filter: drop-shadow(0px 1px 2px rgba(0, 0, 0, 0.3));\n",
              "      fill: #FFFFFF;\n",
              "    }\n",
              "  </style>\n",
              "\n",
              "      <script>\n",
              "        const buttonEl =\n",
              "          document.querySelector('#df-4f0fb663-18d3-456e-80c4-1a579454795d button.colab-df-convert');\n",
              "        buttonEl.style.display =\n",
              "          google.colab.kernel.accessAllowed ? 'block' : 'none';\n",
              "\n",
              "        async function convertToInteractive(key) {\n",
              "          const element = document.querySelector('#df-4f0fb663-18d3-456e-80c4-1a579454795d');\n",
              "          const dataTable =\n",
              "            await google.colab.kernel.invokeFunction('convertToInteractive',\n",
              "                                                     [key], {});\n",
              "          if (!dataTable) return;\n",
              "\n",
              "          const docLinkHtml = 'Like what you see? Visit the ' +\n",
              "            '<a target=\"_blank\" href=https://colab.research.google.com/notebooks/data_table.ipynb>data table notebook</a>'\n",
              "            + ' to learn more about interactive tables.';\n",
              "          element.innerHTML = '';\n",
              "          dataTable['output_type'] = 'display_data';\n",
              "          await google.colab.output.renderOutput(dataTable, element);\n",
              "          const docLink = document.createElement('div');\n",
              "          docLink.innerHTML = docLinkHtml;\n",
              "          element.appendChild(docLink);\n",
              "        }\n",
              "      </script>\n",
              "    </div>\n",
              "  </div>\n",
              "  "
            ]
          },
          "metadata": {},
          "execution_count": 23
        }
      ],
      "source": [
        "df_train"
      ]
    },
    {
      "cell_type": "code",
      "execution_count": 24,
      "metadata": {
        "colab": {
          "base_uri": "https://localhost:8080/",
          "height": 543
        },
        "id": "vGXrPjouJYne",
        "outputId": "dd61f274-e9ac-4aa5-bf26-290ec6b48284"
      },
      "outputs": [
        {
          "output_type": "stream",
          "name": "stderr",
          "text": [
            "DEBUG:cmdstanpy:input tempfile: /tmp/tmp43ug163o/lp89dirq.json\n",
            "DEBUG:cmdstanpy:input tempfile: /tmp/tmp43ug163o/ly56oezd.json\n",
            "DEBUG:cmdstanpy:idx 0\n",
            "DEBUG:cmdstanpy:running CmdStan, num_threads: None\n",
            "DEBUG:cmdstanpy:CmdStan args: ['/usr/local/lib/python3.8/dist-packages/prophet/stan_model/prophet_model.bin', 'random', 'seed=24389', 'data', 'file=/tmp/tmp43ug163o/lp89dirq.json', 'init=/tmp/tmp43ug163o/ly56oezd.json', 'output', 'file=/tmp/tmp43ug163o/prophet_modelad8yoi_9/prophet_model-20221226081049.csv', 'method=optimize', 'algorithm=lbfgs', 'iter=10000']\n",
            "08:10:49 - cmdstanpy - INFO - Chain [1] start processing\n",
            "INFO:cmdstanpy:Chain [1] start processing\n",
            "08:10:50 - cmdstanpy - INFO - Chain [1] done processing\n",
            "INFO:cmdstanpy:Chain [1] done processing\n"
          ]
        },
        {
          "output_type": "execute_result",
          "data": {
            "text/plain": [
              "          ds        trend   yhat_lower   yhat_upper  trend_lower  trend_upper  \\\n",
              "0 2020-01-05  4249.963875  5897.449702  7610.188051  4249.943560  4250.098071   \n",
              "1 2020-01-12  4273.376403  5350.672146  7170.209370  4272.644116  4273.970323   \n",
              "2 2020-01-19  4296.788931  6458.005582  8156.186345  4294.984064  4298.419137   \n",
              "3 2020-01-26  4320.201458  7080.304850  8821.717608  4317.078058  4322.939638   \n",
              "4 2020-02-02  4343.613986  6955.322256  8637.493601  4338.594070  4347.513582   \n",
              "\n",
              "   Close_mean_lag3  Close_mean_lag3_lower  Close_mean_lag3_upper  \\\n",
              "0      2423.801976            2423.801976            2423.801976   \n",
              "1      2426.391434            2426.391434            2426.391434   \n",
              "2      2585.653593            2585.653593            2585.653593   \n",
              "3      2823.094835            2823.094835            2823.094835   \n",
              "4      3040.315858            3040.315858            3040.315858   \n",
              "\n",
              "   Close_mean_lag30  ...      weekly  weekly_lower  weekly_upper      yearly  \\\n",
              "0      -1014.453200  ...  106.789959    106.789959    106.789959 -129.501329   \n",
              "1      -1011.101320  ...  106.789959    106.789959    106.789959 -209.768074   \n",
              "2      -1009.446892  ...  106.789959    106.789959    106.789959 -211.660334   \n",
              "3      -1004.281536  ...  106.789959    106.789959    106.789959 -253.208427   \n",
              "4       -988.991467  ...  106.789959    106.789959    106.789959 -346.902518   \n",
              "\n",
              "   yearly_lower  yearly_upper  multiplicative_terms  \\\n",
              "0   -129.501329   -129.501329                   0.0   \n",
              "1   -209.768074   -209.768074                   0.0   \n",
              "2   -211.660334   -211.660334                   0.0   \n",
              "3   -253.208427   -253.208427                   0.0   \n",
              "4   -346.902518   -346.902518                   0.0   \n",
              "\n",
              "   multiplicative_terms_lower  multiplicative_terms_upper         yhat  \n",
              "0                         0.0                         0.0  6744.263805  \n",
              "1                         0.0                         0.0  6256.280577  \n",
              "2                         0.0                         0.0  7294.920821  \n",
              "3                         0.0                         0.0  8004.148991  \n",
              "4                         0.0                         0.0  7803.073185  \n",
              "\n",
              "[5 rows x 145 columns]"
            ],
            "text/html": [
              "\n",
              "  <div id=\"df-e0c40225-abf2-499f-a056-d25e3b23b00f\">\n",
              "    <div class=\"colab-df-container\">\n",
              "      <div>\n",
              "<style scoped>\n",
              "    .dataframe tbody tr th:only-of-type {\n",
              "        vertical-align: middle;\n",
              "    }\n",
              "\n",
              "    .dataframe tbody tr th {\n",
              "        vertical-align: top;\n",
              "    }\n",
              "\n",
              "    .dataframe thead th {\n",
              "        text-align: right;\n",
              "    }\n",
              "</style>\n",
              "<table border=\"1\" class=\"dataframe\">\n",
              "  <thead>\n",
              "    <tr style=\"text-align: right;\">\n",
              "      <th></th>\n",
              "      <th>ds</th>\n",
              "      <th>trend</th>\n",
              "      <th>yhat_lower</th>\n",
              "      <th>yhat_upper</th>\n",
              "      <th>trend_lower</th>\n",
              "      <th>trend_upper</th>\n",
              "      <th>Close_mean_lag3</th>\n",
              "      <th>Close_mean_lag3_lower</th>\n",
              "      <th>Close_mean_lag3_upper</th>\n",
              "      <th>Close_mean_lag30</th>\n",
              "      <th>...</th>\n",
              "      <th>weekly</th>\n",
              "      <th>weekly_lower</th>\n",
              "      <th>weekly_upper</th>\n",
              "      <th>yearly</th>\n",
              "      <th>yearly_lower</th>\n",
              "      <th>yearly_upper</th>\n",
              "      <th>multiplicative_terms</th>\n",
              "      <th>multiplicative_terms_lower</th>\n",
              "      <th>multiplicative_terms_upper</th>\n",
              "      <th>yhat</th>\n",
              "    </tr>\n",
              "  </thead>\n",
              "  <tbody>\n",
              "    <tr>\n",
              "      <th>0</th>\n",
              "      <td>2020-01-05</td>\n",
              "      <td>4249.963875</td>\n",
              "      <td>5897.449702</td>\n",
              "      <td>7610.188051</td>\n",
              "      <td>4249.943560</td>\n",
              "      <td>4250.098071</td>\n",
              "      <td>2423.801976</td>\n",
              "      <td>2423.801976</td>\n",
              "      <td>2423.801976</td>\n",
              "      <td>-1014.453200</td>\n",
              "      <td>...</td>\n",
              "      <td>106.789959</td>\n",
              "      <td>106.789959</td>\n",
              "      <td>106.789959</td>\n",
              "      <td>-129.501329</td>\n",
              "      <td>-129.501329</td>\n",
              "      <td>-129.501329</td>\n",
              "      <td>0.0</td>\n",
              "      <td>0.0</td>\n",
              "      <td>0.0</td>\n",
              "      <td>6744.263805</td>\n",
              "    </tr>\n",
              "    <tr>\n",
              "      <th>1</th>\n",
              "      <td>2020-01-12</td>\n",
              "      <td>4273.376403</td>\n",
              "      <td>5350.672146</td>\n",
              "      <td>7170.209370</td>\n",
              "      <td>4272.644116</td>\n",
              "      <td>4273.970323</td>\n",
              "      <td>2426.391434</td>\n",
              "      <td>2426.391434</td>\n",
              "      <td>2426.391434</td>\n",
              "      <td>-1011.101320</td>\n",
              "      <td>...</td>\n",
              "      <td>106.789959</td>\n",
              "      <td>106.789959</td>\n",
              "      <td>106.789959</td>\n",
              "      <td>-209.768074</td>\n",
              "      <td>-209.768074</td>\n",
              "      <td>-209.768074</td>\n",
              "      <td>0.0</td>\n",
              "      <td>0.0</td>\n",
              "      <td>0.0</td>\n",
              "      <td>6256.280577</td>\n",
              "    </tr>\n",
              "    <tr>\n",
              "      <th>2</th>\n",
              "      <td>2020-01-19</td>\n",
              "      <td>4296.788931</td>\n",
              "      <td>6458.005582</td>\n",
              "      <td>8156.186345</td>\n",
              "      <td>4294.984064</td>\n",
              "      <td>4298.419137</td>\n",
              "      <td>2585.653593</td>\n",
              "      <td>2585.653593</td>\n",
              "      <td>2585.653593</td>\n",
              "      <td>-1009.446892</td>\n",
              "      <td>...</td>\n",
              "      <td>106.789959</td>\n",
              "      <td>106.789959</td>\n",
              "      <td>106.789959</td>\n",
              "      <td>-211.660334</td>\n",
              "      <td>-211.660334</td>\n",
              "      <td>-211.660334</td>\n",
              "      <td>0.0</td>\n",
              "      <td>0.0</td>\n",
              "      <td>0.0</td>\n",
              "      <td>7294.920821</td>\n",
              "    </tr>\n",
              "    <tr>\n",
              "      <th>3</th>\n",
              "      <td>2020-01-26</td>\n",
              "      <td>4320.201458</td>\n",
              "      <td>7080.304850</td>\n",
              "      <td>8821.717608</td>\n",
              "      <td>4317.078058</td>\n",
              "      <td>4322.939638</td>\n",
              "      <td>2823.094835</td>\n",
              "      <td>2823.094835</td>\n",
              "      <td>2823.094835</td>\n",
              "      <td>-1004.281536</td>\n",
              "      <td>...</td>\n",
              "      <td>106.789959</td>\n",
              "      <td>106.789959</td>\n",
              "      <td>106.789959</td>\n",
              "      <td>-253.208427</td>\n",
              "      <td>-253.208427</td>\n",
              "      <td>-253.208427</td>\n",
              "      <td>0.0</td>\n",
              "      <td>0.0</td>\n",
              "      <td>0.0</td>\n",
              "      <td>8004.148991</td>\n",
              "    </tr>\n",
              "    <tr>\n",
              "      <th>4</th>\n",
              "      <td>2020-02-02</td>\n",
              "      <td>4343.613986</td>\n",
              "      <td>6955.322256</td>\n",
              "      <td>8637.493601</td>\n",
              "      <td>4338.594070</td>\n",
              "      <td>4347.513582</td>\n",
              "      <td>3040.315858</td>\n",
              "      <td>3040.315858</td>\n",
              "      <td>3040.315858</td>\n",
              "      <td>-988.991467</td>\n",
              "      <td>...</td>\n",
              "      <td>106.789959</td>\n",
              "      <td>106.789959</td>\n",
              "      <td>106.789959</td>\n",
              "      <td>-346.902518</td>\n",
              "      <td>-346.902518</td>\n",
              "      <td>-346.902518</td>\n",
              "      <td>0.0</td>\n",
              "      <td>0.0</td>\n",
              "      <td>0.0</td>\n",
              "      <td>7803.073185</td>\n",
              "    </tr>\n",
              "  </tbody>\n",
              "</table>\n",
              "<p>5 rows × 145 columns</p>\n",
              "</div>\n",
              "      <button class=\"colab-df-convert\" onclick=\"convertToInteractive('df-e0c40225-abf2-499f-a056-d25e3b23b00f')\"\n",
              "              title=\"Convert this dataframe to an interactive table.\"\n",
              "              style=\"display:none;\">\n",
              "        \n",
              "  <svg xmlns=\"http://www.w3.org/2000/svg\" height=\"24px\"viewBox=\"0 0 24 24\"\n",
              "       width=\"24px\">\n",
              "    <path d=\"M0 0h24v24H0V0z\" fill=\"none\"/>\n",
              "    <path d=\"M18.56 5.44l.94 2.06.94-2.06 2.06-.94-2.06-.94-.94-2.06-.94 2.06-2.06.94zm-11 1L8.5 8.5l.94-2.06 2.06-.94-2.06-.94L8.5 2.5l-.94 2.06-2.06.94zm10 10l.94 2.06.94-2.06 2.06-.94-2.06-.94-.94-2.06-.94 2.06-2.06.94z\"/><path d=\"M17.41 7.96l-1.37-1.37c-.4-.4-.92-.59-1.43-.59-.52 0-1.04.2-1.43.59L10.3 9.45l-7.72 7.72c-.78.78-.78 2.05 0 2.83L4 21.41c.39.39.9.59 1.41.59.51 0 1.02-.2 1.41-.59l7.78-7.78 2.81-2.81c.8-.78.8-2.07 0-2.86zM5.41 20L4 18.59l7.72-7.72 1.47 1.35L5.41 20z\"/>\n",
              "  </svg>\n",
              "      </button>\n",
              "      \n",
              "  <style>\n",
              "    .colab-df-container {\n",
              "      display:flex;\n",
              "      flex-wrap:wrap;\n",
              "      gap: 12px;\n",
              "    }\n",
              "\n",
              "    .colab-df-convert {\n",
              "      background-color: #E8F0FE;\n",
              "      border: none;\n",
              "      border-radius: 50%;\n",
              "      cursor: pointer;\n",
              "      display: none;\n",
              "      fill: #1967D2;\n",
              "      height: 32px;\n",
              "      padding: 0 0 0 0;\n",
              "      width: 32px;\n",
              "    }\n",
              "\n",
              "    .colab-df-convert:hover {\n",
              "      background-color: #E2EBFA;\n",
              "      box-shadow: 0px 1px 2px rgba(60, 64, 67, 0.3), 0px 1px 3px 1px rgba(60, 64, 67, 0.15);\n",
              "      fill: #174EA6;\n",
              "    }\n",
              "\n",
              "    [theme=dark] .colab-df-convert {\n",
              "      background-color: #3B4455;\n",
              "      fill: #D2E3FC;\n",
              "    }\n",
              "\n",
              "    [theme=dark] .colab-df-convert:hover {\n",
              "      background-color: #434B5C;\n",
              "      box-shadow: 0px 1px 3px 1px rgba(0, 0, 0, 0.15);\n",
              "      filter: drop-shadow(0px 1px 2px rgba(0, 0, 0, 0.3));\n",
              "      fill: #FFFFFF;\n",
              "    }\n",
              "  </style>\n",
              "\n",
              "      <script>\n",
              "        const buttonEl =\n",
              "          document.querySelector('#df-e0c40225-abf2-499f-a056-d25e3b23b00f button.colab-df-convert');\n",
              "        buttonEl.style.display =\n",
              "          google.colab.kernel.accessAllowed ? 'block' : 'none';\n",
              "\n",
              "        async function convertToInteractive(key) {\n",
              "          const element = document.querySelector('#df-e0c40225-abf2-499f-a056-d25e3b23b00f');\n",
              "          const dataTable =\n",
              "            await google.colab.kernel.invokeFunction('convertToInteractive',\n",
              "                                                     [key], {});\n",
              "          if (!dataTable) return;\n",
              "\n",
              "          const docLinkHtml = 'Like what you see? Visit the ' +\n",
              "            '<a target=\"_blank\" href=https://colab.research.google.com/notebooks/data_table.ipynb>data table notebook</a>'\n",
              "            + ' to learn more about interactive tables.';\n",
              "          element.innerHTML = '';\n",
              "          dataTable['output_type'] = 'display_data';\n",
              "          await google.colab.output.renderOutput(dataTable, element);\n",
              "          const docLink = document.createElement('div');\n",
              "          docLink.innerHTML = docLinkHtml;\n",
              "          element.appendChild(docLink);\n",
              "        }\n",
              "      </script>\n",
              "    </div>\n",
              "  </div>\n",
              "  "
            ]
          },
          "metadata": {},
          "execution_count": 24
        }
      ],
      "source": [
        "m2_fbp = Prophet(interval_width=0.95,weekly_seasonality=True,daily_seasonality=True,)\n",
        "for feature in exogenous_features:\n",
        "   m2_fbp.add_regressor(feature)\n",
        "\n",
        "m2_fbp.fit(df_train[[\"ds\", \"y\"] + exogenous_features])\n",
        "forecast2 = m2_fbp.predict(df_valid[[\"ds\", \"y\"] + exogenous_features])\n",
        "forecast2.head()"
      ]
    },
    {
      "cell_type": "markdown",
      "metadata": {
        "id": "mHM2D45VONnf"
      },
      "source": [
        "##visualize"
      ]
    },
    {
      "cell_type": "code",
      "execution_count": 25,
      "metadata": {
        "colab": {
          "base_uri": "https://localhost:8080/"
        },
        "id": "Gozd35exTDqG",
        "outputId": "cbe1c09b-0a5e-41ae-8e97-1ee15ebb24b0"
      },
      "outputs": [
        {
          "output_type": "execute_result",
          "data": {
            "text/plain": [
              "0      6744.263805\n",
              "1      6256.280577\n",
              "2      7294.920821\n",
              "3      8004.148991\n",
              "4      7803.073185\n",
              "          ...     \n",
              "61    49323.292467\n",
              "62    49625.068226\n",
              "63    50139.762412\n",
              "64    50730.593861\n",
              "65    45658.866882\n",
              "Name: yhat, Length: 66, dtype: float64"
            ]
          },
          "metadata": {},
          "execution_count": 25
        }
      ],
      "source": [
        "forecast2.loc[:,\"yhat\"] "
      ]
    },
    {
      "cell_type": "code",
      "execution_count": 26,
      "metadata": {
        "colab": {
          "base_uri": "https://localhost:8080/",
          "height": 565
        },
        "id": "xRtFuRPkPNYF",
        "outputId": "0ab0e256-f2cf-4b66-f0c2-e02369e4ceed"
      },
      "outputs": [
        {
          "output_type": "execute_result",
          "data": {
            "text/plain": [
              "[Text(0, 0.5, 'Weighted_Price'),\n",
              " Text(0.5, 0, 'Index'),\n",
              " Text(0.5, 1.0, 'Prophet_Bitcoin_begin at 2020')]"
            ]
          },
          "metadata": {},
          "execution_count": 26
        },
        {
          "output_type": "display_data",
          "data": {
            "text/plain": [
              "<Figure size 1152x576 with 1 Axes>"
            ],
            "image/png": "[encoded data removed]"
          },
          "metadata": {
            "needs_background": "light"
          }
        }
      ],
      "source": [
        "test_data2 = df_valid[['ds','y']]\n",
        "test_data2 = test_data2.copy()\n",
        "yhat = forecast2.loc[:,\"yhat\"].values\n",
        "test_data2.insert(2,column =\"yhat\" ,value = yhat)\n",
        "test_data2 = test_data2.reset_index(drop = True)\n",
        "\n",
        "plt.figure(figsize=(16, 8))\n",
        "ax2 = sns.lineplot(data = test_data2)\n",
        "ax2.set(xlabel = \"Index\", ylabel = \"Weighted_Price\",title ='Prophet_Bitcoin_begin at 2020')"
      ]
    },
    {
      "cell_type": "code",
      "execution_count": 27,
      "metadata": {
        "colab": {
          "base_uri": "https://localhost:8080/",
          "height": 496
        },
        "id": "6W6WTYfWRAwx",
        "outputId": "dd32b0ba-2b6b-4e2f-cca9-4a120ae4be41"
      },
      "outputs": [
        {
          "output_type": "execute_result",
          "data": {
            "text/plain": [
              "[Text(0, 0.5, 'Weighted_Price'),\n",
              " Text(0.5, 0, 'Date'),\n",
              " Text(0.5, 1.0, 'Prophet_Bitcoin after  we adding exogenous_features')]"
            ]
          },
          "metadata": {},
          "execution_count": 27
        },
        {
          "output_type": "display_data",
          "data": {
            "text/plain": [
              "<Figure size 800x480 with 1 Axes>"
            ],
            "image/png": "[encoded data removed]"
          },
          "metadata": {
            "needs_background": "light"
          }
        }
      ],
      "source": [
        "figure(figsize=(10, 6), dpi=80)\n",
        "ax2 = sns.lineplot(data = test_data2, x= 'ds',y ='y',label ='Weighted_Price')\n",
        "sns.lineplot(data = test_data2, x= 'ds',y ='yhat',color = 'r',label ='Prophet_Predictions')\n",
        "ax2.set(xlabel = \"Date\", ylabel = \"Weighted_Price\",title ='Prophet_Bitcoin after  we adding exogenous_features')"
      ]
    },
    {
      "cell_type": "code",
      "execution_count": 29,
      "metadata": {
        "colab": {
          "base_uri": "https://localhost:8080/"
        },
        "id": "13TmM1kLX77k",
        "outputId": "3bd76edf-47b2-473f-bd90-58372bc92021"
      },
      "outputs": [
        {
          "output_type": "stream",
          "name": "stdout",
          "text": [
            "Before:\n",
            " RMSE:16679.346682838932\n",
            " MSE:278200605.76633006\n",
            " Mean:18078.522318503947\n",
            "After:\n",
            " RMSE:4019.5652155076923\n",
            " MSE:16156904.521719402\n",
            " Mean:18078.522318503947\n",
            " \n",
            "Difference of RMSE:-0.759\n"
          ]
        }
      ],
      "source": [
        "from sklearn.metrics import mean_absolute_error\n",
        "\n",
        "prophet_rmse2 = rmse(test_data2['y'], test_data2[\"yhat\"])\n",
        "prophet_mse2 = prophet_rmse2**2\n",
        "mean_value2 = test_data2['y'].mean()\n",
        "diff = round(((prophet_rmse2-prophet_rmse)/prophet_rmse),3)\n",
        "print(\"Before:\\n\"f' RMSE:{prophet_rmse}\\n MSE:{prophet_mse}\\n Mean:{mean_value}\\n'\n",
        "    \"After:\\n\"f' RMSE:{prophet_rmse2}\\n MSE:{prophet_mse2}\\n Mean:{mean_value2}\\n','\\n'\n",
        "    \"Difference of RMSE:\"f'{diff}')"
      ]
    },
    {
      "cell_type": "code",
      "source": [],
      "metadata": {
        "id": "kEDb-dZxem7v"
      },
      "execution_count": 28,
      "outputs": []
    }
  ],
  "metadata": {
    "colab": {
      "provenance": [],
      "mount_file_id": "1iEoZ4R3uuyc9wrA-cjm_n30HpmcTPJWp",
      "authorship_tag": "ABX9TyP/FdK5GRsMVp4zDOWmOJij",
      "include_colab_link": true
    },
    "kernelspec": {
      "display_name": "Python 3",
      "name": "python3"
    },
    "language_info": {
      "name": "python"
    }
  },
  "nbformat": 4,
  "nbformat_minor": 0
}