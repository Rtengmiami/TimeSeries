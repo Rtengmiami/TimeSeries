{
  "nbformat": 4,
  "nbformat_minor": 0,
  "metadata": {
    "colab": {
      "provenance": [],
      "collapsed_sections": [
        "fkOtb_3zx0TM"
      ],
      "mount_file_id": "1hYnXYM_TEl5yE52cDrNwVS-oX4vOmjFF",
      "authorship_tag": "ABX9TyMAFAkLUO2cB48sEeNMEvTN",
      "include_colab_link": true
    },
    "kernelspec": {
      "name": "python3",
      "display_name": "Python 3"
    },
    "language_info": {
      "name": "python"
    }
  },
  "cells": [
    {
      "cell_type": "markdown",
      "metadata": {
        "id": "view-in-github",
        "colab_type": "text"
      },
      "source": [
        "<a href=\"https://colab.research.google.com/github/Rtengmiami/TimeSeries/blob/main/ARIMA_1_ipnb.ipynb\" target=\"_parent\"><img src=\"https://colab.research.google.com/assets/colab-badge.svg\" alt=\"Open In Colab\"/></a>"
      ]
    },
    {
      "cell_type": "code",
      "execution_count": 3,
      "metadata": {
        "id": "28E-wmDPwnG3"
      },
      "outputs": [],
      "source": [
        "import numpy as np\n",
        "import pandas as pd\n",
        "import datetime as dt\n",
        "import seaborn as sns \n",
        "import matplotlib.pyplot as plt\n",
        "from sklearn.metrics import mean_squared_error\n",
        "from math import sqrt\n",
        "from pandas.plotting import autocorrelation_plot"
      ]
    },
    {
      "cell_type": "code",
      "source": [
        "df = pd.read_csv(\"/content/drive/MyDrive/NTUST/111-1/資料探勘 mon/期末報告/bitcoin_data.csv\")\n",
        "df.head()"
      ],
      "metadata": {
        "colab": {
          "base_uri": "https://localhost:8080/",
          "height": 206
        },
        "id": "J4AuANOQwwfN",
        "outputId": "ec21d7b8-0fdb-4cb8-e862-92e76c41ef69"
      },
      "execution_count": 4,
      "outputs": [
        {
          "output_type": "execute_result",
          "data": {
            "text/plain": [
              "    Timestamp  Open  High   Low  Close  Volume_(BTC)  Volume_(Currency)  \\\n",
              "0  1325317920  4.39  4.39  4.39   4.39      0.455581                2.0   \n",
              "1  1325317980   NaN   NaN   NaN    NaN           NaN                NaN   \n",
              "2  1325318040   NaN   NaN   NaN    NaN           NaN                NaN   \n",
              "3  1325318100   NaN   NaN   NaN    NaN           NaN                NaN   \n",
              "4  1325318160   NaN   NaN   NaN    NaN           NaN                NaN   \n",
              "\n",
              "   Weighted_Price  \n",
              "0            4.39  \n",
              "1             NaN  \n",
              "2             NaN  \n",
              "3             NaN  \n",
              "4             NaN  "
            ],
            "text/html": [
              "\n",
              "  <div id=\"df-c9c47e3f-75e0-4b6e-b6a2-af5c3adfa34f\">\n",
              "    <div class=\"colab-df-container\">\n",
              "      <div>\n",
              "<style scoped>\n",
              "    .dataframe tbody tr th:only-of-type {\n",
              "        vertical-align: middle;\n",
              "    }\n",
              "\n",
              "    .dataframe tbody tr th {\n",
              "        vertical-align: top;\n",
              "    }\n",
              "\n",
              "    .dataframe thead th {\n",
              "        text-align: right;\n",
              "    }\n",
              "</style>\n",
              "<table border=\"1\" class=\"dataframe\">\n",
              "  <thead>\n",
              "    <tr style=\"text-align: right;\">\n",
              "      <th></th>\n",
              "      <th>Timestamp</th>\n",
              "      <th>Open</th>\n",
              "      <th>High</th>\n",
              "      <th>Low</th>\n",
              "      <th>Close</th>\n",
              "      <th>Volume_(BTC)</th>\n",
              "      <th>Volume_(Currency)</th>\n",
              "      <th>Weighted_Price</th>\n",
              "    </tr>\n",
              "  </thead>\n",
              "  <tbody>\n",
              "    <tr>\n",
              "      <th>0</th>\n",
              "      <td>1325317920</td>\n",
              "      <td>4.39</td>\n",
              "      <td>4.39</td>\n",
              "      <td>4.39</td>\n",
              "      <td>4.39</td>\n",
              "      <td>0.455581</td>\n",
              "      <td>2.0</td>\n",
              "      <td>4.39</td>\n",
              "    </tr>\n",
              "    <tr>\n",
              "      <th>1</th>\n",
              "      <td>1325317980</td>\n",
              "      <td>NaN</td>\n",
              "      <td>NaN</td>\n",
              "      <td>NaN</td>\n",
              "      <td>NaN</td>\n",
              "      <td>NaN</td>\n",
              "      <td>NaN</td>\n",
              "      <td>NaN</td>\n",
              "    </tr>\n",
              "    <tr>\n",
              "      <th>2</th>\n",
              "      <td>1325318040</td>\n",
              "      <td>NaN</td>\n",
              "      <td>NaN</td>\n",
              "      <td>NaN</td>\n",
              "      <td>NaN</td>\n",
              "      <td>NaN</td>\n",
              "      <td>NaN</td>\n",
              "      <td>NaN</td>\n",
              "    </tr>\n",
              "    <tr>\n",
              "      <th>3</th>\n",
              "      <td>1325318100</td>\n",
              "      <td>NaN</td>\n",
              "      <td>NaN</td>\n",
              "      <td>NaN</td>\n",
              "      <td>NaN</td>\n",
              "      <td>NaN</td>\n",
              "      <td>NaN</td>\n",
              "      <td>NaN</td>\n",
              "    </tr>\n",
              "    <tr>\n",
              "      <th>4</th>\n",
              "      <td>1325318160</td>\n",
              "      <td>NaN</td>\n",
              "      <td>NaN</td>\n",
              "      <td>NaN</td>\n",
              "      <td>NaN</td>\n",
              "      <td>NaN</td>\n",
              "      <td>NaN</td>\n",
              "      <td>NaN</td>\n",
              "    </tr>\n",
              "  </tbody>\n",
              "</table>\n",
              "</div>\n",
              "      <button class=\"colab-df-convert\" onclick=\"convertToInteractive('df-c9c47e3f-75e0-4b6e-b6a2-af5c3adfa34f')\"\n",
              "              title=\"Convert this dataframe to an interactive table.\"\n",
              "              style=\"display:none;\">\n",
              "        \n",
              "  <svg xmlns=\"http://www.w3.org/2000/svg\" height=\"24px\"viewBox=\"0 0 24 24\"\n",
              "       width=\"24px\">\n",
              "    <path d=\"M0 0h24v24H0V0z\" fill=\"none\"/>\n",
              "    <path d=\"M18.56 5.44l.94 2.06.94-2.06 2.06-.94-2.06-.94-.94-2.06-.94 2.06-2.06.94zm-11 1L8.5 8.5l.94-2.06 2.06-.94-2.06-.94L8.5 2.5l-.94 2.06-2.06.94zm10 10l.94 2.06.94-2.06 2.06-.94-2.06-.94-.94-2.06-.94 2.06-2.06.94z\"/><path d=\"M17.41 7.96l-1.37-1.37c-.4-.4-.92-.59-1.43-.59-.52 0-1.04.2-1.43.59L10.3 9.45l-7.72 7.72c-.78.78-.78 2.05 0 2.83L4 21.41c.39.39.9.59 1.41.59.51 0 1.02-.2 1.41-.59l7.78-7.78 2.81-2.81c.8-.78.8-2.07 0-2.86zM5.41 20L4 18.59l7.72-7.72 1.47 1.35L5.41 20z\"/>\n",
              "  </svg>\n",
              "      </button>\n",
              "      \n",
              "  <style>\n",
              "    .colab-df-container {\n",
              "      display:flex;\n",
              "      flex-wrap:wrap;\n",
              "      gap: 12px;\n",
              "    }\n",
              "\n",
              "    .colab-df-convert {\n",
              "      background-color: #E8F0FE;\n",
              "      border: none;\n",
              "      border-radius: 50%;\n",
              "      cursor: pointer;\n",
              "      display: none;\n",
              "      fill: #1967D2;\n",
              "      height: 32px;\n",
              "      padding: 0 0 0 0;\n",
              "      width: 32px;\n",
              "    }\n",
              "\n",
              "    .colab-df-convert:hover {\n",
              "      background-color: #E2EBFA;\n",
              "      box-shadow: 0px 1px 2px rgba(60, 64, 67, 0.3), 0px 1px 3px 1px rgba(60, 64, 67, 0.15);\n",
              "      fill: #174EA6;\n",
              "    }\n",
              "\n",
              "    [theme=dark] .colab-df-convert {\n",
              "      background-color: #3B4455;\n",
              "      fill: #D2E3FC;\n",
              "    }\n",
              "\n",
              "    [theme=dark] .colab-df-convert:hover {\n",
              "      background-color: #434B5C;\n",
              "      box-shadow: 0px 1px 3px 1px rgba(0, 0, 0, 0.15);\n",
              "      filter: drop-shadow(0px 1px 2px rgba(0, 0, 0, 0.3));\n",
              "      fill: #FFFFFF;\n",
              "    }\n",
              "  </style>\n",
              "\n",
              "      <script>\n",
              "        const buttonEl =\n",
              "          document.querySelector('#df-c9c47e3f-75e0-4b6e-b6a2-af5c3adfa34f button.colab-df-convert');\n",
              "        buttonEl.style.display =\n",
              "          google.colab.kernel.accessAllowed ? 'block' : 'none';\n",
              "\n",
              "        async function convertToInteractive(key) {\n",
              "          const element = document.querySelector('#df-c9c47e3f-75e0-4b6e-b6a2-af5c3adfa34f');\n",
              "          const dataTable =\n",
              "            await google.colab.kernel.invokeFunction('convertToInteractive',\n",
              "                                                     [key], {});\n",
              "          if (!dataTable) return;\n",
              "\n",
              "          const docLinkHtml = 'Like what you see? Visit the ' +\n",
              "            '<a target=\"_blank\" href=https://colab.research.google.com/notebooks/data_table.ipynb>data table notebook</a>'\n",
              "            + ' to learn more about interactive tables.';\n",
              "          element.innerHTML = '';\n",
              "          dataTable['output_type'] = 'display_data';\n",
              "          await google.colab.output.renderOutput(dataTable, element);\n",
              "          const docLink = document.createElement('div');\n",
              "          docLink.innerHTML = docLinkHtml;\n",
              "          element.appendChild(docLink);\n",
              "        }\n",
              "      </script>\n",
              "    </div>\n",
              "  </div>\n",
              "  "
            ]
          },
          "metadata": {},
          "execution_count": 4
        }
      ]
    },
    {
      "cell_type": "code",
      "source": [
        "df.Timestamp = pd.to_datetime(df.Timestamp , unit = \"s\")\n",
        "df.index = df.Timestamp\n",
        "df= df.resample(\"W\").mean()\n",
        "df.head()"
      ],
      "metadata": {
        "colab": {
          "base_uri": "https://localhost:8080/",
          "height": 238
        },
        "id": "PHnv3r-iw44F",
        "outputId": "133b73cf-3bfa-4f9f-dfe1-536d576a20ea"
      },
      "execution_count": 5,
      "outputs": [
        {
          "output_type": "execute_result",
          "data": {
            "text/plain": [
              "                Open      High       Low     Close  Volume_(BTC)  \\\n",
              "Timestamp                                                          \n",
              "2012-01-01  4.611429  4.621429  4.611429  4.621429     16.702840   \n",
              "2012-01-08  6.009286  6.017321  6.009286  6.017321      6.219625   \n",
              "2012-01-15  6.847168  6.850636  6.840867  6.845145      2.308239   \n",
              "2012-01-22  6.332981  6.335673  6.329327  6.332019      7.036892   \n",
              "2012-01-29  6.124828  6.126207  6.124052  6.125431      3.389604   \n",
              "\n",
              "            Volume_(Currency)  Weighted_Price  \n",
              "Timestamp                                      \n",
              "2012-01-01          75.871357        4.615202  \n",
              "2012-01-08          35.272736        6.012609  \n",
              "2012-01-15          16.012406        6.846930  \n",
              "2012-01-22          44.270967        6.332164  \n",
              "2012-01-29          20.956109        6.125839  "
            ],
            "text/html": [
              "\n",
              "  <div id=\"df-322626f5-161f-4325-ba55-f7501958a4d5\">\n",
              "    <div class=\"colab-df-container\">\n",
              "      <div>\n",
              "<style scoped>\n",
              "    .dataframe tbody tr th:only-of-type {\n",
              "        vertical-align: middle;\n",
              "    }\n",
              "\n",
              "    .dataframe tbody tr th {\n",
              "        vertical-align: top;\n",
              "    }\n",
              "\n",
              "    .dataframe thead th {\n",
              "        text-align: right;\n",
              "    }\n",
              "</style>\n",
              "<table border=\"1\" class=\"dataframe\">\n",
              "  <thead>\n",
              "    <tr style=\"text-align: right;\">\n",
              "      <th></th>\n",
              "      <th>Open</th>\n",
              "      <th>High</th>\n",
              "      <th>Low</th>\n",
              "      <th>Close</th>\n",
              "      <th>Volume_(BTC)</th>\n",
              "      <th>Volume_(Currency)</th>\n",
              "      <th>Weighted_Price</th>\n",
              "    </tr>\n",
              "    <tr>\n",
              "      <th>Timestamp</th>\n",
              "      <th></th>\n",
              "      <th></th>\n",
              "      <th></th>\n",
              "      <th></th>\n",
              "      <th></th>\n",
              "      <th></th>\n",
              "      <th></th>\n",
              "    </tr>\n",
              "  </thead>\n",
              "  <tbody>\n",
              "    <tr>\n",
              "      <th>2012-01-01</th>\n",
              "      <td>4.611429</td>\n",
              "      <td>4.621429</td>\n",
              "      <td>4.611429</td>\n",
              "      <td>4.621429</td>\n",
              "      <td>16.702840</td>\n",
              "      <td>75.871357</td>\n",
              "      <td>4.615202</td>\n",
              "    </tr>\n",
              "    <tr>\n",
              "      <th>2012-01-08</th>\n",
              "      <td>6.009286</td>\n",
              "      <td>6.017321</td>\n",
              "      <td>6.009286</td>\n",
              "      <td>6.017321</td>\n",
              "      <td>6.219625</td>\n",
              "      <td>35.272736</td>\n",
              "      <td>6.012609</td>\n",
              "    </tr>\n",
              "    <tr>\n",
              "      <th>2012-01-15</th>\n",
              "      <td>6.847168</td>\n",
              "      <td>6.850636</td>\n",
              "      <td>6.840867</td>\n",
              "      <td>6.845145</td>\n",
              "      <td>2.308239</td>\n",
              "      <td>16.012406</td>\n",
              "      <td>6.846930</td>\n",
              "    </tr>\n",
              "    <tr>\n",
              "      <th>2012-01-22</th>\n",
              "      <td>6.332981</td>\n",
              "      <td>6.335673</td>\n",
              "      <td>6.329327</td>\n",
              "      <td>6.332019</td>\n",
              "      <td>7.036892</td>\n",
              "      <td>44.270967</td>\n",
              "      <td>6.332164</td>\n",
              "    </tr>\n",
              "    <tr>\n",
              "      <th>2012-01-29</th>\n",
              "      <td>6.124828</td>\n",
              "      <td>6.126207</td>\n",
              "      <td>6.124052</td>\n",
              "      <td>6.125431</td>\n",
              "      <td>3.389604</td>\n",
              "      <td>20.956109</td>\n",
              "      <td>6.125839</td>\n",
              "    </tr>\n",
              "  </tbody>\n",
              "</table>\n",
              "</div>\n",
              "      <button class=\"colab-df-convert\" onclick=\"convertToInteractive('df-322626f5-161f-4325-ba55-f7501958a4d5')\"\n",
              "              title=\"Convert this dataframe to an interactive table.\"\n",
              "              style=\"display:none;\">\n",
              "        \n",
              "  <svg xmlns=\"http://www.w3.org/2000/svg\" height=\"24px\"viewBox=\"0 0 24 24\"\n",
              "       width=\"24px\">\n",
              "    <path d=\"M0 0h24v24H0V0z\" fill=\"none\"/>\n",
              "    <path d=\"M18.56 5.44l.94 2.06.94-2.06 2.06-.94-2.06-.94-.94-2.06-.94 2.06-2.06.94zm-11 1L8.5 8.5l.94-2.06 2.06-.94-2.06-.94L8.5 2.5l-.94 2.06-2.06.94zm10 10l.94 2.06.94-2.06 2.06-.94-2.06-.94-.94-2.06-.94 2.06-2.06.94z\"/><path d=\"M17.41 7.96l-1.37-1.37c-.4-.4-.92-.59-1.43-.59-.52 0-1.04.2-1.43.59L10.3 9.45l-7.72 7.72c-.78.78-.78 2.05 0 2.83L4 21.41c.39.39.9.59 1.41.59.51 0 1.02-.2 1.41-.59l7.78-7.78 2.81-2.81c.8-.78.8-2.07 0-2.86zM5.41 20L4 18.59l7.72-7.72 1.47 1.35L5.41 20z\"/>\n",
              "  </svg>\n",
              "      </button>\n",
              "      \n",
              "  <style>\n",
              "    .colab-df-container {\n",
              "      display:flex;\n",
              "      flex-wrap:wrap;\n",
              "      gap: 12px;\n",
              "    }\n",
              "\n",
              "    .colab-df-convert {\n",
              "      background-color: #E8F0FE;\n",
              "      border: none;\n",
              "      border-radius: 50%;\n",
              "      cursor: pointer;\n",
              "      display: none;\n",
              "      fill: #1967D2;\n",
              "      height: 32px;\n",
              "      padding: 0 0 0 0;\n",
              "      width: 32px;\n",
              "    }\n",
              "\n",
              "    .colab-df-convert:hover {\n",
              "      background-color: #E2EBFA;\n",
              "      box-shadow: 0px 1px 2px rgba(60, 64, 67, 0.3), 0px 1px 3px 1px rgba(60, 64, 67, 0.15);\n",
              "      fill: #174EA6;\n",
              "    }\n",
              "\n",
              "    [theme=dark] .colab-df-convert {\n",
              "      background-color: #3B4455;\n",
              "      fill: #D2E3FC;\n",
              "    }\n",
              "\n",
              "    [theme=dark] .colab-df-convert:hover {\n",
              "      background-color: #434B5C;\n",
              "      box-shadow: 0px 1px 3px 1px rgba(0, 0, 0, 0.15);\n",
              "      filter: drop-shadow(0px 1px 2px rgba(0, 0, 0, 0.3));\n",
              "      fill: #FFFFFF;\n",
              "    }\n",
              "  </style>\n",
              "\n",
              "      <script>\n",
              "        const buttonEl =\n",
              "          document.querySelector('#df-322626f5-161f-4325-ba55-f7501958a4d5 button.colab-df-convert');\n",
              "        buttonEl.style.display =\n",
              "          google.colab.kernel.accessAllowed ? 'block' : 'none';\n",
              "\n",
              "        async function convertToInteractive(key) {\n",
              "          const element = document.querySelector('#df-322626f5-161f-4325-ba55-f7501958a4d5');\n",
              "          const dataTable =\n",
              "            await google.colab.kernel.invokeFunction('convertToInteractive',\n",
              "                                                     [key], {});\n",
              "          if (!dataTable) return;\n",
              "\n",
              "          const docLinkHtml = 'Like what you see? Visit the ' +\n",
              "            '<a target=\"_blank\" href=https://colab.research.google.com/notebooks/data_table.ipynb>data table notebook</a>'\n",
              "            + ' to learn more about interactive tables.';\n",
              "          element.innerHTML = '';\n",
              "          dataTable['output_type'] = 'display_data';\n",
              "          await google.colab.output.renderOutput(dataTable, element);\n",
              "          const docLink = document.createElement('div');\n",
              "          docLink.innerHTML = docLinkHtml;\n",
              "          element.appendChild(docLink);\n",
              "        }\n",
              "      </script>\n",
              "    </div>\n",
              "  </div>\n",
              "  "
            ]
          },
          "metadata": {},
          "execution_count": 5
        }
      ]
    },
    {
      "cell_type": "code",
      "source": [
        "df.shape"
      ],
      "metadata": {
        "colab": {
          "base_uri": "https://localhost:8080/"
        },
        "id": "yG053vCzxW3I",
        "outputId": "f9e9b38a-453b-461c-f1d6-78293e10ddfe"
      },
      "execution_count": 6,
      "outputs": [
        {
          "output_type": "execute_result",
          "data": {
            "text/plain": [
              "(484, 7)"
            ]
          },
          "metadata": {},
          "execution_count": 6
        }
      ]
    },
    {
      "cell_type": "code",
      "source": [
        "autocorrelation_plot(df)\n",
        "plt.show()\n"
      ],
      "metadata": {
        "colab": {
          "base_uri": "https://localhost:8080/",
          "height": 283
        },
        "id": "UapoWpjQxgXZ",
        "outputId": "e924a526-73f7-478e-dba7-48e7194684c9"
      },
      "execution_count": 7,
      "outputs": [
        {
          "output_type": "display_data",
          "data": {
            "text/plain": [
              "<Figure size 432x288 with 1 Axes>"
            ],
            "image/png": "[encoded data removed]"
          },
          "metadata": {
            "needs_background": "light"
          }
        }
      ]
    },
    {
      "cell_type": "code",
      "source": [
        "df = df.reset_index()"
      ],
      "metadata": {
        "id": "kQBW3im1yCbl"
      },
      "execution_count": 8,
      "outputs": []
    },
    {
      "cell_type": "code",
      "source": [
        "df_for_prove = df.Weighted_Price\n",
        "df_for_prove"
      ],
      "metadata": {
        "id": "781LS6sryjgL",
        "colab": {
          "base_uri": "https://localhost:8080/"
        },
        "outputId": "511c406e-ed92-48bf-cf37-68c88bd94b05"
      },
      "execution_count": 9,
      "outputs": [
        {
          "output_type": "execute_result",
          "data": {
            "text/plain": [
              "0          4.615202\n",
              "1          6.012609\n",
              "2          6.846930\n",
              "3          6.332164\n",
              "4          6.125839\n",
              "           ...     \n",
              "479    48912.216044\n",
              "480    56070.005951\n",
              "481    57406.662459\n",
              "482    54713.102551\n",
              "483    57630.598391\n",
              "Name: Weighted_Price, Length: 484, dtype: float64"
            ]
          },
          "metadata": {},
          "execution_count": 9
        }
      ]
    },
    {
      "cell_type": "code",
      "source": [
        "split = \"2020-01-01\"\n",
        "train_data = df[df['Timestamp'] <=split]\n",
        "test_data =  df[df['Timestamp'] >split]\n",
        "train_data"
      ],
      "metadata": {
        "colab": {
          "base_uri": "https://localhost:8080/",
          "height": 424
        },
        "id": "DiBClxHfx5Xa",
        "outputId": "08b38f6f-aa89-4a92-c4e1-94a6cf518541"
      },
      "execution_count": 10,
      "outputs": [
        {
          "output_type": "execute_result",
          "data": {
            "text/plain": [
              "     Timestamp         Open         High          Low        Close  \\\n",
              "0   2012-01-01     4.611429     4.621429     4.611429     4.621429   \n",
              "1   2012-01-08     6.009286     6.017321     6.009286     6.017321   \n",
              "2   2012-01-15     6.847168     6.850636     6.840867     6.845145   \n",
              "3   2012-01-22     6.332981     6.335673     6.329327     6.332019   \n",
              "4   2012-01-29     6.124828     6.126207     6.124052     6.125431   \n",
              "..         ...          ...          ...          ...          ...   \n",
              "413 2019-12-01  7355.340641  7360.972397  7349.737461  7355.226190   \n",
              "414 2019-12-08  7379.551985  7383.959005  7375.480366  7379.547668   \n",
              "415 2019-12-15  7232.351484  7235.530138  7228.947472  7232.250254   \n",
              "416 2019-12-22  7037.059651  7041.362522  7033.078004  7037.068874   \n",
              "417 2019-12-29  7295.606306  7299.060268  7292.198742  7295.650094   \n",
              "\n",
              "     Volume_(BTC)  Volume_(Currency)  Weighted_Price  \n",
              "0       16.702840          75.871357        4.615202  \n",
              "1        6.219625          35.272736        6.012609  \n",
              "2        2.308239          16.012406        6.846930  \n",
              "3        7.036892          44.270967        6.332164  \n",
              "4        3.389604          20.956109        6.125839  \n",
              "..            ...                ...             ...  \n",
              "413      6.692576       48613.539479     7355.472402  \n",
              "414      2.737669       20192.900208     7380.120877  \n",
              "415      2.563430       18620.481650     7232.664836  \n",
              "416      4.063312       28313.958170     7037.438063  \n",
              "417      2.414207       17702.241206     7296.025185  \n",
              "\n",
              "[418 rows x 8 columns]"
            ],
            "text/html": [
              "\n",
              "  <div id=\"df-46ab36f4-c7b7-4d46-83bb-b06f8326b9d0\">\n",
              "    <div class=\"colab-df-container\">\n",
              "      <div>\n",
              "<style scoped>\n",
              "    .dataframe tbody tr th:only-of-type {\n",
              "        vertical-align: middle;\n",
              "    }\n",
              "\n",
              "    .dataframe tbody tr th {\n",
              "        vertical-align: top;\n",
              "    }\n",
              "\n",
              "    .dataframe thead th {\n",
              "        text-align: right;\n",
              "    }\n",
              "</style>\n",
              "<table border=\"1\" class=\"dataframe\">\n",
              "  <thead>\n",
              "    <tr style=\"text-align: right;\">\n",
              "      <th></th>\n",
              "      <th>Timestamp</th>\n",
              "      <th>Open</th>\n",
              "      <th>High</th>\n",
              "      <th>Low</th>\n",
              "      <th>Close</th>\n",
              "      <th>Volume_(BTC)</th>\n",
              "      <th>Volume_(Currency)</th>\n",
              "      <th>Weighted_Price</th>\n",
              "    </tr>\n",
              "  </thead>\n",
              "  <tbody>\n",
              "    <tr>\n",
              "      <th>0</th>\n",
              "      <td>2012-01-01</td>\n",
              "      <td>4.611429</td>\n",
              "      <td>4.621429</td>\n",
              "      <td>4.611429</td>\n",
              "      <td>4.621429</td>\n",
              "      <td>16.702840</td>\n",
              "      <td>75.871357</td>\n",
              "      <td>4.615202</td>\n",
              "    </tr>\n",
              "    <tr>\n",
              "      <th>1</th>\n",
              "      <td>2012-01-08</td>\n",
              "      <td>6.009286</td>\n",
              "      <td>6.017321</td>\n",
              "      <td>6.009286</td>\n",
              "      <td>6.017321</td>\n",
              "      <td>6.219625</td>\n",
              "      <td>35.272736</td>\n",
              "      <td>6.012609</td>\n",
              "    </tr>\n",
              "    <tr>\n",
              "      <th>2</th>\n",
              "      <td>2012-01-15</td>\n",
              "      <td>6.847168</td>\n",
              "      <td>6.850636</td>\n",
              "      <td>6.840867</td>\n",
              "      <td>6.845145</td>\n",
              "      <td>2.308239</td>\n",
              "      <td>16.012406</td>\n",
              "      <td>6.846930</td>\n",
              "    </tr>\n",
              "    <tr>\n",
              "      <th>3</th>\n",
              "      <td>2012-01-22</td>\n",
              "      <td>6.332981</td>\n",
              "      <td>6.335673</td>\n",
              "      <td>6.329327</td>\n",
              "      <td>6.332019</td>\n",
              "      <td>7.036892</td>\n",
              "      <td>44.270967</td>\n",
              "      <td>6.332164</td>\n",
              "    </tr>\n",
              "    <tr>\n",
              "      <th>4</th>\n",
              "      <td>2012-01-29</td>\n",
              "      <td>6.124828</td>\n",
              "      <td>6.126207</td>\n",
              "      <td>6.124052</td>\n",
              "      <td>6.125431</td>\n",
              "      <td>3.389604</td>\n",
              "      <td>20.956109</td>\n",
              "      <td>6.125839</td>\n",
              "    </tr>\n",
              "    <tr>\n",
              "      <th>...</th>\n",
              "      <td>...</td>\n",
              "      <td>...</td>\n",
              "      <td>...</td>\n",
              "      <td>...</td>\n",
              "      <td>...</td>\n",
              "      <td>...</td>\n",
              "      <td>...</td>\n",
              "      <td>...</td>\n",
              "    </tr>\n",
              "    <tr>\n",
              "      <th>413</th>\n",
              "      <td>2019-12-01</td>\n",
              "      <td>7355.340641</td>\n",
              "      <td>7360.972397</td>\n",
              "      <td>7349.737461</td>\n",
              "      <td>7355.226190</td>\n",
              "      <td>6.692576</td>\n",
              "      <td>48613.539479</td>\n",
              "      <td>7355.472402</td>\n",
              "    </tr>\n",
              "    <tr>\n",
              "      <th>414</th>\n",
              "      <td>2019-12-08</td>\n",
              "      <td>7379.551985</td>\n",
              "      <td>7383.959005</td>\n",
              "      <td>7375.480366</td>\n",
              "      <td>7379.547668</td>\n",
              "      <td>2.737669</td>\n",
              "      <td>20192.900208</td>\n",
              "      <td>7380.120877</td>\n",
              "    </tr>\n",
              "    <tr>\n",
              "      <th>415</th>\n",
              "      <td>2019-12-15</td>\n",
              "      <td>7232.351484</td>\n",
              "      <td>7235.530138</td>\n",
              "      <td>7228.947472</td>\n",
              "      <td>7232.250254</td>\n",
              "      <td>2.563430</td>\n",
              "      <td>18620.481650</td>\n",
              "      <td>7232.664836</td>\n",
              "    </tr>\n",
              "    <tr>\n",
              "      <th>416</th>\n",
              "      <td>2019-12-22</td>\n",
              "      <td>7037.059651</td>\n",
              "      <td>7041.362522</td>\n",
              "      <td>7033.078004</td>\n",
              "      <td>7037.068874</td>\n",
              "      <td>4.063312</td>\n",
              "      <td>28313.958170</td>\n",
              "      <td>7037.438063</td>\n",
              "    </tr>\n",
              "    <tr>\n",
              "      <th>417</th>\n",
              "      <td>2019-12-29</td>\n",
              "      <td>7295.606306</td>\n",
              "      <td>7299.060268</td>\n",
              "      <td>7292.198742</td>\n",
              "      <td>7295.650094</td>\n",
              "      <td>2.414207</td>\n",
              "      <td>17702.241206</td>\n",
              "      <td>7296.025185</td>\n",
              "    </tr>\n",
              "  </tbody>\n",
              "</table>\n",
              "<p>418 rows × 8 columns</p>\n",
              "</div>\n",
              "      <button class=\"colab-df-convert\" onclick=\"convertToInteractive('df-46ab36f4-c7b7-4d46-83bb-b06f8326b9d0')\"\n",
              "              title=\"Convert this dataframe to an interactive table.\"\n",
              "              style=\"display:none;\">\n",
              "        \n",
              "  <svg xmlns=\"http://www.w3.org/2000/svg\" height=\"24px\"viewBox=\"0 0 24 24\"\n",
              "       width=\"24px\">\n",
              "    <path d=\"M0 0h24v24H0V0z\" fill=\"none\"/>\n",
              "    <path d=\"M18.56 5.44l.94 2.06.94-2.06 2.06-.94-2.06-.94-.94-2.06-.94 2.06-2.06.94zm-11 1L8.5 8.5l.94-2.06 2.06-.94-2.06-.94L8.5 2.5l-.94 2.06-2.06.94zm10 10l.94 2.06.94-2.06 2.06-.94-2.06-.94-.94-2.06-.94 2.06-2.06.94z\"/><path d=\"M17.41 7.96l-1.37-1.37c-.4-.4-.92-.59-1.43-.59-.52 0-1.04.2-1.43.59L10.3 9.45l-7.72 7.72c-.78.78-.78 2.05 0 2.83L4 21.41c.39.39.9.59 1.41.59.51 0 1.02-.2 1.41-.59l7.78-7.78 2.81-2.81c.8-.78.8-2.07 0-2.86zM5.41 20L4 18.59l7.72-7.72 1.47 1.35L5.41 20z\"/>\n",
              "  </svg>\n",
              "      </button>\n",
              "      \n",
              "  <style>\n",
              "    .colab-df-container {\n",
              "      display:flex;\n",
              "      flex-wrap:wrap;\n",
              "      gap: 12px;\n",
              "    }\n",
              "\n",
              "    .colab-df-convert {\n",
              "      background-color: #E8F0FE;\n",
              "      border: none;\n",
              "      border-radius: 50%;\n",
              "      cursor: pointer;\n",
              "      display: none;\n",
              "      fill: #1967D2;\n",
              "      height: 32px;\n",
              "      padding: 0 0 0 0;\n",
              "      width: 32px;\n",
              "    }\n",
              "\n",
              "    .colab-df-convert:hover {\n",
              "      background-color: #E2EBFA;\n",
              "      box-shadow: 0px 1px 2px rgba(60, 64, 67, 0.3), 0px 1px 3px 1px rgba(60, 64, 67, 0.15);\n",
              "      fill: #174EA6;\n",
              "    }\n",
              "\n",
              "    [theme=dark] .colab-df-convert {\n",
              "      background-color: #3B4455;\n",
              "      fill: #D2E3FC;\n",
              "    }\n",
              "\n",
              "    [theme=dark] .colab-df-convert:hover {\n",
              "      background-color: #434B5C;\n",
              "      box-shadow: 0px 1px 3px 1px rgba(0, 0, 0, 0.15);\n",
              "      filter: drop-shadow(0px 1px 2px rgba(0, 0, 0, 0.3));\n",
              "      fill: #FFFFFF;\n",
              "    }\n",
              "  </style>\n",
              "\n",
              "      <script>\n",
              "        const buttonEl =\n",
              "          document.querySelector('#df-46ab36f4-c7b7-4d46-83bb-b06f8326b9d0 button.colab-df-convert');\n",
              "        buttonEl.style.display =\n",
              "          google.colab.kernel.accessAllowed ? 'block' : 'none';\n",
              "\n",
              "        async function convertToInteractive(key) {\n",
              "          const element = document.querySelector('#df-46ab36f4-c7b7-4d46-83bb-b06f8326b9d0');\n",
              "          const dataTable =\n",
              "            await google.colab.kernel.invokeFunction('convertToInteractive',\n",
              "                                                     [key], {});\n",
              "          if (!dataTable) return;\n",
              "\n",
              "          const docLinkHtml = 'Like what you see? Visit the ' +\n",
              "            '<a target=\"_blank\" href=https://colab.research.google.com/notebooks/data_table.ipynb>data table notebook</a>'\n",
              "            + ' to learn more about interactive tables.';\n",
              "          element.innerHTML = '';\n",
              "          dataTable['output_type'] = 'display_data';\n",
              "          await google.colab.output.renderOutput(dataTable, element);\n",
              "          const docLink = document.createElement('div');\n",
              "          docLink.innerHTML = docLinkHtml;\n",
              "          element.appendChild(docLink);\n",
              "        }\n",
              "      </script>\n",
              "    </div>\n",
              "  </div>\n",
              "  "
            ]
          },
          "metadata": {},
          "execution_count": 10
        }
      ]
    },
    {
      "cell_type": "code",
      "source": [
        "train_data = train_data['Weighted_Price'].values\n",
        "train_data_ARIMA = [x for x in train_data]\n",
        "price2 = test_data['Weighted_Price'].values\n",
        "test_data_ARIMA = [x for x in price2]\n",
        "train_data"
      ],
      "metadata": {
        "id": "HvGRqEUw2njF",
        "colab": {
          "base_uri": "https://localhost:8080/"
        },
        "outputId": "60535064-c109-470f-b5f5-848835f4eb7c"
      },
      "execution_count": 11,
      "outputs": [
        {
          "output_type": "execute_result",
          "data": {
            "text/plain": [
              "array([4.61520164e+00, 6.01260876e+00, 6.84693041e+00, 6.33216434e+00,\n",
              "       6.12583936e+00, 5.95426024e+00, 5.75029891e+00, 4.80454507e+00,\n",
              "       4.73119992e+00, 4.94736406e+00, 4.98747797e+00, 5.24546908e+00,\n",
              "       4.91692884e+00, 4.82107967e+00, 4.91143810e+00, 4.88431627e+00,\n",
              "       5.12400237e+00, 5.05760619e+00, 5.05365019e+00, 5.00497358e+00,\n",
              "       4.99833451e+00, 5.06823601e+00, 5.12761452e+00, 5.39365845e+00,\n",
              "       5.94713533e+00, 6.46180430e+00, 6.43488203e+00, 6.59599019e+00,\n",
              "       7.20077942e+00, 8.42067054e+00, 8.65809769e+00, 9.84583434e+00,\n",
              "       1.10530760e+01, 1.22394361e+01, 1.00293771e+01, 1.07703504e+01,\n",
              "       1.06629025e+01, 1.11478254e+01, 1.20568074e+01, 1.20084313e+01,\n",
              "       1.24596054e+01, 1.16787667e+01, 1.16316385e+01, 1.09494385e+01,\n",
              "       1.07047029e+01, 1.06955703e+01, 1.10914005e+01, 1.17819820e+01,\n",
              "       1.22537189e+01, 1.30291948e+01, 1.34091321e+01, 1.31806363e+01,\n",
              "       1.31457884e+01, 1.31437191e+01, 1.35593249e+01, 1.47223709e+01,\n",
              "       1.72118291e+01, 1.95638527e+01, 2.14608442e+01, 2.58664062e+01,\n",
              "       2.91095538e+01, 3.25805430e+01, 4.25591522e+01, 4.62153418e+01,\n",
              "       6.34779473e+01, 8.62930487e+01, 1.30521060e+02, 1.43076796e+02,\n",
              "       9.73195463e+01, 1.36361292e+02, 1.18623735e+02, 1.14169044e+02,\n",
              "       1.14622506e+02, 1.23463569e+02, 1.27465429e+02, 1.14254767e+02,\n",
              "       1.03287706e+02, 1.02381192e+02, 9.52394512e+01, 7.78202740e+01,\n",
              "       8.39190678e+01, 8.84188382e+01, 8.82912465e+01, 9.61788777e+01,\n",
              "       9.56634975e+01, 9.76300219e+01, 1.07443792e+02, 1.21607465e+02,\n",
              "       1.24252346e+02, 1.24339654e+02, 1.25352167e+02, 1.24775122e+02,\n",
              "       1.21154922e+02, 1.25791708e+02, 1.47557269e+02, 1.86063659e+02,\n",
              "       2.01695773e+02, 2.79525145e+02, 3.96446150e+02, 6.77611165e+02,\n",
              "       9.70260846e+02, 9.38215236e+02, 8.81234632e+02, 6.49680226e+02,\n",
              "       6.91116552e+02, 7.79326581e+02, 8.61199896e+02, 8.19114637e+02,\n",
              "       8.12052451e+02, 7.98287207e+02, 7.55319375e+02, 6.54781950e+02,\n",
              "       6.08700322e+02, 5.59567414e+02, 6.45505231e+02, 6.34476622e+02,\n",
              "       5.92721819e+02, 5.29867036e+02, 4.55445177e+02, 4.27153884e+02,\n",
              "       4.92435638e+02, 4.78365844e+02, 4.45088513e+02, 4.40554082e+02,\n",
              "       4.44768787e+02, 5.07562782e+02, 5.96816453e+02, 6.52041567e+02,\n",
              "       6.10294891e+02, 5.98325163e+02, 5.83056449e+02, 6.38261946e+02,\n",
              "       6.25465043e+02, 6.22985757e+02, 6.09512019e+02, 5.83684689e+02,\n",
              "       5.86081722e+02, 5.33173555e+02, 4.98770827e+02, 5.05322416e+02,\n",
              "       4.80125606e+02, 4.73777090e+02, 4.35067643e+02, 4.08504085e+02,\n",
              "       3.64176078e+02, 3.48087648e+02, 3.89294283e+02, 3.68206052e+02,\n",
              "       3.42089578e+02, 3.39254576e+02, 3.91167623e+02, 3.71346930e+02,\n",
              "       3.75220345e+02, 3.76109969e+02, 3.54939628e+02, 3.27514975e+02,\n",
              "       3.24660152e+02, 3.05546418e+02, 2.78062466e+02, 2.17782474e+02,\n",
              "       2.26568340e+02, 2.44831844e+02, 2.26330063e+02, 2.30805240e+02,\n",
              "       2.40484126e+02, 2.43792247e+02, 2.72111987e+02, 2.88733750e+02,\n",
              "       2.70054130e+02, 2.51450619e+02, 2.48681887e+02, 2.45765141e+02,\n",
              "       2.23811675e+02, 2.28340390e+02, 2.29281628e+02, 2.36925469e+02,\n",
              "       2.38669608e+02, 2.35481311e+02, 2.35065415e+02, 2.24641653e+02,\n",
              "       2.29120591e+02, 2.43816051e+02, 2.44246763e+02, 2.58147714e+02,\n",
              "       2.78611184e+02, 2.84972090e+02, 2.81644070e+02, 2.88073126e+02,\n",
              "       2.77438847e+02, 2.64491660e+02, 2.38534520e+02, 2.24380265e+02,\n",
              "       2.30877500e+02, 2.39273891e+02, 2.30410345e+02, 2.31277531e+02,\n",
              "       2.37625734e+02, 2.43588967e+02, 2.56231927e+02, 2.74401460e+02,\n",
              "       3.07649538e+02, 3.88443866e+02, 3.39033503e+02, 3.27666942e+02,\n",
              "       3.40052383e+02, 3.70139888e+02, 4.17819009e+02, 4.54436271e+02,\n",
              "       4.37922452e+02, 4.28258905e+02, 4.42110977e+02, 4.13900804e+02,\n",
              "       3.92960863e+02, 3.85335852e+02, 3.76357523e+02, 3.81747947e+02,\n",
              "       4.17981817e+02, 4.26866985e+02, 4.20901097e+02, 4.13156014e+02,\n",
              "       4.13002356e+02, 4.15362730e+02, 4.16970802e+02, 4.19624779e+02,\n",
              "       4.25180162e+02, 4.40717870e+02, 4.55663011e+02, 4.50580486e+02,\n",
              "       4.55258747e+02, 4.48731210e+02, 4.69012183e+02, 5.47073549e+02,\n",
              "       5.91740874e+02, 7.20645010e+02, 6.58980345e+02, 6.57052298e+02,\n",
              "       6.56759565e+02, 6.60776425e+02, 6.64528626e+02, 6.50840127e+02,\n",
              "       5.78925499e+02, 5.86113705e+02, 5.72580671e+02, 5.76883279e+02,\n",
              "       5.77277490e+02, 6.14237818e+02, 6.06566728e+02, 6.00383817e+02,\n",
              "       6.05388610e+02, 6.10676589e+02, 6.32590004e+02, 6.35743306e+02,\n",
              "       6.75095646e+02, 7.10215311e+02, 7.10785720e+02, 7.28886025e+02,\n",
              "       7.35256248e+02, 7.47615161e+02, 7.63227212e+02, 7.79867056e+02,\n",
              "       8.48225617e+02, 9.48301792e+02, 9.79477279e+02, 8.36945416e+02,\n",
              "       8.87406679e+02, 9.10266363e+02, 9.79437553e+02, 1.01830770e+03,\n",
              "       1.02726688e+03, 1.13735731e+03, 1.23237466e+03, 1.20755705e+03,\n",
              "       1.15590143e+03, 1.01273479e+03, 1.04577019e+03, 1.16064038e+03,\n",
              "       1.19337962e+03, 1.21666257e+03, 1.29997669e+03, 1.49599333e+03,\n",
              "       1.73044682e+03, 1.85119735e+03, 2.27189539e+03, 2.37464914e+03,\n",
              "       2.79848823e+03, 2.58472806e+03, 2.64964873e+03, 2.48457344e+03,\n",
              "       2.55473066e+03, 2.25475047e+03, 2.48238045e+03, 2.65198432e+03,\n",
              "       2.88687260e+03, 3.53625287e+03, 4.17104758e+03, 4.18033200e+03,\n",
              "       4.58286867e+03, 4.38191888e+03, 3.82172367e+03, 3.81053979e+03,\n",
              "       4.09349743e+03, 4.34558159e+03, 5.18128658e+03, 5.73252362e+03,\n",
              "       5.76439896e+03, 6.82420790e+03, 6.94177283e+03, 7.25398528e+03,\n",
              "       8.31294374e+03, 1.03011493e+04, 1.35342484e+04, 1.72199811e+04,\n",
              "       1.60393561e+04, 1.43018223e+04, 1.51536135e+04, 1.42320565e+04,\n",
              "       1.20055840e+04, 1.11547559e+04, 9.65335845e+03, 7.95296722e+03,\n",
              "       9.64420286e+03, 1.04240675e+04, 1.07555927e+04, 9.97789595e+03,\n",
              "       8.50678622e+03, 8.66788630e+03, 7.47029054e+03, 6.95311322e+03,\n",
              "       7.44376522e+03, 8.35988387e+03, 9.16090059e+03, 9.40998958e+03,\n",
              "       8.96233727e+03, 8.35776052e+03, 7.75882132e+03, 7.46361215e+03,\n",
              "       7.53614300e+03, 6.56894336e+03, 6.45298091e+03, 6.17046433e+03,\n",
              "       6.57904408e+03, 6.36488530e+03, 7.19979775e+03, 8.08516163e+03,\n",
              "       7.55041072e+03, 6.53253421e+03, 6.34386220e+03, 6.53822276e+03,\n",
              "       6.99830273e+03, 6.74907114e+03, 6.39249512e+03, 6.49904945e+03,\n",
              "       6.54340630e+03, 6.53410850e+03, 6.36490199e+03, 6.41341986e+03,\n",
              "       6.40527335e+03, 6.31682532e+03, 6.40651177e+03, 5.81846244e+03,\n",
              "       4.40877747e+03, 4.01395123e+03, 3.65061635e+03, 3.31923650e+03,\n",
              "       3.75916764e+03, 3.82287837e+03, 3.80190439e+03, 3.81800971e+03,\n",
              "       3.61669644e+03, 3.55473628e+03, 3.42229975e+03, 3.46522851e+03,\n",
              "       3.58095058e+03, 3.90857599e+03, 3.80245994e+03, 3.83420437e+03,\n",
              "       3.88984263e+03, 3.98261364e+03, 4.01140335e+03, 4.84923738e+03,\n",
              "       5.15442914e+03, 5.22275129e+03, 5.32223137e+03, 5.43810336e+03,\n",
              "       6.23880675e+03, 7.71043828e+03, 7.94403903e+03, 8.62269556e+03,\n",
              "       7.94131733e+03, 8.30030873e+03, 9.73759374e+03, 1.16696096e+04,\n",
              "       1.11369631e+04, 1.17739545e+04, 1.03036950e+04, 9.89162832e+03,\n",
              "       1.01565534e+04, 1.16763814e+04, 1.05441004e+04, 1.03055070e+04,\n",
              "       9.83802479e+03, 1.04502687e+04, 1.02526297e+04, 1.01218147e+04,\n",
              "       8.61534365e+03, 8.16760345e+03, 8.32008483e+03, 8.08771180e+03,\n",
              "       8.32003985e+03, 9.26885291e+03, 9.13156217e+03, 8.63663447e+03,\n",
              "       7.73909122e+03, 7.35547240e+03, 7.38012088e+03, 7.23266484e+03,\n",
              "       7.03743806e+03, 7.29602518e+03])"
            ]
          },
          "metadata": {},
          "execution_count": 11
        }
      ]
    },
    {
      "cell_type": "code",
      "source": [
        "len(test_data_ARIMA)"
      ],
      "metadata": {
        "colab": {
          "base_uri": "https://localhost:8080/"
        },
        "id": "dB68vTuy5ewj",
        "outputId": "f22b2e73-e667-4d4d-fb53-ef36c243e114"
      },
      "execution_count": 12,
      "outputs": [
        {
          "output_type": "execute_result",
          "data": {
            "text/plain": [
              "66"
            ]
          },
          "metadata": {},
          "execution_count": 12
        }
      ]
    },
    {
      "cell_type": "markdown",
      "source": [
        "##平穩與否 及差分"
      ],
      "metadata": {
        "id": "XmuQ26ZF-pjU"
      }
    },
    {
      "cell_type": "code",
      "source": [
        "from statsmodels.tsa.seasonal import seasonal_decompose\n",
        "result = seasonal_decompose(df_for_prove, model=\"multiplicative\", freq=12)\n",
        "plt.figure(figsize=(20,8))\n",
        "plt.subplot(4,1,1)\n",
        "plt.plot(result.observed, label=\"Copper Future\")\n",
        "plt.ylabel(\"Price\")\n",
        "plt.xticks(df.index[::12], rotation=0) #調整x軸刻度的呈現(每隔12個)\n",
        "plt.margins(0)\n",
        "plt.subplot(4,1,2)\n",
        "plt.plot(result.trend)\n",
        "plt.ylabel(\"Trend\")\n",
        "plt.xticks(df.index[::12], rotation=0)\n",
        "plt.margins(0)\n",
        "plt.subplot(4,1,3)\n",
        "plt.plot(result.seasonal)\n",
        "plt.ylabel(\"Seasonal\")\n",
        "plt.xticks(df.index[::12], rotation=0)\n",
        "plt.margins(0)\n",
        "plt.subplot(4,1,4)\n",
        "plt.scatter(df.index,result.resid);\n",
        "plt.ylabel(\"Resid\")\n",
        "plt.xticks(df.index[::12], rotation=0)\n",
        "plt.margins(0) "
      ],
      "metadata": {
        "colab": {
          "base_uri": "https://localhost:8080/",
          "height": 518
        },
        "id": "IHdZbIx0Boyq",
        "outputId": "986f2a53-24f0-4193-e11d-930331290426"
      },
      "execution_count": 13,
      "outputs": [
        {
          "output_type": "stream",
          "name": "stderr",
          "text": [
            "<ipython-input-13-c6236eadb89b>:2: FutureWarning: the 'freq'' keyword is deprecated, use 'period' instead\n",
            "  result = seasonal_decompose(df_for_prove, model=\"multiplicative\", freq=12)\n"
          ]
        },
        {
          "output_type": "display_data",
          "data": {
            "text/plain": [
              "<Figure size 1440x576 with 4 Axes>"
            ],
            "image/png": "[encoded data removed]"
          },
          "metadata": {
            "needs_background": "light"
          }
        }
      ]
    },
    {
      "cell_type": "code",
      "source": [
        "from statsmodels.tsa.stattools import adfuller\n",
        "def adf_test(timeseries):\n",
        "    #Perform Dickey-Fuller test:\n",
        "    print(\"Results of Dickey-Fuller Test\\n================================================\")\n",
        "    dftest = adfuller(timeseries, autolag=\"AIC\")\n",
        "    dfoutput = pd.Series(dftest[0:4], index = [\n",
        "        \"Test Statistic\", \"p-value\", \"#Lags Used\", \"Number of Observations Used\"])\n",
        "    for key, value in dftest[4].items():\n",
        "        dfoutput[\"Criterical Value (%s)\"%key] = value\n",
        "    print(dfoutput)\n",
        "    print(\"================================================\")  \n",
        "    #寫個自動判斷式\n",
        "    if dfoutput[0] < dfoutput[4]:\n",
        "        print(\"The data is stationary. (Criterical Value 1%)\")  \n",
        "    elif dfoutput[0] < dfoutput[5]:\n",
        "        print(\"The data is stationary. (Criterical Value 5%)\") \n",
        "    elif dfoutput[0] < dfoutput[6]:\n",
        "        print(\"The data is stationary. (Criterical Value 10%)\")\n",
        "    else:\n",
        "        print(\"The data is non-stationary, so do differencing!\")\n",
        "adf_test(df_for_prove)"
      ],
      "metadata": {
        "colab": {
          "base_uri": "https://localhost:8080/"
        },
        "id": "TgeBAk5k-LS0",
        "outputId": "9832e749-3eea-4ae9-c26a-59391c363591"
      },
      "execution_count": 14,
      "outputs": [
        {
          "output_type": "stream",
          "name": "stdout",
          "text": [
            "Results of Dickey-Fuller Test\n",
            "================================================\n",
            "Test Statistic                   2.455084\n",
            "p-value                          0.999034\n",
            "#Lags Used                      10.000000\n",
            "Number of Observations Used    473.000000\n",
            "Criterical Value (1%)           -3.444251\n",
            "Criterical Value (5%)           -2.867670\n",
            "Criterical Value (10%)          -2.570035\n",
            "dtype: float64\n",
            "================================================\n",
            "The data is non-stationary, so do differencing!\n"
          ]
        }
      ]
    },
    {
      "cell_type": "code",
      "source": [
        "df_for_prove"
      ],
      "metadata": {
        "colab": {
          "base_uri": "https://localhost:8080/"
        },
        "id": "ZRc8ut5B--bw",
        "outputId": "3f107f48-00b3-43fd-ac46-97d93226a45a"
      },
      "execution_count": 15,
      "outputs": [
        {
          "output_type": "execute_result",
          "data": {
            "text/plain": [
              "0          4.615202\n",
              "1          6.012609\n",
              "2          6.846930\n",
              "3          6.332164\n",
              "4          6.125839\n",
              "           ...     \n",
              "479    48912.216044\n",
              "480    56070.005951\n",
              "481    57406.662459\n",
              "482    54713.102551\n",
              "483    57630.598391\n",
              "Name: Weighted_Price, Length: 484, dtype: float64"
            ]
          },
          "metadata": {},
          "execution_count": 15
        }
      ]
    },
    {
      "cell_type": "code",
      "source": [
        "diff_1 = df_for_prove - df_for_prove.shift(1) \n",
        "diff_1 = diff_1.dropna()\n",
        "diff_1.head()\n",
        "# diff_1.plot(figsize=(6,4), label=\"diff_1\")\n",
        "# plt.legend();\n",
        "\n",
        "# adf_test(diff_1)\n",
        "diff_1"
      ],
      "metadata": {
        "colab": {
          "base_uri": "https://localhost:8080/"
        },
        "id": "58MKqvuG-zfO",
        "outputId": "32e398a7-a6a6-45b5-b912-5feef6bef097"
      },
      "execution_count": 16,
      "outputs": [
        {
          "output_type": "execute_result",
          "data": {
            "text/plain": [
              "1         1.397407\n",
              "2         0.834322\n",
              "3        -0.514766\n",
              "4        -0.206325\n",
              "5        -0.171579\n",
              "          ...     \n",
              "479      43.911826\n",
              "480    7157.789906\n",
              "481    1336.656509\n",
              "482   -2693.559908\n",
              "483    2917.495840\n",
              "Name: Weighted_Price, Length: 483, dtype: float64"
            ]
          },
          "metadata": {},
          "execution_count": 16
        }
      ]
    },
    {
      "cell_type": "code",
      "source": [
        "diff_2 = diff_1 - diff_1.shift(1) \n",
        "diff_2 = diff_2.dropna()\n",
        "diff_2.head()\n",
        "# diff_1.plot(figsize=(6,4), label=\"diff_1\")\n",
        "# plt.legend();\n",
        "\n",
        "adf_test(diff_2)"
      ],
      "metadata": {
        "colab": {
          "base_uri": "https://localhost:8080/"
        },
        "id": "i1o6sDbn_OFC",
        "outputId": "d474c30f-7b46-45f8-fe12-dd4ca353620d"
      },
      "execution_count": 17,
      "outputs": [
        {
          "output_type": "stream",
          "name": "stdout",
          "text": [
            "Results of Dickey-Fuller Test\n",
            "================================================\n",
            "Test Statistic                -1.053331e+01\n",
            "p-value                        9.034314e-19\n",
            "#Lags Used                     1.000000e+01\n",
            "Number of Observations Used    4.710000e+02\n",
            "Criterical Value (1%)         -3.444310e+00\n",
            "Criterical Value (5%)         -2.867696e+00\n",
            "Criterical Value (10%)        -2.570049e+00\n",
            "dtype: float64\n",
            "================================================\n",
            "The data is stationary. (Criterical Value 1%)\n"
          ]
        }
      ]
    },
    {
      "cell_type": "code",
      "source": [
        "diff_2"
      ],
      "metadata": {
        "colab": {
          "base_uri": "https://localhost:8080/"
        },
        "id": "QRCr66ss_Y-9",
        "outputId": "4543358a-b997-48ca-a832-07bb131cd107"
      },
      "execution_count": 18,
      "outputs": [
        {
          "output_type": "execute_result",
          "data": {
            "text/plain": [
              "2        -0.563085\n",
              "3        -1.349088\n",
              "4         0.308441\n",
              "5         0.034746\n",
              "6        -0.032382\n",
              "          ...     \n",
              "479    3448.542565\n",
              "480    7113.878080\n",
              "481   -5821.133398\n",
              "482   -4030.216417\n",
              "483    5611.055748\n",
              "Name: Weighted_Price, Length: 482, dtype: float64"
            ]
          },
          "metadata": {},
          "execution_count": 18
        }
      ]
    },
    {
      "cell_type": "markdown",
      "source": [
        "##ARIMA by day"
      ],
      "metadata": {
        "id": "fkOtb_3zx0TM"
      }
    },
    {
      "cell_type": "code",
      "source": [
        "from statsmodels.tsa.arima_model import ARIMA\n",
        "price = df.Weighted_Price\n",
        "X = price.values\n",
        "size = int(len(X) * 0.7)\n",
        "train, test = X[0:size], X[size:len(X)]\n",
        "history = [x for x in train]\n",
        "predictions = list()\n"
      ],
      "metadata": {
        "id": "zX5hWxhBxl0p"
      },
      "execution_count": 19,
      "outputs": []
    },
    {
      "cell_type": "code",
      "source": [
        "for t in range(len(test)):\n",
        "\tmodel = ARIMA(history, order=(5,1,0))\n",
        "\tmodel_fit = model.fit()\n",
        "\toutput = model_fit.forecast()\n",
        "\tyhat = output[0]\n",
        "\tpredictions.append(yhat)\n",
        "\tobs = test[t]\n",
        "\thistory.append(obs)\n",
        "\tprint('predicted=%f, expected=%f' % (yhat, obs))\n",
        "# evaluate forecasts\n",
        "rmse = sqrt(mean_squared_error(test, predictions))\n",
        "print('Test RMSE: %.3f' % rmse)\n",
        "# plot forecasts against actual outcomes\n",
        "plt.plot(test)\n",
        "plt.plot(predictions, color='red')\n",
        "plt.show()"
      ],
      "metadata": {
        "id": "lpOhkV-3z9BB",
        "colab": {
          "base_uri": "https://localhost:8080/",
          "height": 0
        },
        "outputId": "53938405-78fe-4224-ca9d-53bd6f74740c"
      },
      "execution_count": 20,
      "outputs": [
        {
          "output_type": "stream",
          "name": "stderr",
          "text": [
            "/usr/local/lib/python3.8/dist-packages/statsmodels/tsa/arima_model.py:472: FutureWarning: \n",
            "statsmodels.tsa.arima_model.ARMA and statsmodels.tsa.arima_model.ARIMA have\n",
            "been deprecated in favor of statsmodels.tsa.arima.model.ARIMA (note the .\n",
            "between arima and model) and\n",
            "statsmodels.tsa.SARIMAX. These will be removed after the 0.12 release.\n",
            "\n",
            "statsmodels.tsa.arima.model.ARIMA makes use of the statespace framework and\n",
            "is both well tested and maintained.\n",
            "\n",
            "To silence this warning and continue using ARMA and ARIMA until they are\n",
            "removed, use:\n",
            "\n",
            "import warnings\n",
            "warnings.filterwarnings('ignore', 'statsmodels.tsa.arima_model.ARMA',\n",
            "                        FutureWarning)\n",
            "warnings.filterwarnings('ignore', 'statsmodels.tsa.arima_model.ARIMA',\n",
            "                        FutureWarning)\n",
            "\n",
            "  warnings.warn(ARIMA_DEPRECATION_WARN, FutureWarning)\n"
          ]
        },
        {
          "output_type": "stream",
          "name": "stdout",
          "text": [
            "predicted=6014.858687, expected=6452.980906\n",
            "predicted=6793.058494, expected=6170.464326\n",
            "predicted=5692.823004, expected=6579.044077\n",
            "predicted=7156.426314, expected=6364.885298\n",
            "predicted=6052.368814, expected=7199.797750\n",
            "predicted=7898.915605, expected=8085.161630\n",
            "predicted=8206.736229, expected=7550.410718\n",
            "predicted=7330.159935, expected=6532.534210\n",
            "predicted=6163.877557, expected=6343.862199\n",
            "predicted=6189.603586, expected=6538.222757\n",
            "predicted=6578.848346, expected=6998.302728\n",
            "predicted=7398.666053, expected=6749.071136\n",
            "predicted=6562.685070, expected=6392.495123\n",
            "predicted=6351.761340, expected=6499.049447\n",
            "predicted=6506.312671, expected=6543.406305\n",
            "predicted=6524.862268, expected=6534.108503\n",
            "predicted=6633.932723, expected=6364.901994\n",
            "predicted=6263.714741, expected=6413.419856\n",
            "predicted=6492.200909, expected=6405.273346\n",
            "predicted=6357.412350, expected=6316.825316\n",
            "predicted=6334.180032, expected=6406.511772\n",
            "predicted=6476.548669, expected=5818.462442\n",
            "predicted=5458.868586, expected=4408.777474\n",
            "predicted=3842.792306, expected=4013.951229\n",
            "predicted=4041.632051, expected=3650.616345\n",
            "predicted=3328.489752, expected=3319.236495\n",
            "predicted=3456.819902, expected=3759.167639\n",
            "predicted=4064.602297, expected=3822.878369\n",
            "predicted=3719.729848, expected=3801.904394\n",
            "predicted=3968.419432, expected=3818.009715\n",
            "predicted=3737.841313, expected=3616.696443\n",
            "predicted=3500.774587, expected=3554.736280\n",
            "predicted=3597.673103, expected=3422.299753\n",
            "predicted=3312.834803, expected=3465.228508\n",
            "predicted=3567.407676, expected=3580.950583\n",
            "predicted=3611.190368, expected=3908.575991\n",
            "predicted=4106.714941, expected=3802.459938\n",
            "predicted=3671.044182, expected=3834.204367\n",
            "predicted=3951.437846, expected=3889.842627\n",
            "predicted=3814.026020, expected=3982.613637\n",
            "predicted=4070.522295, expected=4011.403347\n",
            "predicted=4011.497005, expected=4849.237376\n",
            "predicted=5326.411805, expected=5154.429143\n",
            "predicted=5079.773853, expected=5222.751290\n",
            "predicted=5401.866051, expected=5322.231375\n",
            "predicted=5249.040584, expected=5438.103364\n",
            "predicted=5453.653416, expected=6238.806749\n",
            "predicted=6681.694705, expected=7710.438277\n",
            "predicted=8337.291762, expected=7944.039035\n",
            "predicted=7851.441412, expected=8622.695555\n",
            "predicted=9162.188110, expected=7941.317326\n",
            "predicted=7148.999645, expected=8300.308732\n",
            "predicted=8811.114349, expected=9737.593743\n",
            "predicted=10122.075736, expected=11669.609636\n",
            "predicted=12661.010815, expected=11136.963132\n",
            "predicted=10590.926137, expected=11773.954460\n",
            "predicted=12401.434724, expected=10303.695006\n",
            "predicted=9171.791866, expected=9891.628318\n",
            "predicted=10083.715801, expected=10156.553379\n",
            "predicted=10092.144821, expected=11676.381441\n",
            "predicted=12438.988166, expected=10544.100419\n",
            "predicted=10034.395782, expected=10305.506952\n",
            "predicted=10461.416112, expected=9838.024787\n",
            "predicted=9573.968015, expected=10450.268673\n",
            "predicted=10668.330565, expected=10252.629717\n",
            "predicted=10221.113266, expected=10121.814651\n",
            "predicted=10138.055804, expected=8615.343650\n",
            "predicted=8105.319779, expected=8167.603452\n",
            "predicted=8085.944704, expected=8320.084833\n",
            "predicted=8448.307627, expected=8087.711802\n",
            "predicted=7999.887588, expected=8320.039852\n",
            "predicted=8546.016396, expected=9268.852909\n",
            "predicted=9662.970062, expected=9131.562171\n",
            "predicted=9006.125422, expected=8636.634474\n",
            "predicted=8505.422575, expected=7739.091218\n",
            "predicted=7435.056079, expected=7355.472402\n",
            "predicted=7230.234961, expected=7380.120877\n",
            "predicted=7448.445731, expected=7232.664836\n",
            "predicted=7224.864568, expected=7037.438063\n",
            "predicted=7054.420183, expected=7296.025185\n",
            "predicted=7454.421804, expected=7247.550026\n",
            "predicted=7217.067065, expected=7958.877304\n",
            "predicted=8260.454396, expected=8669.965061\n",
            "predicted=8909.710081, expected=8504.334361\n",
            "predicted=8377.799144, expected=9222.831691\n",
            "predicted=9529.880018, expected=9613.760429\n",
            "predicted=9659.650434, expected=10117.456465\n",
            "predicted=10254.820518, expected=9781.217449\n",
            "predicted=9642.964144, expected=8999.716767\n",
            "predicted=8696.940432, expected=8863.017687\n",
            "predicted=8862.586673, expected=6626.903576\n",
            "predicted=5766.961689, expected=5711.918533\n",
            "predicted=5568.746237, expected=6446.224426\n",
            "predicted=6828.109637, expected=6589.148589\n",
            "predicted=6645.632984, expected=7119.978273\n",
            "predicted=7527.773478, expected=6960.564194\n",
            "predicted=6893.054235, expected=7261.604538\n",
            "predicted=7359.382865, expected=8459.886022\n",
            "predicted=8865.762485, expected=9242.556743\n",
            "predicted=9439.429751, expected=9235.513591\n",
            "predicted=9207.118449, expected=9402.029913\n",
            "predicted=9443.058014, expected=9218.936718\n",
            "predicted=9057.908105, expected=9674.391794\n",
            "predicted=9845.965728, expected=9587.716997\n",
            "predicted=9524.478928, expected=9366.158217\n",
            "predicted=9315.670859, expected=9305.204678\n",
            "predicted=9307.896277, expected=9125.862576\n",
            "predicted=9055.589598, expected=9264.517330\n",
            "predicted=9358.416148, expected=9186.536217\n",
            "predicted=9170.080793, expected=9489.093154\n",
            "predicted=9637.532923, expected=11098.377740\n",
            "predicted=11702.260130, expected=11541.937874\n",
            "predicted=11594.299658, expected=11718.579320\n",
            "predicted=11801.533995, expected=11823.333962\n",
            "predicted=11799.509927, expected=11508.114607\n",
            "predicted=11310.744261, expected=11007.678643\n",
            "predicted=10837.058580, expected=10271.902013\n",
            "predicted=10029.911603, expected=10846.236586\n",
            "predicted=11139.337204, expected=10590.445240\n",
            "predicted=10487.761283, expected=10684.209594\n",
            "predicted=10828.328688, expected=10914.197364\n",
            "predicted=11019.195639, expected=11407.312672\n",
            "predicted=11569.569527, expected=12552.860473\n",
            "predicted=12977.861993, expected=13449.882992\n",
            "predicted=13719.152847, expected=14565.010906\n",
            "predicted=14946.274380, expected=15791.661142\n",
            "predicted=16171.804641, expected=17809.342175\n",
            "predicted=18534.251714, expected=18007.053694\n",
            "predicted=17945.807770, expected=19097.035841\n",
            "predicted=19528.367104, expected=18604.620850\n",
            "predicted=18297.488954, expected=21578.025497\n",
            "predicted=22548.778497, expected=24204.574198\n",
            "predicted=25232.249691, expected=29167.343551\n",
            "predicted=31334.096182, expected=36718.843543\n",
            "predicted=41576.061024, expected=36037.445092\n",
            "predicted=36122.588140, expected=33922.589379\n",
            "predicted=32802.423788, expected=32978.345175\n",
            "predicted=32121.504101, expected=36954.495559\n",
            "predicted=40134.476435, expected=46203.719450\n",
            "predicted=50939.479512, expected=52272.934957\n",
            "predicted=53524.075280, expected=48868.304218\n",
            "predicted=43662.581042, expected=48912.216044\n",
            "predicted=50952.978381, expected=56070.005951\n",
            "predicted=64036.062534, expected=57406.662459\n",
            "predicted=57309.305382, expected=54713.102551\n",
            "predicted=53522.793386, expected=57630.598391\n",
            "Test RMSE: 1567.136\n"
          ]
        },
        {
          "output_type": "display_data",
          "data": {
            "text/plain": [
              "<Figure size 432x288 with 1 Axes>"
            ],
            "image/png": "[encoded data removed]"
          },
          "metadata": {
            "needs_background": "light"
          }
        }
      ]
    },
    {
      "cell_type": "code",
      "source": [
        "plt.figure(figsize=(15,8))\n",
        "rmse = sqrt(mean_squared_error(test, predictions))\n",
        "print('Test RMSE: %.3f' % rmse)\n",
        "# plot forecasts against actual outcomes\n",
        "plt.plot(test)\n",
        "plt.plot(predictions, color='red')\n",
        "plt.xlabel('Days')\n",
        "plt.ylabel('$ Price')\n",
        "plt.title('Predicted vs. Actual BTC Price')\n",
        "plt.show()"
      ],
      "metadata": {
        "colab": {
          "base_uri": "https://localhost:8080/",
          "height": 0
        },
        "id": "zb5ut7Pp0CKa",
        "outputId": "93aff673-1371-4c32-abfa-441e19528f9a"
      },
      "execution_count": 21,
      "outputs": [
        {
          "output_type": "stream",
          "name": "stdout",
          "text": [
            "Test RMSE: 1567.136\n"
          ]
        },
        {
          "output_type": "display_data",
          "data": {
            "text/plain": [
              "<Figure size 1080x576 with 1 Axes>"
            ],
            "image/png": "[encoded data removed]"
          },
          "metadata": {
            "needs_background": "light"
          }
        }
      ]
    },
    {
      "cell_type": "markdown",
      "source": [],
      "metadata": {
        "id": "wGxq8PeZ1jrb"
      }
    },
    {
      "cell_type": "markdown",
      "source": [
        "##ARMIA"
      ],
      "metadata": {
        "id": "MC27R5K6199y"
      }
    },
    {
      "cell_type": "code",
      "source": [
        "from statsmodels.tsa.arima_model import ARIMA\n",
        "# method to be used later\n",
        "def difference(dataset, interval=1):\n",
        "    diff = list()\n",
        "    for i in range(interval, len(dataset)):\n",
        "        value = dataset[i] - dataset[i-interval]\n",
        "        diff.append(value)\n",
        "    return np.array(diff)\n",
        "\n",
        "def inverse_difference(history, yhat, interval=1):\n",
        "    return yhat + history[-interval]"
      ],
      "metadata": {
        "id": "yRJRNBpL1_5n"
      },
      "execution_count": 22,
      "outputs": []
    },
    {
      "cell_type": "code",
      "source": [
        "datesX = df.index\n",
        "weekly_in_year = 52\n",
        "plotDates = datesX[418:len(df)]\n",
        "\n",
        "# Next we will forecast with ARIMA \n",
        "differenced = difference(train_data_ARIMA, weekly_in_year)\n",
        "model = ARIMA(differenced, order=(9, 2, 0))\n",
        "model_fit = model.fit()\n",
        "start_index = len(differenced)\n",
        "end_index = start_index + len(test_data_ARIMA)-1\n",
        "forecast = model_fit.predict(start=start_index, end=end_index)\n",
        "history = [x for x in train_data_ARIMA]\n",
        "week = 1\n",
        "predicted_results = list()\n",
        "\n",
        "# store predicted results \n",
        "for yhat in forecast:\n",
        "    inverted = inverse_difference(history, yhat, weekly_in_year)\n",
        "    print(\"Predicted week %d: %f\" % (week, inverted))\n",
        "    history.append(inverted)\n",
        "    predicted_results.append(inverted)\n",
        "    week += 1\n",
        "\n",
        "# print(len(differenced),len(train_data_ARIMA))"
      ],
      "metadata": {
        "id": "JUc38KR53TX1",
        "colab": {
          "base_uri": "https://localhost:8080/"
        },
        "outputId": "fdc53fcc-fef8-485a-a6d0-bed29051548e"
      },
      "execution_count": 23,
      "outputs": [
        {
          "output_type": "stream",
          "name": "stderr",
          "text": [
            "/usr/local/lib/python3.8/dist-packages/statsmodels/tsa/arima_model.py:472: FutureWarning: \n",
            "statsmodels.tsa.arima_model.ARMA and statsmodels.tsa.arima_model.ARIMA have\n",
            "been deprecated in favor of statsmodels.tsa.arima.model.ARIMA (note the .\n",
            "between arima and model) and\n",
            "statsmodels.tsa.SARIMAX. These will be removed after the 0.12 release.\n",
            "\n",
            "statsmodels.tsa.arima.model.ARIMA makes use of the statespace framework and\n",
            "is both well tested and maintained.\n",
            "\n",
            "To silence this warning and continue using ARMA and ARIMA until they are\n",
            "removed, use:\n",
            "\n",
            "import warnings\n",
            "warnings.filterwarnings('ignore', 'statsmodels.tsa.arima_model.ARMA',\n",
            "                        FutureWarning)\n",
            "warnings.filterwarnings('ignore', 'statsmodels.tsa.arima_model.ARIMA',\n",
            "                        FutureWarning)\n",
            "\n",
            "  warnings.warn(ARIMA_DEPRECATION_WARN, FutureWarning)\n"
          ]
        },
        {
          "output_type": "stream",
          "name": "stdout",
          "text": [
            "Predicted week 1: 4005.593349\n",
            "Predicted week 2: 3532.850381\n",
            "Predicted week 3: 3740.812221\n",
            "Predicted week 4: 3542.077235\n",
            "Predicted week 5: 3178.284075\n",
            "Predicted week 6: 3735.578005\n",
            "Predicted week 7: 3546.200817\n",
            "Predicted week 8: 3771.809537\n",
            "Predicted week 9: 3798.544759\n",
            "Predicted week 10: 3900.281313\n",
            "Predicted week 11: 3859.411227\n",
            "Predicted week 12: 4074.237489\n",
            "Predicted week 13: 3977.879125\n",
            "Predicted week 14: 4823.965425\n",
            "Predicted week 15: 5142.628046\n",
            "Predicted week 16: 5257.699415\n",
            "Predicted week 17: 5299.274713\n",
            "Predicted week 18: 5452.690529\n",
            "Predicted week 19: 6213.947942\n",
            "Predicted week 20: 7719.208668\n",
            "Predicted week 21: 7943.047321\n",
            "Predicted week 22: 8644.380733\n",
            "Predicted week 23: 7929.565330\n",
            "Predicted week 24: 8306.457660\n",
            "Predicted week 25: 9726.196720\n",
            "Predicted week 26: 11678.674636\n",
            "Predicted week 27: 11131.969293\n",
            "Predicted week 28: 11781.049087\n",
            "Predicted week 29: 10295.247193\n",
            "Predicted week 30: 9896.677318\n",
            "Predicted week 31: 10152.796924\n",
            "Predicted week 32: 11683.585925\n",
            "Predicted week 33: 10540.819248\n",
            "Predicted week 34: 10309.346770\n",
            "Predicted week 35: 9833.738282\n",
            "Predicted week 36: 10453.924871\n",
            "Predicted week 37: 10250.266554\n",
            "Predicted week 38: 10125.257144\n",
            "Predicted week 39: 8612.769284\n",
            "Predicted week 40: 8170.045703\n",
            "Predicted week 41: 8318.302201\n",
            "Predicted week 42: 8090.485628\n",
            "Predicted week 43: 8318.854454\n",
            "Predicted week 44: 9270.919365\n",
            "Predicted week 45: 9130.197507\n",
            "Predicted week 46: 8638.337118\n",
            "Predicted week 47: 7738.218070\n",
            "Predicted week 48: 7357.120760\n",
            "Predicted week 49: 7379.393784\n",
            "Predicted week 50: 7233.981652\n",
            "Predicted week 51: 7036.879415\n",
            "Predicted week 52: 7297.304198\n",
            "Predicted week 53: 4005.282655\n",
            "Predicted week 54: 3533.964150\n",
            "Predicted week 55: 3740.524708\n",
            "Predicted week 56: 3543.023033\n",
            "Predicted week 57: 3178.126929\n",
            "Predicted week 58: 3736.475875\n",
            "Predicted week 59: 3546.140434\n",
            "Predicted week 60: 3772.602431\n",
            "Predicted week 61: 3798.541923\n",
            "Predicted week 62: 3901.022100\n",
            "Predicted week 63: 3859.494246\n",
            "Predicted week 64: 4074.926986\n",
            "Predicted week 65: 3977.997471\n",
            "Predicted week 66: 4824.591288\n"
          ]
        }
      ]
    },
    {
      "cell_type": "code",
      "source": [
        "def ARIMA_MSE(p,q,t):\n",
        "  model = ARIMA(differenced, order=(p, q, t))\n",
        "  model_fit = model.fit()\n",
        "  start_index = len(differenced)\n",
        "  end_index = start_index + len(test_data_ARIMA)-1\n",
        "  forecast = model_fit.predict(start=start_index, end=end_index)\n",
        "  history = [x for x in train_data_ARIMA]\n",
        "  week = 1\n",
        "  predicted_results = list()\n",
        "  for yhat in forecast:\n",
        "    inverted = inverse_difference(history, yhat, weekly_in_year)\n",
        "    # print(\"Predicted week %d: %f\" % (week, inverted))\n",
        "    history.append(inverted)\n",
        "    predicted_results.append(inverted)\n",
        "    week += 1\n",
        "  rmse = np.sqrt(mean_squared_error(test_data_ARIMA, predicted_results))\n",
        "  print('Test RMSE:'f'{p,q,t} %.3f' % rmse)"
      ],
      "metadata": {
        "id": "8VFX6IEK1m4R"
      },
      "execution_count": 24,
      "outputs": []
    },
    {
      "cell_type": "code",
      "source": [
        "def ARIMA_AIC(p,q,t):\n",
        "  model = ARIMA(differenced, order=(p, q, t))\n",
        "  model_fit = model.fit()\n",
        "  start_index = len(differenced)\n",
        "  end_index = start_index + len(test_data_ARIMA)-1\n",
        "  forecast = model_fit.predict(start=start_index, end=end_index)\n",
        "  history = [x for x in train_data_ARIMA]\n",
        "  week = 1\n",
        "  predicted_results = list()\n",
        "  for yhat in forecast:\n",
        "    inverted = inverse_difference(history, yhat, weekly_in_year)\n",
        "    # print(\"Predicted week %d: %f\" % (week, inverted))\n",
        "    history.append(inverted)\n",
        "    predicted_results.append(inverted)\n",
        "    week += 1\n",
        "  # rmse = np.sqrt(mean_squared_error(test_data_ARIMA, predicted_results))\n",
        "  AIC =model_fit.aic\n",
        "  print('Test AIC:'f'{p,q,t} %.3f' % AIC)\n"
      ],
      "metadata": {
        "id": "Ja-o6IZ46Nof"
      },
      "execution_count": 25,
      "outputs": []
    },
    {
      "cell_type": "code",
      "source": [
        "import warnings\n",
        "\n",
        "warnings.filterwarnings(\"ignore\")\n",
        "for p in range(10):\n",
        "  for q in range(1,3):\n",
        "    for t in range(3):\n",
        "      ARIMA_AIC(p,q,t)"
      ],
      "metadata": {
        "id": "QIkMHBF26aMa",
        "colab": {
          "base_uri": "https://localhost:8080/"
        },
        "outputId": "eeaf6fb8-98df-4f84-9f5f-a4883fe598c4"
      },
      "execution_count": 26,
      "outputs": [
        {
          "output_type": "stream",
          "name": "stdout",
          "text": [
            "Test AIC:(0, 1, 0) 5828.036\n",
            "Test AIC:(0, 1, 1) 5765.878\n",
            "Test AIC:(0, 1, 2) 5766.795\n",
            "Test AIC:(0, 2, 0) 5885.831\n",
            "Test AIC:(0, 2, 1) 5821.215\n",
            "Test AIC:(0, 2, 2) 5758.282\n",
            "Test AIC:(1, 1, 0) 5770.206\n",
            "Test AIC:(1, 1, 1) 5766.744\n",
            "Test AIC:(1, 1, 2) 5752.749\n",
            "Test AIC:(1, 2, 0) 5867.539\n",
            "Test AIC:(1, 2, 1) 5762.310\n",
            "Test AIC:(1, 2, 2) 5759.030\n",
            "Test AIC:(2, 1, 0) 5768.256\n",
            "Test AIC:(2, 1, 1) 5768.697\n",
            "Test AIC:(2, 1, 2) 5740.515\n",
            "Test AIC:(2, 2, 0) 5829.792\n",
            "Test AIC:(2, 2, 1) 5760.559\n",
            "Test AIC:(2, 2, 2) 5764.484\n",
            "Test AIC:(3, 1, 0) 5768.595\n",
            "Test AIC:(3, 1, 1) 5767.742\n",
            "Test AIC:(3, 1, 2) 5740.148\n",
            "Test AIC:(3, 2, 0) 5825.616\n",
            "Test AIC:(3, 2, 1) 5760.764\n",
            "Test AIC:(3, 2, 2) 5760.089\n",
            "Test AIC:(4, 1, 0) 5768.427\n",
            "Test AIC:(4, 1, 1) 5763.972\n",
            "Test AIC:(4, 1, 2) 5737.626\n",
            "Test AIC:(4, 2, 0) 5819.604\n",
            "Test AIC:(4, 2, 1) 5760.744\n",
            "Test AIC:(4, 2, 2) 5756.068\n",
            "Test AIC:(5, 1, 0) 5769.753\n",
            "Test AIC:(5, 1, 1) 5752.164\n",
            "Test AIC:(5, 1, 2) 5734.587\n",
            "Test AIC:(5, 2, 0) 5785.052\n",
            "Test AIC:(5, 2, 1) 5772.091\n",
            "Test AIC:(5, 2, 2) 5744.648\n",
            "Test AIC:(6, 1, 0) 5760.848\n",
            "Test AIC:(6, 1, 1) 5742.185\n",
            "Test AIC:(6, 1, 2) 5734.264\n",
            "Test AIC:(6, 2, 0) 5781.196\n",
            "Test AIC:(6, 2, 1) 5774.042\n",
            "Test AIC:(6, 2, 2) 5734.293\n",
            "Test AIC:(7, 1, 0) 5737.795\n",
            "Test AIC:(7, 1, 1) 5735.473\n",
            "Test AIC:(7, 1, 2) 5735.567\n",
            "Test AIC:(7, 2, 0) 5761.443\n",
            "Test AIC:(7, 2, 1) 5730.361\n",
            "Test AIC:(7, 2, 2) 5727.915\n",
            "Test AIC:(8, 1, 0) 5735.646\n",
            "Test AIC:(8, 1, 1) 5737.304\n",
            "Test AIC:(8, 1, 2) 5736.560\n",
            "Test AIC:(8, 2, 0) 5760.608\n",
            "Test AIC:(8, 2, 1) 5728.002\n",
            "Test AIC:(8, 2, 2) 5729.701\n",
            "Test AIC:(9, 1, 0) 5737.454\n",
            "Test AIC:(9, 1, 1) 5739.295\n",
            "Test AIC:(9, 1, 2) 5727.625\n",
            "Test AIC:(9, 2, 0) 5752.735\n",
            "Test AIC:(9, 2, 1) 5729.852\n",
            "Test AIC:(9, 2, 2) 5731.959\n"
          ]
        }
      ]
    },
    {
      "cell_type": "code",
      "source": [
        "import statsmodels.api as sm\n",
        "\n",
        "def ARIMA_MSE(p,q,t):\n",
        "  model = sm.tsa.arima.ARIMA(differenced, order=(p, q, t))\n",
        "  model_fit = model.fit()\n",
        "  start_index = len(differenced)\n",
        "  end_index = start_index + len(test_data_ARIMA)-1\n",
        "  forecast = model_fit.predict(start=start_index, end=end_index)\n",
        "  history = [x for x in train_data_ARIMA]\n",
        "  week = 1\n",
        "  predicted_results = list()\n",
        "  for yhat in forecast:\n",
        "    inverted = inverse_difference(history, yhat, weekly_in_year)\n",
        "    # print(\"Predicted week %d: %f\" % (week, inverted))\n",
        "    history.append(inverted)\n",
        "    predicted_results.append(inverted)\n",
        "    week += 1\n",
        "  rmse = np.sqrt(mean_squared_error(test_data_ARIMA, predicted_results))\n",
        "  print('Test RMSE:'f'{p,q,t} %.3f' % rmse)\n",
        "  return rmse"
      ],
      "metadata": {
        "id": "R-t3OGAQ2-LY"
      },
      "execution_count": 27,
      "outputs": []
    },
    {
      "cell_type": "code",
      "source": [
        "import warnings\n",
        "mes_list = []\n",
        "warnings.filterwarnings(\"ignore\")\n",
        "for p in range(20):\n",
        "  for q in range(1,3):\n",
        "    for t in range(3):\n",
        "      c= ARIMA_MSE(p,q,t)\n",
        "      mes_list.append(c)\n"
      ],
      "metadata": {
        "id": "Zhvwwk2G2PvR",
        "colab": {
          "base_uri": "https://localhost:8080/"
        },
        "outputId": "d3c71d0a-5080-4ff7-88a2-a738d3dc8e96"
      },
      "execution_count": 28,
      "outputs": [
        {
          "output_type": "stream",
          "name": "stdout",
          "text": [
            "Test RMSE:(0, 1, 0) 16689.015\n",
            "Test RMSE:(0, 1, 1) 16525.947\n",
            "Test RMSE:(0, 1, 2) 16513.371\n",
            "Test RMSE:(0, 2, 0) 11914.189\n",
            "Test RMSE:(0, 2, 1) 14838.822\n",
            "Test RMSE:(0, 2, 2) 16224.248\n",
            "Test RMSE:(1, 1, 0) 16583.272\n",
            "Test RMSE:(1, 1, 1) 16515.946\n",
            "Test RMSE:(1, 1, 2) 16513.034\n",
            "Test RMSE:(1, 2, 0) 15575.233\n",
            "Test RMSE:(1, 2, 1) 16288.667\n",
            "Test RMSE:(1, 2, 2) 16213.842\n",
            "Test RMSE:(2, 1, 0) 16523.929\n",
            "Test RMSE:(2, 1, 1) 16519.282\n",
            "Test RMSE:(2, 1, 2) 16511.365\n",
            "Test RMSE:(2, 2, 0) 15546.240\n",
            "Test RMSE:(2, 2, 1) 16222.918\n",
            "Test RMSE:(2, 2, 2) 16218.200\n",
            "Test RMSE:(3, 1, 0) 16516.823\n",
            "Test RMSE:(3, 1, 1) 16522.117\n",
            "Test RMSE:(3, 1, 2) 16384.043\n",
            "Test RMSE:(3, 2, 0) 15152.393\n",
            "Test RMSE:(3, 2, 1) 16217.448\n",
            "Test RMSE:(3, 2, 2) 16310.025\n",
            "Test RMSE:(4, 1, 0) 16545.140\n",
            "Test RMSE:(4, 1, 1) 16549.714\n",
            "Test RMSE:(4, 1, 2) 16390.185\n",
            "Test RMSE:(4, 2, 0) 15061.114\n",
            "Test RMSE:(4, 2, 1) 16244.072\n",
            "Test RMSE:(4, 2, 2) 16281.913\n",
            "Test RMSE:(5, 1, 0) 16556.137\n",
            "Test RMSE:(5, 1, 1) 16569.569\n",
            "Test RMSE:(5, 1, 2) 16563.789\n",
            "Test RMSE:(5, 2, 0) 13504.650\n",
            "Test RMSE:(5, 2, 1) 13812.996\n",
            "Test RMSE:(5, 2, 2) 12846.932\n",
            "Test RMSE:(6, 1, 0) 16384.728\n",
            "Test RMSE:(6, 1, 1) 16425.381\n",
            "Test RMSE:(6, 1, 2) 16495.303\n",
            "Test RMSE:(6, 2, 0) 13476.561\n",
            "Test RMSE:(6, 2, 1) 13823.023\n",
            "Test RMSE:(6, 2, 2) 16117.154\n",
            "Test RMSE:(7, 1, 0) 16539.812\n",
            "Test RMSE:(7, 1, 1) 16532.769\n",
            "Test RMSE:(7, 1, 2) 16521.418\n",
            "Test RMSE:(7, 2, 0) 13520.705\n",
            "Test RMSE:(7, 2, 1) 16226.864\n",
            "Test RMSE:(7, 2, 2) 16223.398\n",
            "Test RMSE:(8, 1, 0) 16474.947\n",
            "Test RMSE:(8, 1, 1) 16515.626\n",
            "Test RMSE:(8, 1, 2) 16541.539\n",
            "Test RMSE:(8, 2, 0) 12975.421\n",
            "Test RMSE:(8, 2, 1) 16160.093\n",
            "Test RMSE:(8, 2, 2) 16172.888\n",
            "Test RMSE:(9, 1, 0) 16516.382\n",
            "Test RMSE:(9, 1, 1) 16522.220\n",
            "Test RMSE:(9, 1, 2) 16446.783\n",
            "Test RMSE:(9, 2, 0) 12736.153\n",
            "Test RMSE:(9, 2, 1) 16199.127\n",
            "Test RMSE:(9, 2, 2) 16163.361\n",
            "Test RMSE:(10, 1, 0) 16422.571\n",
            "Test RMSE:(10, 1, 1) 16362.314\n",
            "Test RMSE:(10, 1, 2) 16306.384\n",
            "Test RMSE:(10, 2, 0) 12687.442\n",
            "Test RMSE:(10, 2, 1) 12735.940\n",
            "Test RMSE:(10, 2, 2) 16168.165\n",
            "Test RMSE:(11, 1, 0) 16274.282\n",
            "Test RMSE:(11, 1, 1) 16313.487\n",
            "Test RMSE:(11, 1, 2) 16176.439\n",
            "Test RMSE:(11, 2, 0) 12739.182\n",
            "Test RMSE:(11, 2, 1) 12747.767\n",
            "Test RMSE:(11, 2, 2) 15967.827\n",
            "Test RMSE:(12, 1, 0) 16470.964\n",
            "Test RMSE:(12, 1, 1) 16492.389\n",
            "Test RMSE:(12, 1, 2) 16178.497\n",
            "Test RMSE:(12, 2, 0) 12787.159\n",
            "Test RMSE:(12, 2, 1) 16141.189\n",
            "Test RMSE:(12, 2, 2) 16178.172\n",
            "Test RMSE:(13, 1, 0) 16511.316\n",
            "Test RMSE:(13, 1, 1) 16519.029\n",
            "Test RMSE:(13, 1, 2) 16518.968\n",
            "Test RMSE:(13, 2, 0) 13424.763\n",
            "Test RMSE:(13, 2, 1) 16181.439\n",
            "Test RMSE:(13, 2, 2) 16187.014\n",
            "Test RMSE:(14, 1, 0) 16518.247\n",
            "Test RMSE:(14, 1, 1) 16519.089\n",
            "Test RMSE:(14, 1, 2) 16518.906\n",
            "Test RMSE:(14, 2, 0) 13671.097\n",
            "Test RMSE:(14, 2, 1) 16191.508\n",
            "Test RMSE:(14, 2, 2) 16241.075\n",
            "Test RMSE:(15, 1, 0) 16496.298\n",
            "Test RMSE:(15, 1, 1) 16492.140\n",
            "Test RMSE:(15, 1, 2) 16205.442\n",
            "Test RMSE:(15, 2, 0) 13776.280\n",
            "Test RMSE:(15, 2, 1) 16167.615\n",
            "Test RMSE:(15, 2, 2) 16204.164\n",
            "Test RMSE:(16, 1, 0) 16483.777\n",
            "Test RMSE:(16, 1, 1) 16471.017\n",
            "Test RMSE:(16, 1, 2) 16100.518\n",
            "Test RMSE:(16, 2, 0) 13729.737\n",
            "Test RMSE:(16, 2, 1) 15337.026\n",
            "Test RMSE:(16, 2, 2) 16127.921\n",
            "Test RMSE:(17, 1, 0) 16431.619\n",
            "Test RMSE:(17, 1, 1) 16489.084\n",
            "Test RMSE:(17, 1, 2) 16259.789\n",
            "Test RMSE:(17, 2, 0) 14948.650\n",
            "Test RMSE:(17, 2, 1) 15571.359\n",
            "Test RMSE:(17, 2, 2) 15983.693\n",
            "Test RMSE:(18, 1, 0) 16561.588\n",
            "Test RMSE:(18, 1, 1) 16625.035\n",
            "Test RMSE:(18, 1, 2) 16682.963\n",
            "Test RMSE:(18, 2, 0) 15113.017\n",
            "Test RMSE:(18, 2, 1) 16248.613\n",
            "Test RMSE:(18, 2, 2) 16291.857\n",
            "Test RMSE:(19, 1, 0) 16546.379\n",
            "Test RMSE:(19, 1, 1) 16636.263\n",
            "Test RMSE:(19, 1, 2) 16665.095\n",
            "Test RMSE:(19, 2, 0) 16080.820\n",
            "Test RMSE:(19, 2, 1) 16284.978\n",
            "Test RMSE:(19, 2, 2) 16249.223\n"
          ]
        }
      ]
    },
    {
      "cell_type": "code",
      "source": [
        "min(mes_list)"
      ],
      "metadata": {
        "colab": {
          "base_uri": "https://localhost:8080/"
        },
        "id": "8vqHAEJgrgk0",
        "outputId": "3866ae21-d947-4d30-deeb-358c6da0280a"
      },
      "execution_count": 29,
      "outputs": [
        {
          "output_type": "execute_result",
          "data": {
            "text/plain": [
              "11914.188542834914"
            ]
          },
          "metadata": {},
          "execution_count": 29
        }
      ]
    },
    {
      "cell_type": "code",
      "source": [
        "import warnings\n",
        "mes_list = []\n",
        "warnings.filterwarnings(\"ignore\")\n",
        "for p in range(10):\n",
        "  for q in range(1,3):\n",
        "    for t in range(3):\n",
        "      ARIMA_AIC(p,q,t)\n",
        "      # mes_list.append(rmse)\n"
      ],
      "metadata": {
        "colab": {
          "base_uri": "https://localhost:8080/"
        },
        "id": "rXE6hYw2l93T",
        "outputId": "5218b314-f49f-43b4-d96d-1efb3fcf3f4d"
      },
      "execution_count": 30,
      "outputs": [
        {
          "output_type": "stream",
          "name": "stdout",
          "text": [
            "Test AIC:(0, 1, 0) 5828.036\n",
            "Test AIC:(0, 1, 1) 5765.878\n",
            "Test AIC:(0, 1, 2) 5766.795\n",
            "Test AIC:(0, 2, 0) 5885.831\n",
            "Test AIC:(0, 2, 1) 5821.215\n",
            "Test AIC:(0, 2, 2) 5758.282\n",
            "Test AIC:(1, 1, 0) 5770.206\n",
            "Test AIC:(1, 1, 1) 5766.744\n",
            "Test AIC:(1, 1, 2) 5752.749\n",
            "Test AIC:(1, 2, 0) 5867.539\n",
            "Test AIC:(1, 2, 1) 5762.310\n",
            "Test AIC:(1, 2, 2) 5759.030\n",
            "Test AIC:(2, 1, 0) 5768.256\n",
            "Test AIC:(2, 1, 1) 5768.697\n",
            "Test AIC:(2, 1, 2) 5740.515\n",
            "Test AIC:(2, 2, 0) 5829.792\n",
            "Test AIC:(2, 2, 1) 5760.559\n",
            "Test AIC:(2, 2, 2) 5764.484\n",
            "Test AIC:(3, 1, 0) 5768.595\n",
            "Test AIC:(3, 1, 1) 5767.742\n",
            "Test AIC:(3, 1, 2) 5740.148\n",
            "Test AIC:(3, 2, 0) 5825.616\n",
            "Test AIC:(3, 2, 1) 5760.764\n",
            "Test AIC:(3, 2, 2) 5760.089\n",
            "Test AIC:(4, 1, 0) 5768.427\n",
            "Test AIC:(4, 1, 1) 5763.972\n",
            "Test AIC:(4, 1, 2) 5737.626\n",
            "Test AIC:(4, 2, 0) 5819.604\n",
            "Test AIC:(4, 2, 1) 5760.744\n",
            "Test AIC:(4, 2, 2) 5756.068\n",
            "Test AIC:(5, 1, 0) 5769.753\n",
            "Test AIC:(5, 1, 1) 5752.164\n",
            "Test AIC:(5, 1, 2) 5734.587\n",
            "Test AIC:(5, 2, 0) 5785.052\n",
            "Test AIC:(5, 2, 1) 5772.091\n",
            "Test AIC:(5, 2, 2) 5744.648\n",
            "Test AIC:(6, 1, 0) 5760.848\n",
            "Test AIC:(6, 1, 1) 5742.185\n",
            "Test AIC:(6, 1, 2) 5734.264\n",
            "Test AIC:(6, 2, 0) 5781.196\n",
            "Test AIC:(6, 2, 1) 5774.042\n",
            "Test AIC:(6, 2, 2) 5734.293\n",
            "Test AIC:(7, 1, 0) 5737.795\n",
            "Test AIC:(7, 1, 1) 5735.473\n",
            "Test AIC:(7, 1, 2) 5735.567\n",
            "Test AIC:(7, 2, 0) 5761.443\n",
            "Test AIC:(7, 2, 1) 5730.361\n",
            "Test AIC:(7, 2, 2) 5727.915\n",
            "Test AIC:(8, 1, 0) 5735.646\n",
            "Test AIC:(8, 1, 1) 5737.304\n",
            "Test AIC:(8, 1, 2) 5736.560\n",
            "Test AIC:(8, 2, 0) 5760.608\n",
            "Test AIC:(8, 2, 1) 5728.002\n",
            "Test AIC:(8, 2, 2) 5729.701\n",
            "Test AIC:(9, 1, 0) 5737.454\n",
            "Test AIC:(9, 1, 1) 5739.295\n",
            "Test AIC:(9, 1, 2) 5727.625\n",
            "Test AIC:(9, 2, 0) 5752.735\n",
            "Test AIC:(9, 2, 1) 5729.852\n",
            "Test AIC:(9, 2, 2) 5731.959\n"
          ]
        }
      ]
    },
    {
      "cell_type": "code",
      "source": [
        "mes_list"
      ],
      "metadata": {
        "id": "affQKeqYkNxQ",
        "colab": {
          "base_uri": "https://localhost:8080/"
        },
        "outputId": "1d1e0b42-abe6-42d0-8658-2b06cdd5bc88"
      },
      "execution_count": 31,
      "outputs": [
        {
          "output_type": "execute_result",
          "data": {
            "text/plain": [
              "[]"
            ]
          },
          "metadata": {},
          "execution_count": 31
        }
      ]
    },
    {
      "cell_type": "code",
      "source": [
        "model = sm.tsa.arima.ARIMA(differenced, order=(0,2,0))\n",
        "model_fit = model.fit()\n",
        "start_index = len(differenced)\n",
        "end_index = start_index + len(test_data_ARIMA)-1\n",
        "forecast = model_fit.predict(start=start_index, end=end_index)\n",
        "history = [x for x in train_data_ARIMA]\n",
        "week = 1\n",
        "predicted_results = list()\n",
        "for yhat in forecast:\n",
        "  inverted = inverse_difference(history, yhat, weekly_in_year)\n",
        "  # print(\"Predicted week %d: %f\" % (week, inverted))\n",
        "  history.append(inverted)\n",
        "  predicted_results.append(inverted)\n",
        "  week += 1\n",
        "rmse = np.sqrt(mean_squared_error(test_data_ARIMA, predicted_results))\n",
        "print('Test RMSE:'f'{p,q,t} %.3f' % rmse)"
      ],
      "metadata": {
        "colab": {
          "base_uri": "https://localhost:8080/"
        },
        "id": "p6giHwe_7z_s",
        "outputId": "9adb8db8-47e3-4034-8c0d-55fe604c5dad"
      },
      "execution_count": 32,
      "outputs": [
        {
          "output_type": "stream",
          "name": "stdout",
          "text": [
            "Test RMSE:(9, 2, 2) 11914.189\n"
          ]
        }
      ]
    },
    {
      "cell_type": "code",
      "source": [],
      "metadata": {
        "id": "rsyUWRRNCYRy"
      },
      "execution_count": 32,
      "outputs": []
    },
    {
      "cell_type": "code",
      "source": [
        "print(len(df_for_prove),len(train_data_ARIMA),len(test_data_ARIMA),len(predicted_results))"
      ],
      "metadata": {
        "colab": {
          "base_uri": "https://localhost:8080/"
        },
        "id": "U9C3qq1F4Qfs",
        "outputId": "007d2599-9574-4e5b-f40a-8525383bbaa8"
      },
      "execution_count": 33,
      "outputs": [
        {
          "output_type": "stream",
          "name": "stdout",
          "text": [
            "484 418 66 66\n"
          ]
        }
      ]
    },
    {
      "cell_type": "code",
      "source": [
        "rmse = np.sqrt(mean_squared_error(test_data_ARIMA, predicted_results))\n",
        "print('Test RMSE: %.3f' % rmse)"
      ],
      "metadata": {
        "colab": {
          "base_uri": "https://localhost:8080/"
        },
        "id": "Kjtuqjm94DKp",
        "outputId": "a5444867-549a-45d5-c079-f098998efe89"
      },
      "execution_count": 34,
      "outputs": [
        {
          "output_type": "stream",
          "name": "stdout",
          "text": [
            "Test RMSE: 11914.189\n"
          ]
        }
      ]
    },
    {
      "cell_type": "code",
      "source": [
        "print(model_fit.summary())\n",
        "# line plot of residuals\n",
        "residuals = pd.DataFrame(model_fit.resid)\n",
        "residuals.plot()\n",
        "plt.show()\n",
        "# density plot of residuals\n",
        "residuals.plot(kind='kde')\n",
        "plt.show()\n",
        "# summary stats of residuals\n",
        "print(residuals.describe())"
      ],
      "metadata": {
        "colab": {
          "base_uri": "https://localhost:8080/",
          "height": 1000
        },
        "id": "rX2k_D6o9a9M",
        "outputId": "524de372-42e1-4b16-e059-9637dddfb07c"
      },
      "execution_count": 35,
      "outputs": [
        {
          "output_type": "stream",
          "name": "stdout",
          "text": [
            "                               SARIMAX Results                                \n",
            "==============================================================================\n",
            "Dep. Variable:                      y   No. Observations:                  366\n",
            "Model:                 ARIMA(0, 2, 0)   Log Likelihood               -2940.918\n",
            "Date:                Mon, 26 Dec 2022   AIC                           5883.837\n",
            "Time:                        09:02:43   BIC                           5887.734\n",
            "Sample:                             0   HQIC                          5885.386\n",
            "                                - 366                                         \n",
            "Covariance Type:                  opg                                         \n",
            "==============================================================================\n",
            "                 coef    std err          z      P>|z|      [0.025      0.975]\n",
            "------------------------------------------------------------------------------\n",
            "sigma2      6.065e+05   1.52e+04     39.990      0.000    5.77e+05    6.36e+05\n",
            "===================================================================================\n",
            "Ljung-Box (L1) (Q):                  19.89   Jarque-Bera (JB):              3589.52\n",
            "Prob(Q):                              0.00   Prob(JB):                         0.00\n",
            "Heteroskedasticity (H):             294.50   Skew:                            -0.11\n",
            "Prob(H) (two-sided):                  0.00   Kurtosis:                        18.38\n",
            "===================================================================================\n",
            "\n",
            "Warnings:\n",
            "[1] Covariance matrix calculated using the outer product of gradients (complex-step).\n"
          ]
        },
        {
          "output_type": "display_data",
          "data": {
            "text/plain": [
              "<Figure size 432x288 with 1 Axes>"
            ],
            "image/png": "[encoded data removed]"
          },
          "metadata": {
            "needs_background": "light"
          }
        },
        {
          "output_type": "display_data",
          "data": {
            "text/plain": [
              "<Figure size 432x288 with 1 Axes>"
            ],
            "image/png": "[encoded data removed]"
          },
          "metadata": {
            "needs_background": "light"
          }
        },
        {
          "output_type": "stream",
          "name": "stdout",
          "text": [
            "                 0\n",
            "count   366.000000\n",
            "mean      0.541391\n",
            "std     779.870991\n",
            "min   -4918.076408\n",
            "25%     -49.013252\n",
            "50%       2.026347\n",
            "75%      76.993361\n",
            "max    5637.668685\n"
          ]
        }
      ]
    },
    {
      "cell_type": "code",
      "source": [
        "plt.figure(figsize=(13,10))\n",
        "plt.plot(test_data.Timestamp, test_data_ARIMA, label='Expected')\n",
        "plt.plot(test_data.Timestamp, predicted_results, label='Predicted')\n",
        "plt.ylabel('$ Price')\n",
        "plt.xlabel('Date')\n",
        "plt.legend(loc='best')\n",
        "plt.title('Predicted and Expected BTC Price (ARIMA)')\n",
        "plt.show()"
      ],
      "metadata": {
        "colab": {
          "base_uri": "https://localhost:8080/",
          "height": 621
        },
        "id": "CBHHWYpa9iNW",
        "outputId": "4a8c178a-e3b4-4edb-ec46-43c5b5d6615b"
      },
      "execution_count": 36,
      "outputs": [
        {
          "output_type": "display_data",
          "data": {
            "text/plain": [
              "<Figure size 936x720 with 1 Axes>"
            ],
            "image/png": "[encoded data removed]"
          },
          "metadata": {
            "needs_background": "light"
          }
        }
      ]
    },
    {
      "cell_type": "code",
      "source": [],
      "metadata": {
        "id": "anVZvNbpDWKY"
      },
      "execution_count": 36,
      "outputs": []
    }
  ]
}